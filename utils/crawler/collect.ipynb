{
 "cells": [
  {
   "cell_type": "markdown",
   "metadata": {},
   "source": [
    "# Pixiv Craw"
   ]
  },
  {
   "cell_type": "markdown",
   "metadata": {},
   "source": [
    "> - ### import repos"
   ]
  },
  {
   "cell_type": "code",
   "execution_count": 10,
   "metadata": {},
   "outputs": [],
   "source": [
    "import requests\n",
    "import json\n",
    "from tqdm import tqdm\n",
    "from pixiv_crawler.downloader.downloader import Downloader\n",
    "from pixiv_crawler.config import NETWORK_CONFIG, MODE_CONFIG, USER_CONFIG"
   ]
  },
  {
   "cell_type": "markdown",
   "metadata": {},
   "source": [
    "> - ### 按照artist的id来craw"
   ]
  },
  {
   "cell_type": "markdown",
   "metadata": {},
   "source": [
    "1.1 按照画师的id进行爬取（后续会添加函数 按照排名，标签进行爬取）"
   ]
  },
  {
   "cell_type": "code",
   "execution_count": 11,
   "metadata": {},
   "outputs": [],
   "source": [
    "def fetch_artist_works(artist_id, category):\n",
    "    # pixiv 的请求返回一般有两种，一种是漫画，一种是插画，还有其他的我懒得搞了，毕竟用的人很少（笑）\n",
    "    if category not in [\"illusts\", \"manga\"]:\n",
    "        raise ValueError(\"Invalid category. Use 'illustrations' or 'manga'.\")\n",
    "\n",
    "    url = f\"https://www.pixiv.net/ajax/user/{artist_id}/profile/all?lang=zh\"\n",
    "\n",
    "    additional_headers = {\n",
    "        \"x-user-id\": \"100485309\",\n",
    "        \"COOKIE\": \"first_visit_datetime_pc=2023-11-14%2021%3A14%3A16; p_ab_id=2; p_ab_id_2=5; p_ab_d_id=71834117; __utmz=235335808.1699964057.1.1.utmcsr=(direct)|utmccn=(direct)|utmcmd=(none); _fbp=fb.1.1699964058282.1477207184; yuid_b=ExEzmCA; _gid=GA1.2.850018427.1699964127; _im_vid=01HF6W467E25MGXNXPJHEWPTDQ; device_token=dccafc93aaa8692c65f392c9a7ab00d2; privacy_policy_agreement=6; _ga_MZ1NL4PHH0=GS1.1.1699964577.1.0.1699964580.0.0.0; privacy_policy_notification=0; a_type=0; b_type=1; QSI_S_ZN_5hF4My7Ad6VNNAi=v:0:0; __cf_bm=EcdCq6u9Cawg5WGif5GMjKPfagY8Cn8LOorJQIztgy4-1699977997-0-ASiN6tdcrdSeVoHG+HLRzr4ie44p7eGBLLwf9926P50W+qVTe85kjNknXeTyrx0vQD5R1IFLtLWkOdggMgKe8eCw18QCPpazQ8PGIcyD5i1g; __utma=235335808.537133348.1699964057.1699964057.1699977999.2; __utmc=235335808; __utmt=1; cf_clearance=IS1KlIfrIWG0DyX6j9cU2VDiL2fgV5dfE7a4e3qhBwg-1699977998-0-1-91f80494.de9dec2c.c6f95b74-0.2.1699977998; PHPSESSID=100485309_FWeAxy5e9SMySeu4tvDPCSnMaDbMzocj; c_type=29; __utmv=235335808.|2=login%20ever=no=1^3=plan=premium=1^5=gender=male=1^6=user_id=100485309=1^9=p_ab_id=2=1^10=p_ab_id_2=5=1^11=lang=zh=1; __utmb=235335808.5.10.1699977999; _ga_75BBYNYN9J=GS1.1.1699977999.3.1.1699978046.0.0.0; _ga=GA1.2.362165901.1699964058\"\n",
    "    }\n",
    "\n",
    "    if category == \"illusts\":\n",
    "        additional_headers[\"Referer\"] = f\"https://www.pixiv.net/users/{artist_id}/illustrations\"\n",
    "    elif category == \"manga\":\n",
    "        additional_headers[\"Referer\"] = f\"https://www.pixiv.net/users/{artist_id}/manga\"\n",
    "\n",
    "    headers = {\n",
    "        \"User-Agent\": \"Mozilla/5.0 (Windows NT 10.0; Win64; x64) AppleWebKit/537.36 (KHTML, like Gecko) Chrome/101.0.4951.54 Safari/537.36\",\n",
    "    }\n",
    "\n",
    "    headers.update(additional_headers)\n",
    "\n",
    "    proxies = {\n",
    "        \"https\": \"127.0.0.1:7890\"\n",
    "    }\n",
    "\n",
    "    response = requests.get(url, headers=headers, proxies=proxies, timeout=4)\n",
    "\n",
    "    print(response.json())\n",
    "\n",
    "    if response.status_code == 200:\n",
    "        id_group = set(response.json()[\"body\"][category].keys())\n",
    "        return id_group"
   ]
  },
  {
   "cell_type": "code",
   "execution_count": 5,
   "metadata": {},
   "outputs": [
    {
     "name": "stdout",
     "output_type": "stream",
     "text": [
      "{'error': False, 'message': '', 'body': {'illusts': {'81225309': None, '78834571': None, '73521542': None, '70052155': None, '70024717': None, '69998496': None, '66355934': None, '64089360': None, '60474023': None, '58420472': None, '56471514': None, '54724406': None, '53859115': None, '51455457': None, '47749401': None, '44982128': None, '31957654': None}, 'manga': {'103686781': None, '100082808': None, '89532917': None, '81225213': None, '81225091': None, '78336518': None, '76053184': None, '72066662': None, '69998409': None, '66355845': None, '64089303': None, '60575412': None, '57988139': None, '53969876': None, '51907682': None, '44982929': None, '40466977': None, '37435957': None, '32202507': None}, 'novels': [], 'mangaSeries': [], 'novelSeries': [], 'pickup': [{'id': '103686781', 'title': 'C101新刊「性教育シリーズ総集編2」', 'illustType': 1, 'xRestrict': 1, 'restrict': 0, 'sl': 6, 'url': 'https://i.pximg.net/c/288x288_80_a2/img-master/img/2022/12/17/23/29/50/103686781_p0_square1200.jpg', 'description': 'サークルみくろぺえじ\\u3000二日目(３１日)東A-17a\\u3000当日は2000円＋おまけ本で頒布予定。<br />虎の穴  <a href=\"/jump.php?https%3A%2F%2Fec.toranoana.jp%2Ftora_r%2Fec%2Fitem%2F040031031805\" target=\"_blank\">https://ec.toranoana.jp/tora_r/ec/item/040031031805</a><br />メロンブックス <a href=\"/jump.php?https%3A%2F%2Fwww.melonbooks.co.jp%2Fdetail%2Fdetail.php%3Fproduct_id%3D1725318\" target=\"_blank\">https://www.melonbooks.co.jp/detail/detail.php?product_id=1725318</a><br /><br />描きおろし30P収録、電子版も予定してます。よろしくお願いします！', 'tags': ['R-18', '漫画', 'JC', '性教育', '尻神様', '足裏', '乳吸い', 'NTR'], 'userId': '3094189', 'userName': 'みくろぺえじ', 'width': 800, 'height': 1133, 'pageCount': 10, 'isBookmarkable': True, 'bookmarkData': None, 'alt': '#JC C101新刊「性教育シリーズ総集編2」 - みくろぺえじ的漫画 #漫画 #性教育 #尻神様', 'titleCaptionTranslation': {'workTitle': None, 'workCaption': None}, 'createDate': '2022-12-17T23:29:50+09:00', 'updateDate': '2022-12-17T23:29:50+09:00', 'isUnlisted': False, 'isMasked': False, 'aiType': 1, 'urls': {'250x250': 'https://i.pximg.net/c/250x250_80_a2/img-master/img/2022/12/17/23/29/50/103686781_p0_square1200.jpg', '360x360': 'https://i.pximg.net/c/360x360_70/img-master/img/2022/12/17/23/29/50/103686781_p0_square1200.jpg', '540x540': 'https://i.pximg.net/c/540x540_70/img-master/img/2022/12/17/23/29/50/103686781_p0_square1200.jpg'}, 'type': 'illust', 'deletable': True, 'draggable': True, 'contentUrl': 'https://www.pixiv.net/artworks/103686781'}], 'bookmarkCount': {'public': {'illust': 1, 'novel': 0}, 'private': {'illust': 0, 'novel': 0}}, 'externalSiteWorksStatus': {'booth': True, 'sketch': False, 'vroidHub': False}, 'request': {'showRequestTab': False, 'showRequestSentTab': False, 'postWorks': {'artworks': [], 'novels': []}}}}\n",
      "{'103686781', '60575412', '32202507', '57988139', '81225213', '78336518', '66355845', '40466977', '37435957', '44982929', '72066662', '76053184', '69998409', '81225091', '89532917', '53969876', '64089303', '51907682', '100082808'}\n",
      "{'error': False, 'message': '', 'body': {'illusts': {'81225309': None, '78834571': None, '73521542': None, '70052155': None, '70024717': None, '69998496': None, '66355934': None, '64089360': None, '60474023': None, '58420472': None, '56471514': None, '54724406': None, '53859115': None, '51455457': None, '47749401': None, '44982128': None, '31957654': None}, 'manga': {'103686781': None, '100082808': None, '89532917': None, '81225213': None, '81225091': None, '78336518': None, '76053184': None, '72066662': None, '69998409': None, '66355845': None, '64089303': None, '60575412': None, '57988139': None, '53969876': None, '51907682': None, '44982929': None, '40466977': None, '37435957': None, '32202507': None}, 'novels': [], 'mangaSeries': [], 'novelSeries': [], 'pickup': [{'id': '103686781', 'title': 'C101新刊「性教育シリーズ総集編2」', 'illustType': 1, 'xRestrict': 1, 'restrict': 0, 'sl': 6, 'url': 'https://i.pximg.net/c/288x288_80_a2/img-master/img/2022/12/17/23/29/50/103686781_p0_square1200.jpg', 'description': 'サークルみくろぺえじ\\u3000二日目(３１日)東A-17a\\u3000当日は2000円＋おまけ本で頒布予定。<br />虎の穴  <a href=\"/jump.php?https%3A%2F%2Fec.toranoana.jp%2Ftora_r%2Fec%2Fitem%2F040031031805\" target=\"_blank\">https://ec.toranoana.jp/tora_r/ec/item/040031031805</a><br />メロンブックス <a href=\"/jump.php?https%3A%2F%2Fwww.melonbooks.co.jp%2Fdetail%2Fdetail.php%3Fproduct_id%3D1725318\" target=\"_blank\">https://www.melonbooks.co.jp/detail/detail.php?product_id=1725318</a><br /><br />描きおろし30P収録、電子版も予定してます。よろしくお願いします！', 'tags': ['R-18', '漫画', 'JC', '性教育', '尻神様', '足裏', '乳吸い', 'NTR'], 'userId': '3094189', 'userName': 'みくろぺえじ', 'width': 800, 'height': 1133, 'pageCount': 10, 'isBookmarkable': True, 'bookmarkData': None, 'alt': '#JC C101新刊「性教育シリーズ総集編2」 - みくろぺえじ的漫画 #漫画 #性教育 #尻神様', 'titleCaptionTranslation': {'workTitle': None, 'workCaption': None}, 'createDate': '2022-12-17T23:29:50+09:00', 'updateDate': '2022-12-17T23:29:50+09:00', 'isUnlisted': False, 'isMasked': False, 'aiType': 1, 'urls': {'250x250': 'https://i.pximg.net/c/250x250_80_a2/img-master/img/2022/12/17/23/29/50/103686781_p0_square1200.jpg', '360x360': 'https://i.pximg.net/c/360x360_70/img-master/img/2022/12/17/23/29/50/103686781_p0_square1200.jpg', '540x540': 'https://i.pximg.net/c/540x540_70/img-master/img/2022/12/17/23/29/50/103686781_p0_square1200.jpg'}, 'type': 'illust', 'deletable': True, 'draggable': True, 'contentUrl': 'https://www.pixiv.net/artworks/103686781'}], 'bookmarkCount': {'public': {'illust': 1, 'novel': 0}, 'private': {'illust': 0, 'novel': 0}}, 'externalSiteWorksStatus': {'booth': True, 'sketch': False, 'vroidHub': False}, 'request': {'showRequestTab': False, 'showRequestSentTab': False, 'postWorks': {'artworks': [], 'novels': []}}}}\n",
      "{'103686781', '60575412', '31957654', '32202507', '57988139', '81225213', '78336518', '66355845', '70052155', '56471514', '40466977', '54724406', '78834571', '70024717', '37435957', '44982929', '72066662', '76053184', '58420472', '69998409', '69998496', '81225091', '73521542', '89532917', '47749401', '60474023', '44982128', '53859115', '53969876', '66355934', '64089303', '51907682', '81225309', '64089360', '51455457', '100082808'}\n"
     ]
    }
   ],
   "source": [
    "artist_id = 3094189\n",
    "categorys = [\"manga\", \"illusts\"]\n",
    "id = 0\n",
    "\n",
    "id_group = set()\n",
    "\n",
    "for category in categorys:\n",
    "    id_group.update(fetch_artist_works(artist_id=artist_id, category=category))\n",
    "    print(id_group)\n",
    "    \n",
    "artist_artworks_ids_path = \"E:\\\\vscode_clustter\\\\code\\\\github\\\\Animate-Image-Bed\\\\utils\\\\crawler\\\\test\\\\jsons\\\\\"\n",
    "\n",
    "file_name = f\"{artist_id}-artworksID-collect.json\"\n",
    "\n",
    "artist_dict = {artist_id: list(id_group)}\n",
    "\n",
    "# 将字典保存到 JSON 文件中\n",
    "with open(artist_artworks_ids_path + file_name, \"w\", encoding=\"utf-8\") as json_file:\n",
    "    json.dump(artist_dict, json_file, ensure_ascii=False, indent=4)\n",
    "\n"
   ]
  },
  {
   "cell_type": "markdown",
   "metadata": {},
   "source": [
    "1.2 按照tag进行爬取（后续会添加函数 按照排名，标签进行爬取）"
   ]
  },
  {
   "cell_type": "code",
   "execution_count": 23,
   "metadata": {},
   "outputs": [],
   "source": [
    "def fetch_tag_works(tag_name, category, order):\n",
    "    # pixiv 的请求返回一般有两种，一种是漫画，一种是插画，还有其他的我懒得搞了，毕竟用的人很少（笑）\n",
    "    if category not in [\"illust\", \"manga\"]:\n",
    "        raise ValueError(\"Invalid category. Use 'illustrations' or 'manga'.\")\n",
    "\n",
    "    \"\"\"url = f\"https://www.pixiv.net/ajax/search/illustrations/{tag_name}?\"+ \\ \n",
    "            \"&asd\" + \\\n",
    "            \"lang=zh\"\"\"\n",
    "    \n",
    "    if category == \"illust\":\n",
    "        category_rel = \"illustrations\"\n",
    "    else:\n",
    "        category_rel = \"manga\"\n",
    "    \n",
    "    url = \"https://www.pixiv.net/ajax/search/{}/\".format(category_rel) + \\\n",
    "            \"{}?word={}\".format(tag_name, tag_name) + \\\n",
    "            \"&order={}\".format(\"popular_d\") + \\\n",
    "            f\"&mode=all\" + \"&p=2&s_mode=s_tag&type=illust_and_ugoira&lang=zh\"\n",
    "\n",
    "    \"\"\"\n",
    "    /ajax/search/manga/BlueArchive?word=BlueArchive&order=date_d&mode=all&p=1&s_mode=s_tag_full&type=manga&lang=zh&version=6d99637327b03bc728989e9dfd2b67555a8dcbad HTTP/1.1\n",
    "    \"\"\"\n",
    "\n",
    "    additional_headers = {\n",
    "        \"x-user-id\": \"100485309\",\n",
    "        \"COOKIE\": \"first_visit_datetime_pc=2023-11-14%2021%3A14%3A16; p_ab_id=2; p_ab_id_2=5; p_ab_d_id=71834117; __utmz=235335808.1699964057.1.1.utmcsr=(direct)|utmccn=(direct)|utmcmd=(none); _fbp=fb.1.1699964058282.1477207184; yuid_b=ExEzmCA; _gid=GA1.2.850018427.1699964127; _im_vid=01HF6W467E25MGXNXPJHEWPTDQ; device_token=dccafc93aaa8692c65f392c9a7ab00d2; privacy_policy_agreement=6; _ga_MZ1NL4PHH0=GS1.1.1699964577.1.0.1699964580.0.0.0; privacy_policy_notification=0; a_type=0; b_type=1; QSI_S_ZN_5hF4My7Ad6VNNAi=v:0:0; __cf_bm=EcdCq6u9Cawg5WGif5GMjKPfagY8Cn8LOorJQIztgy4-1699977997-0-ASiN6tdcrdSeVoHG+HLRzr4ie44p7eGBLLwf9926P50W+qVTe85kjNknXeTyrx0vQD5R1IFLtLWkOdggMgKe8eCw18QCPpazQ8PGIcyD5i1g; __utma=235335808.537133348.1699964057.1699964057.1699977999.2; __utmc=235335808; __utmt=1; cf_clearance=IS1KlIfrIWG0DyX6j9cU2VDiL2fgV5dfE7a4e3qhBwg-1699977998-0-1-91f80494.de9dec2c.c6f95b74-0.2.1699977998; PHPSESSID=100485309_FWeAxy5e9SMySeu4tvDPCSnMaDbMzocj; c_type=29; __utmv=235335808.|2=login%20ever=no=1^3=plan=premium=1^5=gender=male=1^6=user_id=100485309=1^9=p_ab_id=2=1^10=p_ab_id_2=5=1^11=lang=zh=1; __utmb=235335808.5.10.1699977999; _ga_75BBYNYN9J=GS1.1.1699977999.3.1.1699978046.0.0.0; _ga=GA1.2.362165901.1699964058\"\n",
    "    }\n",
    "\n",
    "    if category == \"illusts\":\n",
    "        additional_headers[\"Referer\"] = f\"https://www.pixiv.net/tags/{tag_name}/illustrations?order=popular_d&s_mode=s_tag\"\n",
    "    elif category == \"manga\":\n",
    "        additional_headers[\"Referer\"] = f\"https://www.pixiv.net/tags/{tag_name}/manga?order=popular_d&s_mode=s_tag\"\n",
    "\n",
    "    headers = {\n",
    "        \"User-Agent\": \"Mozilla/5.0 (Windows NT 10.0; Win64; x64) AppleWebKit/537.36 (KHTML, like Gecko) Chrome/101.0.4951.54 Safari/537.36\",\n",
    "    }\n",
    "\n",
    "    headers.update(additional_headers)\n",
    "\n",
    "    proxies = {\n",
    "        \"https\": \"127.0.0.1:7890\"\n",
    "    }\n",
    "\n",
    "    response = requests.get(url, headers=headers, proxies=proxies, timeout=4)\n",
    "\n",
    "    print(response.json())\n",
    "\n",
    "    json_content = response.json()\n",
    "\n",
    "    # 指定保存路径和文件名\n",
    "    save_path = \"E://vscode_clustter//code//github//Animate-Image-Bed//utils//crawler//test//jsons//re.json\"\n",
    "\n",
    "    # 将 JSON 内容保存到文件\n",
    "    with open(save_path, \"w\", encoding=\"utf-8\") as json_file:\n",
    "        json.dump(json_content, json_file, ensure_ascii=False, indent=4)\n",
    "\n",
    "    if response.status_code == 200:\n",
    "        response_data = response.json()[\"body\"][category][\"data\"]\n",
    "        id_group = set(entry[\"id\"] for entry in response_data)\n",
    "        return id_group"
   ]
  },
  {
   "cell_type": "code",
   "execution_count": 24,
   "metadata": {},
   "outputs": [
    {
     "name": "stdout",
     "output_type": "stream",
     "text": [
      "{'error': False, 'body': {'illust': {'data': [{'id': '112217482', 'title': 'ユウかと指ハート作り❤️', 'illustType': 0, 'xRestrict': 0, 'restrict': 0, 'sl': 4, 'url': 'https://i.pximg.net/c/250x250_80_a2/custom-thumb/img/2023/10/02/19/03/26/112217482_p0_custom1200.jpg', 'description': '', 'tags': ['ブルーアーカイブ', 'ブルアカ', 'BlueArchive', '早瀬ユウカ', 'ユウカ', '女の子', '太もも', '二人でハート', 'ブルマ', '先生(ブルーアーカイブ)'], 'userId': '87164619', 'userName': 'JJJSSS / ジェース', 'width': 3756, 'height': 6000, 'pageCount': 1, 'isBookmarkable': True, 'bookmarkData': None, 'alt': '#ブルーアーカイブ ユウかと指ハート作り❤️ - JJJSSS / ジェース的插画', 'titleCaptionTranslation': {'workTitle': None, 'workCaption': None}, 'createDate': '2023-10-02T19:03:26+09:00', 'updateDate': '2023-10-02T19:03:26+09:00', 'isUnlisted': False, 'isMasked': False, 'aiType': 1, 'profileImageUrl': 'https://i.pximg.net/user-profile/img/2022/10/18/00/35/43/23478491_456e65e41c59f5689031cf4f2941e510_50.jpg'}, {'id': '101110875', 'title': '競泳水着ユウカ♥', 'illustType': 0, 'xRestrict': 0, 'restrict': 0, 'sl': 4, 'url': 'https://i.pximg.net/c/250x250_80_a2/img-master/img/2022/09/09/22/41/25/101110875_p0_square1200.jpg', 'description': '', 'tags': ['早瀬ユウカ', 'ブルーアーカイブ', '競泳水着', 'ハイレグ', '鼠蹊部', '魅惑のふともも', '青髪ツインテール', '爆乳', 'ブルーアーカイブ10000users入り', 'ミレニアムサイエンススクール'], 'userId': '1008', 'userName': 'クマ作民三@土曜日西せ-13b', 'width': 900, 'height': 1483, 'pageCount': 1, 'isBookmarkable': True, 'bookmarkData': None, 'alt': '#早瀬ユウカ 競泳水着ユウカ♥ - クマ作民三@土曜日西せ-13b的插画', 'titleCaptionTranslation': {'workTitle': None, 'workCaption': None}, 'createDate': '2022-09-09T22:41:25+09:00', 'updateDate': '2022-09-09T22:41:25+09:00', 'isUnlisted': False, 'isMasked': False, 'aiType': 0, 'profileImageUrl': 'https://i.pximg.net/user-profile/img/2016/11/27/18/04/14/11803235_b4abaa1ea8c56999838f48af6c52f713_50.jpg'}, {'id': '103678403', 'title': 'ユウカ', 'illustType': 0, 'xRestrict': 0, 'restrict': 0, 'sl': 2, 'url': 'https://i.pximg.net/c/250x250_80_a2/img-master/img/2022/12/17/18/59/01/103678403_p0_square1200.jpg', 'description': '', 'tags': ['女の子', 'ブルーアーカイブ', 'ブルアカ', '早瀬ユウカ', 'ギャル', 'マニキュア', 'あごピース', 'ギャル化'], 'userId': '30478106', 'userName': 'Reia', 'width': 1404, 'height': 2580, 'pageCount': 2, 'isBookmarkable': True, 'bookmarkData': None, 'alt': '#女の子 ユウカ - Reia的插画', 'titleCaptionTranslation': {'workTitle': None, 'workCaption': None}, 'createDate': '2022-12-17T18:59:01+09:00', 'updateDate': '2022-12-17T18:59:01+09:00', 'isUnlisted': False, 'isMasked': False, 'aiType': 1, 'profileImageUrl': 'https://i.pximg.net/user-profile/img/2023/11/14/20/46/22/25164365_df666c75530638cfaa59c7f565027c81_50.jpg'}, {'id': '90321161', 'title': 'ゲーム開発部', 'illustType': 0, 'xRestrict': 0, 'restrict': 0, 'sl': 4, 'url': 'https://i.pximg.net/c/250x250_80_a2/img-master/img/2021/06/09/01/24/09/90321161_p0_square1200.jpg', 'description': '', 'tags': ['ブルーアーカイブイラコン', 'ミレニアムサイエンススクール', 'ブルアカ', 'ブルーアーカイブ', '海', '水着', '早瀬ユウカ', 'ゲーム開発部', 'ブルーアーカイブ10000users入り'], 'userId': '17494557', 'userName': 'PoNya', 'width': 3000, 'height': 1980, 'pageCount': 2, 'isBookmarkable': True, 'bookmarkData': None, 'alt': '#ブルーアーカイブイラコン ゲーム開発部 - PoNya的插画', 'titleCaptionTranslation': {'workTitle': None, 'workCaption': None}, 'createDate': '2021-06-04T22:08:00+09:00', 'updateDate': '2021-06-09T01:24:09+09:00', 'isUnlisted': False, 'isMasked': False, 'aiType': 0, 'profileImageUrl': 'https://i.pximg.net/user-profile/img/2022/06/26/17/40/57/22935977_706a8438b3b6781a7bf899c6083f742c_50.png'}, {'id': '106839506', 'title': 'ブルアカまとめ２', 'illustType': 0, 'xRestrict': 0, 'restrict': 0, 'sl': 2, 'url': 'https://i.pximg.net/c/250x250_80_a2/custom-thumb/img/2023/04/03/22/55/10/106839506_p0_custom1200.jpg', 'description': '', 'tags': ['ブルーアーカイブ', '早瀬ユウカ', '才羽モモイ', '才羽ミドリ', '天童アリス', '黒崎コユキ', 'ちょろイン', '千鳥ミチル', 'ブルーアーカイブ10000users入り'], 'userId': '3210978', 'userName': 'ぐり～ん', 'width': 1140, 'height': 1600, 'pageCount': 10, 'isBookmarkable': True, 'bookmarkData': None, 'alt': '#ブルーアーカイブ ブルアカまとめ２ - ぐり～ん的插画', 'titleCaptionTranslation': {'workTitle': None, 'workCaption': None}, 'createDate': '2023-04-03T22:55:10+09:00', 'updateDate': '2023-04-03T22:55:10+09:00', 'isUnlisted': False, 'isMasked': False, 'aiType': 1, 'profileImageUrl': 'https://i.pximg.net/user-profile/img/2021/02/24/23/07/08/20255335_1cd6c9fbdc53e84aabfe928ffb47c4f5_50.png'}, {'id': '94523949', 'title': 'ユウカ', 'illustType': 0, 'xRestrict': 0, 'restrict': 0, 'sl': 2, 'url': 'https://i.pximg.net/c/250x250_80_a2/img-master/img/2021/12/02/23/43/36/94523949_p0_square1200.jpg', 'description': '', 'tags': ['ブルーアーカイブ', '早瀬ユウカ', '春花らん', 'ブルーアーカイブ10000users入り', 'ミレニアムサイエンススクール', 'セミナー(ブルーアーカイブ)'], 'userId': '17719744', 'userName': 'チャム', 'width': 2894, 'height': 4093, 'pageCount': 1, 'isBookmarkable': True, 'bookmarkData': None, 'alt': '#ブルーアーカイブ ユウカ - チャム的插画', 'titleCaptionTranslation': {'workTitle': None, 'workCaption': None}, 'createDate': '2021-12-02T23:43:36+09:00', 'updateDate': '2021-12-02T23:43:36+09:00', 'isUnlisted': False, 'isMasked': False, 'aiType': 0, 'profileImageUrl': 'https://i.pximg.net/user-profile/img/2016/08/31/17/59/20/11434278_a6df7a42d6bfba7a664499faea66d982_50.png'}, {'id': '108438936', 'title': 'セミナー', 'illustType': 0, 'xRestrict': 0, 'restrict': 0, 'sl': 2, 'url': 'https://i.pximg.net/c/250x250_80_a2/img-master/img/2023/05/26/00/00/35/108438936_p0_square1200.jpg', 'description': '', 'tags': ['ブルーアーカイブ', '調月リオ', '生塩ノア', '早瀬ユウカ', 'セミナー(ブルーアーカイブ)', '体操服', '体育着', 'ブルーアーカイブ10000users入り'], 'userId': '69374642', 'userName': '雪/yuki', 'width': 5180, 'height': 2480, 'pageCount': 1, 'isBookmarkable': True, 'bookmarkData': None, 'alt': '#ブルーアーカイブ セミナー - 雪/yuki的插画', 'titleCaptionTranslation': {'workTitle': None, 'workCaption': None}, 'createDate': '2023-05-26T00:00:35+09:00', 'updateDate': '2023-05-26T00:00:35+09:00', 'isUnlisted': False, 'isMasked': False, 'aiType': 1, 'profileImageUrl': 'https://i.pximg.net/user-profile/img/2023/03/10/00/05/24/24131420_951c80569fef1523c100c35c751d1f91_50.jpg'}, {'id': '106223999', 'title': '腋見せユウカ', 'illustType': 0, 'xRestrict': 0, 'restrict': 0, 'sl': 2, 'url': 'https://i.pximg.net/c/250x250_80_a2/img-master/img/2023/03/15/01/05/04/106223999_p0_square1200.jpg', 'description': '', 'tags': ['ブルーアーカイブ', 'ブルアカ', '早瀬ユウカ(体操服)', '腋フェチ', '腋汗染み', '着衣巨乳', '早瀬ユウカ', 'ブルーアーカイブ10000users入り'], 'userId': '340736', 'userName': 'Yuyu', 'width': 700, 'height': 1073, 'pageCount': 1, 'isBookmarkable': True, 'bookmarkData': None, 'alt': '#ブルーアーカイブ 腋見せユウカ - Yuyu的插画', 'titleCaptionTranslation': {'workTitle': None, 'workCaption': None}, 'createDate': '2023-03-15T01:05:04+09:00', 'updateDate': '2023-03-15T01:05:04+09:00', 'isUnlisted': False, 'isMasked': False, 'aiType': 1, 'profileImageUrl': 'https://i.pximg.net/user-profile/img/2022/01/25/08/46/07/22108397_dfd44eb459e951f9a42ee1782e71d478_50.jpg'}, {'id': '111500288', 'title': 'ユウカ', 'illustType': 0, 'xRestrict': 0, 'restrict': 0, 'sl': 4, 'url': 'https://i.pximg.net/c/250x250_80_a2/custom-thumb/img/2023/09/06/21/53/22/111500288_p0_custom1200.jpg', 'description': '', 'tags': ['ブルーアーカイブ', '早瀬ユウカ', '鼠蹊部', 'お腹', 'おっぱい', '魅惑のふともも', 'ビキニ', '魅惑の谷間', 'ブルーアーカイブ10000users入り'], 'userId': '67345848', 'userName': 'rosumerii', 'width': 1678, 'height': 3919, 'pageCount': 1, 'isBookmarkable': True, 'bookmarkData': None, 'alt': '#ブルーアーカイブ ユウカ - rosumerii的插画', 'titleCaptionTranslation': {'workTitle': None, 'workCaption': None}, 'createDate': '2023-09-06T21:53:22+09:00', 'updateDate': '2023-09-06T21:53:22+09:00', 'isUnlisted': False, 'isMasked': False, 'aiType': 1, 'profileImageUrl': 'https://i.pximg.net/user-profile/img/2022/07/08/23/44/16/22994963_bcc70f7de6c09ef30fe18de1efd14589_50.png'}, {'id': '92434726', 'title': 'ユウカ', 'illustType': 0, 'xRestrict': 0, 'restrict': 0, 'sl': 6, 'url': 'https://i.pximg.net/c/250x250_80_a2/custom-thumb/img/2021/09/01/20/46/39/92434726_p0_custom1200.jpg', 'description': '', 'tags': ['ブルーアーカイブ', 'ブルアカ', '早瀬ユウカ', 'バニーガール', '黒スト', '赤面', '黒バニー', '春花らん', 'ブルーアーカイブ10000users入り'], 'userId': '3624793', 'userName': 'ナリン', 'width': 1716, 'height': 2935, 'pageCount': 3, 'isBookmarkable': True, 'bookmarkData': None, 'alt': '#ブルーアーカイブ ユウカ - ナリン的插画', 'titleCaptionTranslation': {'workTitle': None, 'workCaption': None}, 'createDate': '2021-09-01T20:46:39+09:00', 'updateDate': '2021-09-01T20:46:39+09:00', 'isUnlisted': False, 'isMasked': False, 'aiType': 0, 'profileImageUrl': 'https://i.pximg.net/user-profile/img/2021/09/20/03/25/31/21441745_39c9a7ab217bdf957fa4aa0c12347daa_50.jpg'}, {'id': '104369945', 'title': 'ブルアカバニー', 'illustType': 0, 'xRestrict': 0, 'restrict': 0, 'sl': 4, 'url': 'https://i.pximg.net/c/250x250_80_a2/img-master/img/2023/01/09/10/49/35/104369945_p0_square1200.jpg', 'description': '', 'tags': ['ブルーアーカイブ', '横乳', '早瀬ユウカ', '撫で回したい尻', '尻神様', '生塩ノア', '黒スト', 'ブルーアーカイブ10000users入り', 'バニーガール'], 'userId': '27790467', 'userName': '葎', 'width': 2000, 'height': 4500, 'pageCount': 2, 'isBookmarkable': True, 'bookmarkData': None, 'alt': '#ブルーアーカイブ ブルアカバニー - 葎的插画', 'titleCaptionTranslation': {'workTitle': None, 'workCaption': None}, 'createDate': '2023-01-09T10:49:35+09:00', 'updateDate': '2023-01-09T10:49:35+09:00', 'isUnlisted': False, 'isMasked': False, 'aiType': 1, 'profileImageUrl': 'https://i.pximg.net/user-profile/img/2021/02/14/13/17/45/20187749_03d952b00488f5700efbaddc062c4a85_50.jpg'}, {'id': '92705185', 'title': 'ユウカ', 'illustType': 0, 'xRestrict': 0, 'restrict': 0, 'sl': 2, 'url': 'https://i.pximg.net/c/250x250_80_a2/custom-thumb/img/2021/09/12/22/57/56/92705185_p0_custom1200.jpg', 'description': '', 'tags': ['ブルーアーカイブ', 'ブルアカ', '早瀬ユウカ', 'バニーガール', '黒スト', '美脚', 'ピンヒール', '黒バニー', '春花らん', 'ブルーアーカイブ10000users入り'], 'userId': '3624793', 'userName': 'ナリン', 'width': 2023, 'height': 3311, 'pageCount': 1, 'isBookmarkable': True, 'bookmarkData': None, 'alt': '#ブルーアーカイブ ユウカ - ナリン的插画', 'titleCaptionTranslation': {'workTitle': None, 'workCaption': None}, 'createDate': '2021-09-12T22:57:56+09:00', 'updateDate': '2021-09-12T22:57:56+09:00', 'isUnlisted': False, 'isMasked': False, 'aiType': 0, 'profileImageUrl': 'https://i.pximg.net/user-profile/img/2021/09/20/03/25/31/21441745_39c9a7ab217bdf957fa4aa0c12347daa_50.jpg'}, {'id': '102463320', 'title': 'ユウカ', 'illustType': 0, 'xRestrict': 0, 'restrict': 0, 'sl': 4, 'url': 'https://i.pximg.net/c/250x250_80_a2/img-master/img/2022/11/03/00/00/12/102463320_p0_square1200.jpg', 'description': '', 'tags': ['女の子', 'ブルアカ', 'ブルーアーカイブ', '早瀬ユウカ', 'ブルマ', 'お尻', '食い込み直し', '体操服', 'ブルーアーカイブ10000users入り'], 'userId': '12131266', 'userName': 'yejji', 'width': 2000, 'height': 4000, 'pageCount': 1, 'isBookmarkable': True, 'bookmarkData': None, 'alt': '#女の子 ユウカ - yejji的插画', 'titleCaptionTranslation': {'workTitle': None, 'workCaption': None}, 'createDate': '2022-11-03T00:00:12+09:00', 'updateDate': '2022-11-03T00:00:12+09:00', 'isUnlisted': False, 'isMasked': False, 'aiType': 1, 'profileImageUrl': 'https://i.pximg.net/user-profile/img/2020/09/11/22/59/44/19342547_babcafa3c654796268f0b24ab5f08c00_50.png'}, {'id': '93466900', 'title': 'ユウカ…！！？お前…！！！', 'illustType': 0, 'xRestrict': 0, 'restrict': 0, 'sl': 4, 'url': 'https://i.pximg.net/c/250x250_80_a2/custom-thumb/img/2021/10/16/00/00/06/93466900_p0_custom1200.jpg', 'description': '', 'tags': ['ブルーアーカイブ', 'ブルアカ', 'バニー', 'ユウカ', '早瀬ユウカ', 'バニーガール', '巨乳', 'ぐるぐる目', '青バニー', 'ブルーアーカイブ10000users入り'], 'userId': '9609632', 'userName': '比宮じょーず', 'width': 2591, 'height': 3624, 'pageCount': 1, 'isBookmarkable': True, 'bookmarkData': None, 'alt': '#ブルーアーカイブ ユウカ…！！？お前…！！！ - 比宮じょーず的插画', 'titleCaptionTranslation': {'workTitle': None, 'workCaption': None}, 'createDate': '2021-10-16T00:00:06+09:00', 'updateDate': '2021-10-16T00:00:06+09:00', 'isUnlisted': False, 'isMasked': False, 'aiType': 0, 'profileImageUrl': 'https://i.pximg.net/user-profile/img/2020/03/17/00/38/11/18126134_da2cc2c823c3f8ce504a34aa5c4aa3a5_50.png'}, {'id': '105141305', 'title': 'Yuuka cosplaying Ganyu', 'illustType': 0, 'xRestrict': 0, 'restrict': 0, 'sl': 4, 'url': 'https://i.pximg.net/c/250x250_80_a2/custom-thumb/img/2023/02/06/18/31/27/105141305_p0_custom1200.jpg', 'description': '', 'tags': ['ブルーアーカイブ', 'BlueArchive', 'ブルアカ', '早瀬ユウカ', 'GenshinImpact', 'Ganyu', 'コスプレ', '衣装チェンジ', '原神', '原神×ブルアカ'], 'userId': '87164619', 'userName': 'JJJSSS / ジェース', 'width': 1500, 'height': 2988, 'pageCount': 1, 'isBookmarkable': True, 'bookmarkData': None, 'alt': '#ブルーアーカイブ Yuuka cosplaying Ganyu - JJJSSS / ジェース的插画', 'titleCaptionTranslation': {'workTitle': None, 'workCaption': None}, 'createDate': '2023-02-06T18:31:00+09:00', 'updateDate': '2023-02-06T18:31:27+09:00', 'isUnlisted': False, 'isMasked': False, 'aiType': 1, 'profileImageUrl': 'https://i.pximg.net/user-profile/img/2022/10/18/00/35/43/23478491_456e65e41c59f5689031cf4f2941e510_50.jpg'}, {'id': '100606314', 'title': 'ユウカ', 'illustType': 0, 'xRestrict': 0, 'restrict': 0, 'sl': 4, 'url': 'https://i.pximg.net/c/250x250_80_a2/custom-thumb/img/2022/08/19/20/33/13/100606314_p0_custom1200.jpg', 'description': '', 'tags': ['ブルーアーカイブ', '早瀬ユウカ', 'パンチラ', 'ふともも', '赤面', '座りパンチラ', 'ぱんつ', 'ブルーアーカイブ10000users入り'], 'userId': '68408413', 'userName': 'カムチンソーダ@FANBOX', 'width': 790, 'height': 1200, 'pageCount': 1, 'isBookmarkable': True, 'bookmarkData': None, 'alt': '#ブルーアーカイブ ユウカ - カムチンソーダ@FANBOX的插画', 'titleCaptionTranslation': {'workTitle': None, 'workCaption': None}, 'createDate': '2022-08-19T20:33:13+09:00', 'updateDate': '2022-08-19T20:33:13+09:00', 'isUnlisted': False, 'isMasked': False, 'aiType': 0, 'profileImageUrl': 'https://i.pximg.net/user-profile/img/2021/05/11/19/33/35/20684463_38d6ddc2da48cc7ad0d9525538c276f3_50.jpg'}, {'id': '111318807', 'title': 'セミナー', 'illustType': 0, 'xRestrict': 0, 'restrict': 0, 'sl': 2, 'url': 'https://i.pximg.net/c/250x250_80_a2/img-master/img/2023/08/31/15/49/44/111318807_p0_square1200.jpg', 'description': '', 'tags': ['女の子', 'ブルーアーカイブ', 'ブルアカ', '生塩ノア', '早瀬ユウカ', '黒崎コユキ', '調月リオ', 'セミナー(ブルーアーカイブ)', 'セミナー', 'ブルーアーカイブ10000users入り'], 'userId': '30478106', 'userName': 'Reia', 'width': 1978, 'height': 3855, 'pageCount': 5, 'isBookmarkable': True, 'bookmarkData': None, 'alt': '#女の子 セミナー - Reia的插画', 'titleCaptionTranslation': {'workTitle': None, 'workCaption': None}, 'createDate': '2023-08-31T15:49:44+09:00', 'updateDate': '2023-08-31T15:49:44+09:00', 'isUnlisted': False, 'isMasked': False, 'aiType': 1, 'profileImageUrl': 'https://i.pximg.net/user-profile/img/2023/11/14/20/46/22/25164365_df666c75530638cfaa59c7f565027c81_50.jpg'}, {'id': '107710260', 'title': 'ブルアカっぱい', 'illustType': 0, 'xRestrict': 0, 'restrict': 0, 'sl': 4, 'url': 'https://i.pximg.net/c/250x250_80_a2/img-master/img/2023/05/01/21/14/09/107710260_p0_square1200.jpg', 'description': '', 'tags': ['ブルーアーカイブ', '清澄アキラ', '一之瀬アスナ', '前かがみ', '早瀬ユウカ', '狐耳', 'ブルーアーカイブ10000users入り'], 'userId': '11045087', 'userName': 'Horn/wood', 'width': 837, 'height': 1500, 'pageCount': 36, 'isBookmarkable': True, 'bookmarkData': None, 'alt': '#ブルーアーカイブ ブルアカっぱい - Horn/wood的插画', 'titleCaptionTranslation': {'workTitle': None, 'workCaption': None}, 'createDate': '2023-05-01T21:14:09+09:00', 'updateDate': '2023-05-01T21:14:09+09:00', 'isUnlisted': False, 'isMasked': False, 'aiType': 1, 'profileImageUrl': 'https://i.pximg.net/user-profile/img/2022/02/08/23/38/51/22192482_835917b00717fe8fb0d58fb924821b4c_50.png'}, {'id': '102541426', 'title': '「ノアには絶対内緒ですよ、すっごくからかわれるんで！」', 'illustType': 0, 'xRestrict': 0, 'restrict': 0, 'sl': 4, 'url': 'https://i.pximg.net/c/250x250_80_a2/img-master/img/2022/11/05/21/39/37/102541426_p0_square1200.jpg', 'description': '', 'tags': ['ブルーアーカイブ', '早瀬ユウカ', '生塩ノア', 'デジャヴ', '後ろの存在感', 'フロントホック', 'ぱんつ', 'ブルーアーカイブ10000users入り'], 'userId': '12236166', 'userName': 'しいたけたいし', 'width': 822, 'height': 1467, 'pageCount': 2, 'isBookmarkable': True, 'bookmarkData': None, 'alt': '#ブルーアーカイブ 「ノアには絶対内緒ですよ、すっごくからかわれるんで！」 - しいたけたいし的插画', 'titleCaptionTranslation': {'workTitle': None, 'workCaption': None}, 'createDate': '2022-11-05T21:39:37+09:00', 'updateDate': '2022-11-05T21:39:37+09:00', 'isUnlisted': False, 'isMasked': False, 'aiType': 1, 'profileImageUrl': 'https://i.pximg.net/user-profile/img/2022/05/03/00/52/58/22645370_cc863b538f4536d9b5f749d73ad0eeb9_50.png'}, {'id': '101958372', 'title': 'ユウカ＆ノア(応援団)', 'illustType': 0, 'xRestrict': 0, 'restrict': 0, 'sl': 2, 'url': 'https://i.pximg.net/c/250x250_80_a2/img-master/img/2022/10/15/20/11/36/101958372_p0_square1200.jpg', 'description': '', 'tags': ['ブルーアーカイブ', '早瀬ユウカ', '生塩ノア', 'チアガール', '乳合わせ', 'ブルーアーカイブ10000users入り', 'チアリーダー', '衣装チェンジ'], 'userId': '12236166', 'userName': 'しいたけたいし', 'width': 1048, 'height': 1467, 'pageCount': 2, 'isBookmarkable': True, 'bookmarkData': None, 'alt': '#ブルーアーカイブ ユウカ＆ノア(応援団) - しいたけたいし的插画', 'titleCaptionTranslation': {'workTitle': None, 'workCaption': None}, 'createDate': '2022-10-15T20:11:36+09:00', 'updateDate': '2022-10-15T20:11:36+09:00', 'isUnlisted': False, 'isMasked': False, 'aiType': 0, 'profileImageUrl': 'https://i.pximg.net/user-profile/img/2022/05/03/00/52/58/22645370_cc863b538f4536d9b5f749d73ad0eeb9_50.png'}, {'id': '107840093', 'title': 'せ～ん～せ～い～？おさわりは禁止です！', 'illustType': 0, 'xRestrict': 0, 'restrict': 0, 'sl': 4, 'url': 'https://i.pximg.net/c/250x250_80_a2/img-master/img/2023/05/05/18/37/57/107840093_p0_square1200.jpg', 'description': '', 'tags': ['ブルーアーカイブ', '早瀬ユウカ', 'バニーガール', '衣装チェンジ', '魅惑の谷間', 'ブルーアーカイブ10000users入り'], 'userId': '5037818', 'userName': 'いがやん', 'width': 1164, 'height': 1884, 'pageCount': 1, 'isBookmarkable': True, 'bookmarkData': None, 'alt': '#ブルーアーカイブ せ～ん～せ～い～？おさわりは禁止です！ - いがやん的插画', 'titleCaptionTranslation': {'workTitle': None, 'workCaption': None}, 'createDate': '2023-05-05T18:37:57+09:00', 'updateDate': '2023-05-05T18:37:57+09:00', 'isUnlisted': False, 'isMasked': False, 'aiType': 1, 'profileImageUrl': 'https://i.pximg.net/user-profile/img/2020/12/24/18/57/15/19878017_324818461cc982e6555b3785f9aa05a4_50.png'}, {'id': '106023240', 'title': '早瀬ユウカ', 'illustType': 0, 'xRestrict': 0, 'restrict': 0, 'sl': 6, 'url': 'https://i.pximg.net/c/250x250_80_a2/custom-thumb/img/2023/03/08/15/19/27/106023240_p0_custom1200.jpg', 'description': '', 'tags': ['ブルーアーカイブ', 'ブルアカ', '早瀬ユウカ', '早瀬ユウカ(体操服)', '巨乳', 'たくしあげ', '輪チラ', '腕ブラ', '揉みしだきたい乳', 'ブルーアーカイブ10000users入り'], 'userId': '90649042', 'userName': 'Tunoko', 'width': 1260, 'height': 2000, 'pageCount': 1, 'isBookmarkable': True, 'bookmarkData': None, 'alt': '#ブルーアーカイブ 早瀬ユウカ - Tunoko的插画', 'titleCaptionTranslation': {'workTitle': None, 'workCaption': None}, 'createDate': '2023-03-08T15:19:27+09:00', 'updateDate': '2023-03-08T15:19:27+09:00', 'isUnlisted': False, 'isMasked': False, 'aiType': 1, 'profileImageUrl': 'https://i.pximg.net/user-profile/img/2023/01/29/02/25/02/23948597_32631b696159eb2d02cb73bba49270a6_50.jpg'}, {'id': '89770810', 'title': '健全ブルアカまとめ', 'illustType': 0, 'xRestrict': 0, 'restrict': 0, 'sl': 2, 'url': 'https://i.pximg.net/c/250x250_80_a2/img-master/img/2021/05/11/20/32/06/89770810_p0_square1200.jpg', 'description': '', 'tags': ['ブルーアーカイブ', 'ブルアカ', '久田イズナ', '早瀬ユウカ', '才羽ミドリ', '才羽モモイ', '小鳥遊ホシノ', '静山マシロ', '預言者', 'ブルーアーカイブ10000users入り'], 'userId': '65964428', 'userName': 'ねっこ', 'width': 1417, 'height': 2362, 'pageCount': 17, 'isBookmarkable': True, 'bookmarkData': None, 'alt': '#ブルーアーカイブ 健全ブルアカまとめ - ねっこ的插画', 'titleCaptionTranslation': {'workTitle': None, 'workCaption': None}, 'createDate': '2021-05-11T20:32:06+09:00', 'updateDate': '2021-05-11T20:32:06+09:00', 'isUnlisted': False, 'isMasked': False, 'aiType': 0, 'profileImageUrl': 'https://i.pximg.net/user-profile/img/2022/11/22/07/16/00/23641372_698c5085134642cef19ca6622599b63c_50.png'}, {'id': '110119025', 'title': '夏のあちあちセミナー', 'illustType': 0, 'xRestrict': 0, 'restrict': 0, 'sl': 4, 'url': 'https://i.pximg.net/c/250x250_80_a2/img-master/img/2023/07/22/00/00/44/110119025_p0_square1200.jpg', 'description': '', 'tags': ['ブルーアーカイブ', '生塩ノア', '早瀬ユウカ', '調月リオ', '黒崎コユキ', 'お尻', '太もも', '水着', 'おっぱい', 'ブルーアーカイブ10000users入り'], 'userId': '22901267', 'userName': '七剣なな＠1日目東ス-23b', 'width': 2915, 'height': 2087, 'pageCount': 1, 'isBookmarkable': True, 'bookmarkData': None, 'alt': '#ブルーアーカイブ 夏のあちあちセミナー - 七剣なな＠1日目東ス-23b的插画', 'titleCaptionTranslation': {'workTitle': None, 'workCaption': None}, 'createDate': '2023-07-22T00:00:44+09:00', 'updateDate': '2023-07-22T00:00:44+09:00', 'isUnlisted': False, 'isMasked': False, 'aiType': 1, 'profileImageUrl': 'https://i.pximg.net/user-profile/img/2020/03/07/09/39/18/18059016_b9d1215570ff1ea6dd63bd4b225a7f5e_50.png'}, {'id': '102351058', 'title': '先生、お時間頂きます♡', 'illustType': 0, 'xRestrict': 0, 'restrict': 0, 'sl': 4, 'url': 'https://i.pximg.net/c/250x250_80_a2/img-master/img/2022/10/30/15/56/28/102351058_p0_square1200.jpg', 'description': '', 'tags': ['ブルーアーカイブ', '早瀬ユウカ', '生塩ノア', '黒スト', 'ノアユウ', '黒タイツ', 'しーっ', 'ブルーアーカイブ10000users入り'], 'userId': '5587361', 'userName': 'ラマンダ', 'width': 3650, 'height': 2205, 'pageCount': 1, 'isBookmarkable': True, 'bookmarkData': None, 'alt': '#ブルーアーカイブ 先生、お時間頂きます♡ - ラマンダ的插画', 'titleCaptionTranslation': {'workTitle': None, 'workCaption': None}, 'createDate': '2022-10-30T15:56:28+09:00', 'updateDate': '2022-10-30T15:56:28+09:00', 'isUnlisted': False, 'isMasked': False, 'aiType': 0, 'profileImageUrl': 'https://i.pximg.net/user-profile/img/2019/09/09/01/29/44/16255094_b25b4d2b74a9087c50b559384faeff8b_50.png'}, {'id': '110012636', 'title': 'ユウカ......あっ......', 'illustType': 0, 'xRestrict': 0, 'restrict': 0, 'sl': 6, 'url': 'https://i.pximg.net/c/250x250_80_a2/custom-thumb/img/2023/07/18/00/30/05/110012636_p0_custom1200.jpg', 'description': '', 'tags': ['ブルーアーカイブ', '早瀬ユウカ', 'お尻', '太もも', '水着', '剥ぎ取られそうなパンツ', '尻神様', '側面全裸', 'ブルーアーカイブ10000users入り', 'プリケツ'], 'userId': '22901267', 'userName': '七剣なな＠1日目東ス-23b', 'width': 1083, 'height': 1926, 'pageCount': 1, 'isBookmarkable': True, 'bookmarkData': None, 'alt': '#ブルーアーカイブ ユウカ......あっ...... - 七剣なな＠1日目東ス-23b的插画', 'titleCaptionTranslation': {'workTitle': None, 'workCaption': None}, 'createDate': '2023-07-18T00:30:05+09:00', 'updateDate': '2023-07-18T00:30:05+09:00', 'isUnlisted': False, 'isMasked': False, 'aiType': 1, 'profileImageUrl': 'https://i.pximg.net/user-profile/img/2020/03/07/09/39/18/18059016_b9d1215570ff1ea6dd63bd4b225a7f5e_50.png'}, {'id': '101585724', 'title': '早瀬ユウカ', 'illustType': 0, 'xRestrict': 0, 'restrict': 0, 'sl': 2, 'url': 'https://i.pximg.net/c/250x250_80_a2/img-master/img/2022/10/01/03/41/16/101585724_p0_square1200.jpg', 'description': '', 'tags': ['ブルーアーカイブ', 'ブルアカ', '早瀬ユウカ', 'ブルアカ脚太い部', 'ブルーアーカイブ10000users入り'], 'userId': '40964436', 'userName': 'らんけぶ ⚓︎', 'width': 2400, 'height': 1600, 'pageCount': 2, 'isBookmarkable': True, 'bookmarkData': None, 'alt': '#ブルーアーカイブ 早瀬ユウカ - らんけぶ ⚓︎的插画', 'titleCaptionTranslation': {'workTitle': None, 'workCaption': None}, 'createDate': '2022-09-30T17:30:02+09:00', 'updateDate': '2022-10-01T03:41:16+09:00', 'isUnlisted': False, 'isMasked': False, 'aiType': 0, 'profileImageUrl': 'https://i.pximg.net/user-profile/img/2023/07/02/15/06/02/24620415_18d25bb796d6e7688e478b8d789bbc37_50.jpg'}, {'id': '112679338', 'title': '优优香', 'illustType': 0, 'xRestrict': 0, 'restrict': 0, 'sl': 6, 'url': 'https://i.pximg.net/c/250x250_80_a2/custom-thumb/img/2023/10/19/20/01/38/112679338_p0_custom1200.jpg', 'description': '', 'tags': ['ブルーアーカイブ', '早瀬ユウカ', '早瀬ユウカ(体操服)', '下乳', '背中', '裏乳', 'お尻'], 'userId': '16741520', 'userName': '巴莎卡_R', 'width': 3000, 'height': 6000, 'pageCount': 1, 'isBookmarkable': True, 'bookmarkData': None, 'alt': '#ブルーアーカイブ 优优香 - 巴莎卡_R的插画', 'titleCaptionTranslation': {'workTitle': None, 'workCaption': None}, 'createDate': '2023-10-19T20:01:38+09:00', 'updateDate': '2023-10-19T20:01:38+09:00', 'isUnlisted': False, 'isMasked': False, 'aiType': 1, 'profileImageUrl': 'https://i.pximg.net/user-profile/img/2023/02/01/21/15/03/23966604_aec8c15a9f731a561f70ea5f2d975291_50.jpg'}, {'id': '105964004', 'title': 'ノア..?', 'illustType': 0, 'xRestrict': 0, 'restrict': 0, 'sl': 6, 'url': 'https://i.pximg.net/c/250x250_80_a2/custom-thumb/img/2023/03/06/12/00/28/105964004_p0_custom1200.jpg', 'description': '', 'tags': ['ブルーアーカイブ', 'ブルアカ', 'ノア', '生塩ノア', 'キス', '早瀬ユウカ', 'ブルーアーカイブ10000users入り', 'ごめユウカ', '先生(ブルーアーカイブ)'], 'userId': '9744682', 'userName': 'doldol', 'width': 2480, 'height': 3788, 'pageCount': 7, 'isBookmarkable': True, 'bookmarkData': None, 'alt': '#ブルーアーカイブ ノア..? - doldol的插画', 'titleCaptionTranslation': {'workTitle': None, 'workCaption': None}, 'createDate': '2023-03-06T12:00:28+09:00', 'updateDate': '2023-03-06T12:00:28+09:00', 'isUnlisted': False, 'isMasked': False, 'aiType': 1, 'profileImageUrl': 'https://i.pximg.net/user-profile/img/2021/08/26/04/33/52/21297591_1b3bdfdc43015720df77a3b8bc1e5715_50.jpg'}, {'id': '109856535', 'title': '早瀬ユウカ', 'illustType': 0, 'xRestrict': 0, 'restrict': 0, 'sl': 6, 'url': 'https://i.pximg.net/c/250x250_80_a2/img-master/img/2023/07/12/21/41/16/109856535_p0_square1200.jpg', 'description': '', 'tags': ['女の子', 'ブルーアーカイブ', 'ブルアカ', '巨乳', '尻神様', '早瀬ユウカ', '破れストッキング', 'コンドーム', 'ブルーアーカイブ5000users入り', 'ぱんつ'], 'userId': '89218870', 'userName': '碳酸', 'width': 2376, 'height': 3444, 'pageCount': 1, 'isBookmarkable': True, 'bookmarkData': None, 'alt': '#女の子 早瀬ユウカ - 碳酸的插画', 'titleCaptionTranslation': {'workTitle': None, 'workCaption': None}, 'createDate': '2023-07-12T21:41:16+09:00', 'updateDate': '2023-07-12T21:41:16+09:00', 'isUnlisted': False, 'isMasked': False, 'aiType': 1, 'profileImageUrl': 'https://i.pximg.net/user-profile/img/2023/01/27/22/28/57/23942517_2e95b12641a30d63dd386a5bb42ac428_50.jpg'}, {'id': '102875385', 'title': 'ユウカちゃん', 'illustType': 0, 'xRestrict': 0, 'restrict': 0, 'sl': 2, 'url': 'https://i.pximg.net/c/250x250_80_a2/custom-thumb/img/2022/11/18/00/00/08/102875385_p0_custom1200.jpg', 'description': '', 'tags': ['ブルーアーカイブ', 'ブルアカ', 'ユウカ', '早瀬ユウカ', '体操服', 'ブルマ', 'ブルーアーカイブ10000users入り'], 'userId': '4091289', 'userName': 'msh', 'width': 4000, 'height': 7000, 'pageCount': 1, 'isBookmarkable': True, 'bookmarkData': None, 'alt': '#ブルーアーカイブ ユウカちゃん - msh的插画', 'titleCaptionTranslation': {'workTitle': None, 'workCaption': None}, 'createDate': '2022-11-18T00:00:08+09:00', 'updateDate': '2022-11-18T00:00:08+09:00', 'isUnlisted': False, 'isMasked': False, 'aiType': 1, 'profileImageUrl': 'https://i.pximg.net/user-profile/img/2022/08/19/18/21/37/23211432_50a44345923f0e120243acec48716ba0_50.jpg'}, {'id': '112629340', 'title': '早瀬ユウカ', 'illustType': 0, 'xRestrict': 0, 'restrict': 0, 'sl': 4, 'url': 'https://i.pximg.net/c/250x250_80_a2/img-master/img/2023/10/17/20/17/29/112629340_p0_square1200.jpg', 'description': '', 'tags': ['女の子', 'ブルアカ', 'BlueArchive', '早瀬ユウカ', 'コンドーム', 'ストッキング越しのパンツ', '着衣巨乳', '尻神様', 'ぱんつ', '目にハート'], 'userId': '89218870', 'userName': '碳酸', 'width': 2023, 'height': 3280, 'pageCount': 1, 'isBookmarkable': True, 'bookmarkData': None, 'alt': '#女の子 早瀬ユウカ - 碳酸的插画', 'titleCaptionTranslation': {'workTitle': None, 'workCaption': None}, 'createDate': '2023-10-17T20:17:29+09:00', 'updateDate': '2023-10-17T20:17:29+09:00', 'isUnlisted': False, 'isMasked': False, 'aiType': 1, 'profileImageUrl': 'https://i.pximg.net/user-profile/img/2023/01/27/22/28/57/23942517_2e95b12641a30d63dd386a5bb42ac428_50.jpg'}, {'id': '102902633', 'title': 'ぶるあかまとめ21', 'illustType': 0, 'xRestrict': 0, 'restrict': 0, 'sl': 4, 'url': 'https://i.pximg.net/c/250x250_80_a2/img-master/img/2022/11/19/00/07/37/102902633_p0_square1200.jpg', 'description': '', 'tags': ['ブルーアーカイブ', '早瀬ユウカ', '生塩ノア', '先生(ブルーアーカイブ)', 'ブルマ', 'ブルーアーカイブ10000users入り'], 'userId': '66130775', 'userName': '殿宮', 'width': 1516, 'height': 2115, 'pageCount': 4, 'isBookmarkable': True, 'bookmarkData': None, 'alt': '#ブルーアーカイブ ぶるあかまとめ21 - 殿宮的插画', 'titleCaptionTranslation': {'workTitle': None, 'workCaption': None}, 'createDate': '2022-11-19T00:07:37+09:00', 'updateDate': '2022-11-19T00:07:37+09:00', 'isUnlisted': False, 'isMasked': False, 'aiType': 1, 'profileImageUrl': 'https://s.pximg.net/common/images/no_profile_s.png'}, {'id': '103191588', 'title': '早瀬ユウカ', 'illustType': 0, 'xRestrict': 0, 'restrict': 0, 'sl': 6, 'url': 'https://i.pximg.net/c/250x250_80_a2/custom-thumb/img/2022/11/29/12/20/57/103191588_p0_custom1200.jpg', 'description': '', 'tags': ['ブルーアーカイブ', '早瀬ユウカ', 'ブルアカ', '尻神様', '体育着', 'ブルマ', 'おっぱい', '巨乳', 'ちちしりふともも', 'ブルーアーカイブ10000users入り'], 'userId': '86763582', 'userName': '時/Toki', 'width': 840, 'height': 1147, 'pageCount': 1, 'isBookmarkable': True, 'bookmarkData': None, 'alt': '#ブルーアーカイブ 早瀬ユウカ - 時/Toki的插画', 'titleCaptionTranslation': {'workTitle': None, 'workCaption': None}, 'createDate': '2022-11-29T12:20:57+09:00', 'updateDate': '2022-11-29T12:20:57+09:00', 'isUnlisted': False, 'isMasked': False, 'aiType': 1, 'profileImageUrl': 'https://i.pximg.net/user-profile/img/2022/10/22/12/41/27/23497146_9e68fee2ed58f1a7ecbec539a20de144_50.jpg'}, {'id': '110819356', 'title': 'ユウカはビデオ通話をボイス通話と誤解した！', 'illustType': 0, 'xRestrict': 0, 'restrict': 0, 'sl': 4, 'url': 'https://i.pximg.net/c/250x250_80_a2/custom-thumb/img/2023/08/14/15/11/25/110819356_p0_custom1200.jpg', 'description': '', 'tags': ['女の子', 'BlueArchive', '블루아카이브', '유우카', 'HayaseYuuka', 'ユウカ', '早瀬ユウカ', 'ブルーアーカイブ1000users入り', '魅惑の谷間', 'ブルーアーカイブ'], 'userId': '86820369', 'userName': 'movik', 'width': 1775, 'height': 2988, 'pageCount': 1, 'isBookmarkable': True, 'bookmarkData': None, 'alt': '#女の子 ユウカはビデオ通話をボイス通話と誤解した！ - movik的插画', 'titleCaptionTranslation': {'workTitle': None, 'workCaption': None}, 'createDate': '2023-08-14T15:11:25+09:00', 'updateDate': '2023-08-14T15:11:25+09:00', 'isUnlisted': False, 'isMasked': False, 'aiType': 1, 'profileImageUrl': 'https://i.pximg.net/user-profile/img/2022/11/14/15/31/55/23602912_e2d02f4d6c2eddbc5c903a4e16a91ee7_50.jpg'}, {'id': '107902088', 'title': 'ユウカ', 'illustType': 0, 'xRestrict': 0, 'restrict': 0, 'sl': 2, 'url': 'https://i.pximg.net/c/250x250_80_a2/custom-thumb/img/2023/05/07/12/16/02/107902088_p0_custom1200.jpg', 'description': '', 'tags': ['女の子', '少女', 'ブルアカ', 'BlueArchive', 'ブルーアーカイブ', '早瀬ユウカ', '裾結び', 'おへそ', 'ブルマ', 'ブルーアーカイブ10000users入り'], 'userId': '69101980', 'userName': 'ひづるめ', 'width': 1741, 'height': 3780, 'pageCount': 1, 'isBookmarkable': True, 'bookmarkData': None, 'alt': '#女の子 ユウカ - ひづるめ的插画', 'titleCaptionTranslation': {'workTitle': None, 'workCaption': None}, 'createDate': '2023-05-07T12:16:02+09:00', 'updateDate': '2023-05-07T12:16:02+09:00', 'isUnlisted': False, 'isMasked': False, 'aiType': 1, 'profileImageUrl': 'https://i.pximg.net/user-profile/img/2022/12/19/16/42/54/23759634_82aad0f3400d3709f3f5e4f60137af40_50.jpg'}, {'id': '109155976', 'title': '❤', 'illustType': 0, 'xRestrict': 0, 'restrict': 0, 'sl': 2, 'url': 'https://i.pximg.net/c/250x250_80_a2/img-master/img/2023/06/19/17/47/23/109155976_p0_square1200.jpg', 'description': '', 'tags': ['早瀬ユウカ', '女の子', '美脚', 'ブルーアーカイブ', '足組み', '魅惑のふともも', 'ブルーアーカイブ10000users入り'], 'userId': '7638711', 'userName': '山桂贰', 'width': 6000, 'height': 3376, 'pageCount': 1, 'isBookmarkable': True, 'bookmarkData': None, 'alt': '#早瀬ユウカ ❤ - 山桂贰的插画', 'titleCaptionTranslation': {'workTitle': None, 'workCaption': None}, 'createDate': '2023-06-19T17:47:23+09:00', 'updateDate': '2023-06-19T17:47:23+09:00', 'isUnlisted': False, 'isMasked': False, 'aiType': 1, 'profileImageUrl': 'https://i.pximg.net/user-profile/img/2016/05/19/19/22/11/10952646_cbe79c109a64ae8da70fadd7235ab062_50.jpg'}, {'id': '112201887', 'title': 'Yuuka', 'illustType': 0, 'xRestrict': 0, 'restrict': 0, 'sl': 6, 'url': 'https://i.pximg.net/c/250x250_80_a2/custom-thumb/img/2023/10/02/01/14/03/112201887_p0_custom1200.jpg', 'description': '', 'tags': ['BlueArchive', 'ブルーアーカイブ', '尻神様', '早瀬ユウカ', '裏乳', 'ブルマ', 'ブルーアーカイブルマ', '裸ブルマ', '更衣室'], 'userId': '10669991', 'userName': 'Kätzchen', 'width': 1217, 'height': 2205, 'pageCount': 1, 'isBookmarkable': True, 'bookmarkData': None, 'alt': '#BlueArchive Yuuka - Kätzchen的插画', 'titleCaptionTranslation': {'workTitle': None, 'workCaption': None}, 'createDate': '2023-10-02T01:14:03+09:00', 'updateDate': '2023-10-02T01:14:03+09:00', 'isUnlisted': False, 'isMasked': False, 'aiType': 1, 'profileImageUrl': 'https://i.pximg.net/user-profile/img/2022/01/14/14/30/33/22049035_f9cea2ecb4cb38854c8e8546f7de3e87_50.png'}, {'id': '88469926', 'title': 'ユウカ', 'illustType': 0, 'xRestrict': 0, 'restrict': 0, 'sl': 2, 'url': 'https://i.pximg.net/c/250x250_80_a2/custom-thumb/img/2021/03/15/20/42/19/88469926_p0_custom1200.jpg', 'description': '', 'tags': ['ブルーアーカイブ', 'ブルアカ', 'ユウカ', '早瀬ユウカ', 'MPX', '薬莢', '太腿', 'セミナー(ブルーアーカイブ)', '魅惑のふともも', 'ブルーアーカイブ10000users入り'], 'userId': '4405891', 'userName': 'HIROKAZU', 'width': 1057, 'height': 1169, 'pageCount': 1, 'isBookmarkable': True, 'bookmarkData': None, 'alt': '#ブルーアーカイブ ユウカ - HIROKAZU的插画', 'titleCaptionTranslation': {'workTitle': None, 'workCaption': None}, 'createDate': '2021-03-15T17:00:00+09:00', 'updateDate': '2021-03-15T20:42:19+09:00', 'isUnlisted': False, 'isMasked': False, 'aiType': 0, 'profileImageUrl': 'https://i.pximg.net/user-profile/img/2020/05/31/17/05/26/18742648_a487836934791e90329a54b7d18e6b1f_50.jpg'}, {'id': '109184152', 'title': '早瀬ユウカ', 'illustType': 0, 'xRestrict': 0, 'restrict': 0, 'sl': 4, 'url': 'https://i.pximg.net/c/250x250_80_a2/img-master/img/2023/06/20/17/35/46/109184152_p0_square1200.jpg', 'description': '', 'tags': ['早瀬ユウカ', 'ブルーアーカイブ', 'ブルアカ', '胸', '魅惑の谷間', 'ハイアングル', 'ブルーアーカイブ10000users入り'], 'userId': '15408136', 'userName': 'Hood/후드', 'width': 1132, 'height': 1900, 'pageCount': 1, 'isBookmarkable': True, 'bookmarkData': None, 'alt': '#早瀬ユウカ 早瀬ユウカ - Hood/후드的插画', 'titleCaptionTranslation': {'workTitle': None, 'workCaption': None}, 'createDate': '2023-06-20T17:35:46+09:00', 'updateDate': '2023-06-20T17:35:46+09:00', 'isUnlisted': False, 'isMasked': False, 'aiType': 1, 'profileImageUrl': 'https://i.pximg.net/user-profile/img/2020/04/10/16/00/52/18301424_73737c1b5e4445717c6dacd49a70e782_50.jpg'}, {'id': '102296805', 'title': 'ユウカ   コンタクトブラ', 'illustType': 0, 'xRestrict': 0, 'restrict': 0, 'sl': 6, 'url': 'https://i.pximg.net/c/250x250_80_a2/custom-thumb/img/2022/10/28/19/12/32/102296805_p0_custom1200.jpg', 'description': '', 'tags': ['ブルアカ', '極上の乳', '少女', 'ユウカ', 'ブルーアーカイブ', '早瀬ユウカ', 'BAN装甲', 'ブルーアーカイブ10000users入り'], 'userId': '23040640', 'userName': 'TaiTai', 'width': 2481, 'height': 4739, 'pageCount': 1, 'isBookmarkable': True, 'bookmarkData': None, 'alt': '#ブルアカ ユウカ   コンタクトブラ - TaiTai的插画', 'titleCaptionTranslation': {'workTitle': None, 'workCaption': None}, 'createDate': '2022-10-28T19:12:32+09:00', 'updateDate': '2022-10-28T19:12:32+09:00', 'isUnlisted': False, 'isMasked': False, 'aiType': 0, 'profileImageUrl': 'https://i.pximg.net/user-profile/img/2021/01/10/19/27/45/19979901_31744b34d3271dba75ad74ec1f67f61f_50.jpg'}, {'id': '87550036', 'title': 'ユウカさん', 'illustType': 0, 'xRestrict': 0, 'restrict': 0, 'sl': 2, 'url': 'https://i.pximg.net/c/250x250_80_a2/img-master/img/2021/02/05/19/48/00/87550036_p0_square1200.jpg', 'description': '', 'tags': ['ブルーアーカイブ', 'ユウカ', '早瀬ユウカ', 'ミレニアムサイエンススクール', '春花らん', 'ブルーアーカイブ10000users入り'], 'userId': '3172636', 'userName': '雨傘ゆん', 'width': 1418, 'height': 2006, 'pageCount': 1, 'isBookmarkable': True, 'bookmarkData': None, 'alt': '#ブルーアーカイブ ユウカさん - 雨傘ゆん的插画', 'titleCaptionTranslation': {'workTitle': None, 'workCaption': None}, 'createDate': '2021-02-05T19:48:00+09:00', 'updateDate': '2021-02-05T19:48:00+09:00', 'isUnlisted': False, 'isMasked': False, 'aiType': 0, 'profileImageUrl': 'https://i.pximg.net/user-profile/img/2021/07/06/10/48/11/20990790_6fad49198fd6cdea8e5d50f625b8cc01_50.jpg'}, {'id': '106840899', 'title': 'ブルアカ4コマその5', 'illustType': 0, 'xRestrict': 0, 'restrict': 0, 'sl': 2, 'url': 'https://i.pximg.net/c/250x250_80_a2/img-master/img/2023/04/03/23/31/42/106840899_p0_square1200.jpg', 'description': '', 'tags': ['ブルーアーカイブ', '4コマ', 'ブルーアーカイブ5000users入り', '早瀬ユウカ', '黒崎コユキ', '錠前サオリ', '囧', '中務キリノ', 'たんこぶ'], 'userId': '218922', 'userName': 'びばえいち', 'width': 1640, 'height': 4044, 'pageCount': 5, 'isBookmarkable': True, 'bookmarkData': None, 'alt': '#ブルーアーカイブ ブルアカ4コマその5 - びばえいち的插画', 'titleCaptionTranslation': {'workTitle': None, 'workCaption': None}, 'createDate': '2023-04-03T23:31:42+09:00', 'updateDate': '2023-04-03T23:31:42+09:00', 'isUnlisted': False, 'isMasked': False, 'aiType': 1, 'profileImageUrl': 'https://i.pximg.net/user-profile/img/2015/10/12/06/39/36/9986714_5bd31df02a6ce1f781fe7824739eff10_50.jpg'}, {'id': '106513065', 'title': '「ほら、膝枕してあげますから」', 'illustType': 0, 'xRestrict': 0, 'restrict': 0, 'sl': 2, 'url': 'https://i.pximg.net/c/250x250_80_a2/custom-thumb/img/2023/03/24/20/14/29/106513065_p0_custom1200.jpg', 'description': '', 'tags': ['ブルーアーカイブ', '早瀬ユウカ', '膝枕', 'ミレニアムサイエンススクール', '魅惑のふともも', 'ブルーアーカイブ10000users入り'], 'userId': '5037818', 'userName': 'いがやん', 'width': 1150, 'height': 1965, 'pageCount': 1, 'isBookmarkable': True, 'bookmarkData': None, 'alt': '#ブルーアーカイブ 「ほら、膝枕してあげますから」 - いがやん的插画', 'titleCaptionTranslation': {'workTitle': None, 'workCaption': None}, 'createDate': '2023-03-24T18:42:03+09:00', 'updateDate': '2023-03-24T20:14:29+09:00', 'isUnlisted': False, 'isMasked': False, 'aiType': 1, 'profileImageUrl': 'https://i.pximg.net/user-profile/img/2020/12/24/18/57/15/19878017_324818461cc982e6555b3785f9aa05a4_50.png'}, {'id': '108413672', 'title': 'semina', 'illustType': 0, 'xRestrict': 0, 'restrict': 0, 'sl': 4, 'url': 'https://i.pximg.net/c/250x250_80_a2/img-master/img/2023/05/25/00/27/50/108413672_p0_square1200.jpg', 'description': '', 'tags': ['ブルーアーカイブ', '調月リオ', '生塩ノア', '早瀬ユウカ', 'ブルマ', '体操服', 'ブルーアーカイブルマ', 'お尻', 'セミナー(ブルーアーカイブ)', 'ブルーアーカイブ10000users入り'], 'userId': '69374642', 'userName': '雪/yuki', 'width': 4320, 'height': 1860, 'pageCount': 1, 'isBookmarkable': True, 'bookmarkData': None, 'alt': '#ブルーアーカイブ semina - 雪/yuki的插画', 'titleCaptionTranslation': {'workTitle': None, 'workCaption': None}, 'createDate': '2023-05-25T00:27:50+09:00', 'updateDate': '2023-05-25T00:27:50+09:00', 'isUnlisted': False, 'isMasked': False, 'aiType': 1, 'profileImageUrl': 'https://i.pximg.net/user-profile/img/2023/03/10/00/05/24/24131420_951c80569fef1523c100c35c751d1f91_50.jpg'}, {'id': '104595414', 'title': '更生研修中のミカ', 'illustType': 0, 'xRestrict': 0, 'restrict': 0, 'sl': 2, 'url': 'https://i.pximg.net/c/250x250_80_a2/custom-thumb/img/2023/01/17/19/47/37/104595414_p0_custom1200.jpg', 'description': '', 'tags': ['ブルアカ', 'ブルーアーカイブ', '聖園ミカ', 'すげえよミカは', '早瀬ユウカ', '衣装交換', '衣装チェンジ', '混ぜるな自然', 'ブルーアーカイブ10000users入り'], 'userId': '9609632', 'userName': '比宮じょーず', 'width': 1787, 'height': 2500, 'pageCount': 1, 'isBookmarkable': True, 'bookmarkData': None, 'alt': '#ブルアカ 更生研修中のミカ - 比宮じょーず的插画', 'titleCaptionTranslation': {'workTitle': None, 'workCaption': None}, 'createDate': '2023-01-17T19:47:37+09:00', 'updateDate': '2023-01-17T19:47:37+09:00', 'isUnlisted': False, 'isMasked': False, 'aiType': 1, 'profileImageUrl': 'https://i.pximg.net/user-profile/img/2020/03/17/00/38/11/18126134_da2cc2c823c3f8ce504a34aa5c4aa3a5_50.png'}, {'id': '106517157', 'title': 'チャイナドレスユウカ', 'illustType': 0, 'xRestrict': 0, 'restrict': 0, 'sl': 2, 'url': 'https://i.pximg.net/c/250x250_80_a2/custom-thumb/img/2023/03/24/20/57/09/106517157_p0_custom1200.jpg', 'description': '', 'tags': ['チャイナドレス', 'ブルーアーカイブ', '早瀬ユウカ', 'ブルアカ', '口隠し', 'トップス胸元前面に布のしわ', 'ブルーアーカイブ10000users入り'], 'userId': '4089680', 'userName': 'CeNanGam', 'width': 1129, 'height': 1600, 'pageCount': 1, 'isBookmarkable': True, 'bookmarkData': None, 'alt': '#チャイナドレス チャイナドレスユウカ - CeNanGam的插画', 'titleCaptionTranslation': {'workTitle': None, 'workCaption': None}, 'createDate': '2023-03-24T20:57:09+09:00', 'updateDate': '2023-03-24T20:57:09+09:00', 'isUnlisted': False, 'isMasked': False, 'aiType': 1, 'profileImageUrl': 'https://i.pximg.net/user-profile/img/2020/11/16/02/17/56/19676389_0853cab7c7e09c618115bfdc59394d2a_50.jpg'}, {'id': '107192938', 'title': '早瀬ユウカ', 'illustType': 0, 'xRestrict': 0, 'restrict': 0, 'sl': 4, 'url': 'https://i.pximg.net/c/250x250_80_a2/custom-thumb/img/2023/04/15/14/32/02/107192938_p0_custom1200.jpg', 'description': '', 'tags': ['ブルアカ', 'ブルーアーカイブ', '早瀬ユウカ', '水着', '早瀬ユウカ(体操服)', 'バニーガール', 'ブルーアーカイブ10000users入り', '太もも'], 'userId': '92737005', 'userName': 'Yoru', 'width': 2508, 'height': 2708, 'pageCount': 1, 'isBookmarkable': True, 'bookmarkData': None, 'alt': '#ブルアカ 早瀬ユウカ - Yoru的插画', 'titleCaptionTranslation': {'workTitle': None, 'workCaption': None}, 'createDate': '2023-04-15T14:32:02+09:00', 'updateDate': '2023-04-15T14:32:02+09:00', 'isUnlisted': False, 'isMasked': False, 'aiType': 1, 'profileImageUrl': 'https://i.pximg.net/user-profile/img/2023/04/03/07/05/54/24241660_66e44245ba2c3950e0509f930f0b4798_50.jpg'}, {'id': '111067265', 'title': 'ユウカ', 'illustType': 0, 'xRestrict': 0, 'restrict': 0, 'sl': 4, 'url': 'https://i.pximg.net/c/250x250_80_a2/custom-thumb/img/2023/08/22/19/37/22/111067265_p0_custom1200.jpg', 'description': '', 'tags': ['ブルーアーカイブ', 'ユウカ', '早瀬ユウカ', 'ブルアカ', '汗', '巨乳化', '黒下着', 'ぱんつ', 'ブルーアーカイブ5000users入り'], 'userId': '45657658', 'userName': 'huhi', 'width': 3000, 'height': 4901, 'pageCount': 3, 'isBookmarkable': True, 'bookmarkData': None, 'alt': '#ブルーアーカイブ ユウカ - huhi的插画', 'titleCaptionTranslation': {'workTitle': None, 'workCaption': None}, 'createDate': '2023-08-22T19:37:22+09:00', 'updateDate': '2023-08-22T19:37:22+09:00', 'isUnlisted': False, 'isMasked': False, 'aiType': 1, 'profileImageUrl': 'https://i.pximg.net/user-profile/img/2023/08/22/21/17/53/24845803_375dc2b17548b85f146fb97547aa142c_50.jpg'}, {'id': '101180913', 'title': 'なつユウカ', 'illustType': 0, 'xRestrict': 0, 'restrict': 0, 'sl': 4, 'url': 'https://i.pximg.net/c/250x250_80_a2/custom-thumb/img/2022/09/12/19/11/29/101180913_p0_custom1200.jpg', 'description': '', 'tags': ['ブルーアーカイブ', 'ブルアカ', '早瀬ユウカ', '水着', '黒ビキニ', 'おへそ', '髪かきあげて', 'ブルーアーカイブ10000users入り'], 'userId': '12153080', 'userName': '杜山A', 'width': 2453, 'height': 3666, 'pageCount': 1, 'isBookmarkable': True, 'bookmarkData': None, 'alt': '#ブルーアーカイブ なつユウカ - 杜山A的插画', 'titleCaptionTranslation': {'workTitle': None, 'workCaption': None}, 'createDate': '2022-09-12T19:11:29+09:00', 'updateDate': '2022-09-12T19:11:29+09:00', 'isUnlisted': False, 'isMasked': False, 'aiType': 0, 'profileImageUrl': 'https://i.pximg.net/user-profile/img/2023/01/09/18/35/54/23861663_3655f7d8f942d428a26152baf9bf31c2_50.jpg'}, {'id': '103015306', 'title': 'ユウカ', 'illustType': 0, 'xRestrict': 0, 'restrict': 0, 'sl': 2, 'url': 'https://i.pximg.net/c/250x250_80_a2/img-master/img/2022/11/23/00/00/15/103015306_p0_square1200.jpg', 'description': '', 'tags': ['ブルーアーカイブ', '早瀬ユウカ', 'ブルアカ', 'ユウカ・レイグロ', '体育着', 'ブルマ', 'ナイスブルマ!', 'ハーフアップ', 'ミレニアムサイエンススクール', 'ブルーアーカイブ10000users入り'], 'userId': '57681088', 'userName': '奎珍', 'width': 1383, 'height': 2660, 'pageCount': 1, 'isBookmarkable': True, 'bookmarkData': None, 'alt': '#ブルーアーカイブ ユウカ - 奎珍的插画', 'titleCaptionTranslation': {'workTitle': None, 'workCaption': None}, 'createDate': '2022-11-23T00:00:15+09:00', 'updateDate': '2022-11-23T00:00:15+09:00', 'isUnlisted': False, 'isMasked': False, 'aiType': 1, 'profileImageUrl': 'https://i.pximg.net/user-profile/img/2023/03/23/17/06/25/24191918_0d9f75b56a7e0c9d1ec83996f72dbd89_50.png'}, {'id': '105671379', 'title': '先生！確定申告は自分でやってください！', 'illustType': 0, 'xRestrict': 0, 'restrict': 0, 'sl': 2, 'url': 'https://i.pximg.net/c/250x250_80_a2/custom-thumb/img/2023/02/24/19/13/39/105671379_p0_custom1200.jpg', 'description': '', 'tags': ['ブルーアーカイブ', '早瀬ユウカ', 'ふともも', '確定申告', '確定申告アーカイブ', 'ハーフグローブ', 'ブルアカ脚太い部', 'ブルーアーカイブ10000users入り'], 'userId': '5037818', 'userName': 'いがやん', 'width': 1037, 'height': 1637, 'pageCount': 1, 'isBookmarkable': True, 'bookmarkData': None, 'alt': '#ブルーアーカイブ 先生！確定申告は自分でやってください！ - いがやん的插画', 'titleCaptionTranslation': {'workTitle': None, 'workCaption': None}, 'createDate': '2023-02-24T19:13:39+09:00', 'updateDate': '2023-02-24T19:13:39+09:00', 'isUnlisted': False, 'isMasked': False, 'aiType': 1, 'profileImageUrl': 'https://i.pximg.net/user-profile/img/2020/12/24/18/57/15/19878017_324818461cc982e6555b3785f9aa05a4_50.png'}, {'id': '108907778', 'title': '早瀬ユウカ ±10', 'illustType': 0, 'xRestrict': 0, 'restrict': 0, 'sl': 2, 'url': 'https://i.pximg.net/c/250x250_80_a2/img-master/img/2023/06/11/03/32/02/108907778_p0_square1200.jpg', 'description': '', 'tags': ['ブルーアーカイブ', 'ブルアカ', '早瀬ユウカ', '大人化', '成長過程', '巨乳', 'ブルーアーカイブ10000users入り'], 'userId': '92737005', 'userName': 'Yoru', 'width': 2500, 'height': 2000, 'pageCount': 1, 'isBookmarkable': True, 'bookmarkData': None, 'alt': '#ブルーアーカイブ 早瀬ユウカ ±10 - Yoru的插画', 'titleCaptionTranslation': {'workTitle': None, 'workCaption': None}, 'createDate': '2023-06-11T03:32:02+09:00', 'updateDate': '2023-06-11T03:32:02+09:00', 'isUnlisted': False, 'isMasked': False, 'aiType': 1, 'profileImageUrl': 'https://i.pximg.net/user-profile/img/2023/04/03/07/05/54/24241660_66e44245ba2c3950e0509f930f0b4798_50.jpg'}, {'id': '102765809', 'title': 'ブルアカいろいろえ', 'illustType': 0, 'xRestrict': 0, 'restrict': 0, 'sl': 2, 'url': 'https://i.pximg.net/c/250x250_80_a2/img-master/img/2022/11/13/20/52/14/102765809_p0_square1200.jpg', 'description': '', 'tags': ['ブルーアーカイブ', '女先生(ブルーアーカイブ)', 'ゲマトリア(ブルーアーカイブ)', '桐藤ナギサ', '早瀬ユウカ', '錠前サオリ', '砂狼シロコ', '百合', 'ブルーアーカイブ10000users入り'], 'userId': '27174213', 'userName': '冷凍アフロ', 'width': 1500, 'height': 1200, 'pageCount': 11, 'isBookmarkable': True, 'bookmarkData': None, 'alt': '#ブルーアーカイブ ブルアカいろいろえ - 冷凍アフロ的插画', 'titleCaptionTranslation': {'workTitle': None, 'workCaption': None}, 'createDate': '2022-11-13T20:52:14+09:00', 'updateDate': '2022-11-13T20:52:14+09:00', 'isUnlisted': False, 'isMasked': False, 'aiType': 1, 'profileImageUrl': 'https://i.pximg.net/user-profile/img/2018/06/25/13/55/22/14404199_82eb29101db63a1710a491856d39b632_50.jpg'}, {'id': '90707367', 'title': 'ユウカ', 'illustType': 0, 'xRestrict': 0, 'restrict': 0, 'sl': 2, 'url': 'https://i.pximg.net/c/250x250_80_a2/img-master/img/2021/06/21/09/39/24/90707367_p0_square1200.jpg', 'description': '', 'tags': ['ブルーアーカイブ', '早瀬ユウカ', 'セミナー(ブルーアーカイブ)', 'ブルーアーカイブ5000users入り'], 'userId': '63107031', 'userName': 'ぽんぽんぬん', 'width': 1696, 'height': 2500, 'pageCount': 1, 'isBookmarkable': True, 'bookmarkData': None, 'alt': '#ブルーアーカイブ ユウカ - ぽんぽんぬん的插画', 'titleCaptionTranslation': {'workTitle': None, 'workCaption': None}, 'createDate': '2021-06-21T09:39:24+09:00', 'updateDate': '2021-06-21T09:39:24+09:00', 'isUnlisted': False, 'isMasked': False, 'aiType': 0, 'profileImageUrl': 'https://i.pximg.net/user-profile/img/2021/01/09/17/41/35/19972971_c93057237149045f64f409bf56882924_50.png'}, {'id': '112439286', 'title': '优香', 'illustType': 0, 'xRestrict': 0, 'restrict': 0, 'sl': 4, 'url': 'https://i.pximg.net/c/250x250_80_a2/custom-thumb/img/2023/10/10/19/46/42/112439286_p0_custom1200.jpg', 'description': '', 'tags': ['ブルーアーカイブ', '早瀬ユウカ', '魅惑のふともも', '巨乳', '太もも'], 'userId': '16741520', 'userName': '巴莎卡_R', 'width': 3000, 'height': 6000, 'pageCount': 1, 'isBookmarkable': True, 'bookmarkData': None, 'alt': '#ブルーアーカイブ 优香 - 巴莎卡_R的插画', 'titleCaptionTranslation': {'workTitle': None, 'workCaption': None}, 'createDate': '2023-10-10T19:46:42+09:00', 'updateDate': '2023-10-10T19:46:42+09:00', 'isUnlisted': False, 'isMasked': False, 'aiType': 1, 'profileImageUrl': 'https://i.pximg.net/user-profile/img/2023/02/01/21/15/03/23966604_aec8c15a9f731a561f70ea5f2d975291_50.jpg'}, {'id': '103673131', 'title': 'ブルアカまとめ', 'illustType': 0, 'xRestrict': 0, 'restrict': 0, 'sl': 4, 'url': 'https://i.pximg.net/c/250x250_80_a2/img-master/img/2022/12/17/15/17/28/103673131_p0_square1200.jpg', 'description': '', 'tags': ['ブルーアーカイブ', 'ブルアカ', '早瀬ユウカ', '伊落マリー', '阿慈谷ヒフミ', '空崎ヒナ', '陸八魔アル', '愛清フウカ', '鷲見セリナ', '生塩ノア'], 'userId': '3981325', 'userName': '仮倉', 'width': 1200, 'height': 1670, 'pageCount': 10, 'isBookmarkable': True, 'bookmarkData': None, 'alt': '#ブルーアーカイブ ブルアカまとめ - 仮倉的插画', 'titleCaptionTranslation': {'workTitle': None, 'workCaption': None}, 'createDate': '2022-12-17T15:17:28+09:00', 'updateDate': '2022-12-17T15:17:28+09:00', 'isUnlisted': False, 'isMasked': False, 'aiType': 1, 'profileImageUrl': 'https://i.pximg.net/user-profile/img/2020/04/12/22/20/26/18317652_6c82f073c0d626f752a57c0b704ab123_50.png'}, {'id': '107581064', 'title': 'ユウカ', 'illustType': 0, 'xRestrict': 0, 'restrict': 0, 'sl': 4, 'url': 'https://i.pximg.net/c/250x250_80_a2/custom-thumb/img/2023/04/28/00/00/06/107581064_p0_custom1200.jpg', 'description': '', 'tags': ['女の子', 'ブルーアーカイブ', 'ブルアカ', '早瀬ユウカ', '魅惑のふともも', 'ガーターベルト', 'ブルーアーカイブ10000users入り', '足組み'], 'userId': '61690960', 'userName': 'MEOYO', 'width': 1400, 'height': 2494, 'pageCount': 1, 'isBookmarkable': True, 'bookmarkData': None, 'alt': '#女の子 ユウカ - MEOYO的插画', 'titleCaptionTranslation': {'workTitle': None, 'workCaption': None}, 'createDate': '2023-04-28T00:00:06+09:00', 'updateDate': '2023-04-28T00:00:06+09:00', 'isUnlisted': False, 'isMasked': False, 'aiType': 1, 'profileImageUrl': 'https://i.pximg.net/user-profile/img/2023/08/27/13/20/53/24865421_def5db61f99193b219977436bf495338_50.jpg'}, {'id': '103920780', 'title': '💙', 'illustType': 0, 'xRestrict': 0, 'restrict': 0, 'sl': 2, 'url': 'https://i.pximg.net/c/250x250_80_a2/img-master/img/2022/12/26/00/00/45/103920780_p0_square1200.jpg', 'description': '', 'tags': ['ブルーアーカイブ', '早瀬ユウカ', '生塩ノア', '体操服', 'たくしあげ', 'へそ出し', '体育着', '腹', 'ブルーアーカイブ10000users入り'], 'userId': '11945252', 'userName': 'PDXen', 'width': 2220, 'height': 3105, 'pageCount': 1, 'isBookmarkable': True, 'bookmarkData': None, 'alt': '#ブルーアーカイブ 💙 - PDXen的插画', 'titleCaptionTranslation': {'workTitle': None, 'workCaption': None}, 'createDate': '2022-12-26T00:00:45+09:00', 'updateDate': '2022-12-26T00:00:45+09:00', 'isUnlisted': False, 'isMasked': False, 'aiType': 1, 'profileImageUrl': 'https://i.pximg.net/user-profile/img/2016/10/05/12/51/38/11580964_24e31fbc84c7702386f7e6916db1efe6_50.png'}, {'id': '108311735', 'title': '先生よわよわシリーズ 13', 'illustType': 0, 'xRestrict': 0, 'restrict': 0, 'sl': 2, 'url': 'https://i.pximg.net/c/250x250_80_a2/img-master/img/2023/05/21/13/03/51/108311735_p0_square1200.jpg', 'description': '', 'tags': ['ブルーアーカイブ', '早瀬ユウカ', '女先生(ブルーアーカイブ)', '先生よわよわシリーズ', 'ポルチオ責め', '百合', 'やっぱり負けてる', 'お腹ぐりぐり', 'ブルーアーカイブ5000users入り'], 'userId': '44554758', 'userName': 'vivoさん', 'width': 1600, 'height': 2100, 'pageCount': 1, 'isBookmarkable': True, 'bookmarkData': None, 'alt': '#ブルーアーカイブ 先生よわよわシリーズ 13 - vivoさん的插画', 'titleCaptionTranslation': {'workTitle': None, 'workCaption': None}, 'createDate': '2023-05-21T13:03:51+09:00', 'updateDate': '2023-05-21T13:03:51+09:00', 'isUnlisted': False, 'isMasked': False, 'aiType': 1, 'profileImageUrl': 'https://i.pximg.net/user-profile/img/2022/03/13/03/12/57/22372198_a8a3c43c3a28611e9f205cb42bd3fa44_50.jpg'}], 'total': 11393, 'lastPage': 190, 'bookmarkRanges': [{'min': None, 'max': None}, {'min': 10000, 'max': None}, {'min': 5000, 'max': 9999}, {'min': 1000, 'max': 4999}, {'min': 500, 'max': 999}, {'min': 300, 'max': 499}, {'min': 100, 'max': 299}, {'min': 50, 'max': 99}, {'min': 30, 'max': 49}]}, 'popular': {'recent': [{'id': '113330280', 'title': '「せっ先生?! こんな時間に…」', 'illustType': 0, 'xRestrict': 0, 'restrict': 0, 'sl': 4, 'url': 'https://i.pximg.net/c/250x250_80_a2/img-master/img/2023/11/11/23/09/49/113330280_p0_square1200.jpg', 'description': '', 'tags': ['BlueArchive', 'ブルーアーカイブ', '早瀬ユウカ', '太もも', '吐息'], 'userId': '10669991', 'userName': 'Kätzchen', 'width': 1150, 'height': 2205, 'pageCount': 1, 'isBookmarkable': True, 'bookmarkData': None, 'alt': '#BlueArchive 「せっ先生?! こんな時間に…」 - Kätzchen的插画', 'titleCaptionTranslation': {'workTitle': None, 'workCaption': None}, 'createDate': '2023-11-11T23:09:49+09:00', 'updateDate': '2023-11-11T23:09:49+09:00', 'isUnlisted': False, 'isMasked': False, 'aiType': 1, 'profileImageUrl': 'https://i.pximg.net/user-profile/img/2022/01/14/14/30/33/22049035_f9cea2ecb4cb38854c8e8546f7de3e87_50.png'}, {'id': '113285511', 'title': '「……」\\u3000\\u3000８４日目', 'illustType': 0, 'xRestrict': 0, 'restrict': 0, 'sl': 4, 'url': 'https://i.pximg.net/c/250x250_80_a2/img-master/img/2023/11/10/12/00/00/113285511_p0_square1200.jpg', 'description': '', 'tags': ['早瀬ユウカ', '100日チャレンジ', 'ブルーアーカイブ', 'ブルアカ', 'BlueArchive', 'ブルーアーカイブ1000users入り'], 'userId': '69101980', 'userName': 'ひづるめ', 'width': 2000, 'height': 3200, 'pageCount': 1, 'isBookmarkable': True, 'bookmarkData': None, 'alt': '#早瀬ユウカ 「……」\\u3000\\u3000８４日目 - ひづるめ的插画', 'titleCaptionTranslation': {'workTitle': None, 'workCaption': None}, 'createDate': '2023-11-10T12:00:00+09:00', 'updateDate': '2023-11-10T12:00:00+09:00', 'isUnlisted': False, 'isMasked': False, 'aiType': 1, 'profileImageUrl': 'https://i.pximg.net/user-profile/img/2022/12/19/16/42/54/23759634_82aad0f3400d3709f3f5e4f60137af40_50.jpg'}, {'id': '113209432', 'title': 'yuuka', 'illustType': 0, 'xRestrict': 0, 'restrict': 0, 'sl': 6, 'url': 'https://i.pximg.net/c/250x250_80_a2/custom-thumb/img/2023/11/07/08/42/22/113209432_p0_custom1200.jpg', 'description': '', 'tags': ['ブルアカ', 'ブルーアーカイブ', 'ユウカ', '早瀬ユウカ', '太もも', 'おっぱい'], 'userId': '16131171', 'userName': 'MOKEW', 'width': 2422, 'height': 3952, 'pageCount': 1, 'isBookmarkable': True, 'bookmarkData': None, 'alt': '#ブルアカ yuuka - MOKEW的插画', 'titleCaptionTranslation': {'workTitle': None, 'workCaption': None}, 'createDate': '2023-11-07T08:42:22+09:00', 'updateDate': '2023-11-07T08:42:22+09:00', 'isUnlisted': False, 'isMasked': False, 'aiType': 1, 'profileImageUrl': 'https://i.pximg.net/user-profile/img/2023/11/06/20/15/58/25135933_3a2ae3a7e977a579e03b5237437fa027_50.jpg'}, {'id': '113261856', 'title': 'セミナー', 'illustType': 0, 'xRestrict': 0, 'restrict': 0, 'sl': 2, 'url': 'https://i.pximg.net/c/250x250_80_a2/custom-thumb/img/2023/11/09/12/20/27/113261856_p0_custom1200.jpg', 'description': '', 'tags': ['女の子', 'ブルーアーカイブ', '生塩ノア', '黒崎コユキ', '早瀬ユウカ', 'セミナー(ブルーアーカイブ)', '二次創作', '何だょもぉぉぉぉ!なんでだよぉぉぉ!', '囧', '二次創作にオリジナルタグ'], 'userId': '30478106', 'userName': 'Reia', 'width': 1900, 'height': 1093, 'pageCount': 1, 'isBookmarkable': True, 'bookmarkData': None, 'alt': '#女の子 セミナー - Reia的插画', 'titleCaptionTranslation': {'workTitle': None, 'workCaption': None}, 'createDate': '2023-11-09T12:20:27+09:00', 'updateDate': '2023-11-09T12:20:27+09:00', 'isUnlisted': False, 'isMasked': False, 'aiType': 1, 'profileImageUrl': 'https://i.pximg.net/user-profile/img/2023/11/14/20/46/22/25164365_df666c75530638cfaa59c7f565027c81_50.jpg'}, {'id': '113313075', 'title': 'えっ、ちょっ、なんですか！\\u3000\\u3000８５日目', 'illustType': 0, 'xRestrict': 0, 'restrict': 0, 'sl': 2, 'url': 'https://i.pximg.net/c/250x250_80_a2/custom-thumb/img/2023/11/11/12/00/06/113313075_p0_custom1200.jpg', 'description': '', 'tags': ['100日チャレンジ', 'ブルーアーカイブ', 'ブルアカ', 'BlueArchive', '早瀬ユウカ', 'ブルーアーカイブ1000users入り', 'ブルーアーカイブルマ'], 'userId': '69101980', 'userName': 'ひづるめ', 'width': 1830, 'height': 3120, 'pageCount': 1, 'isBookmarkable': True, 'bookmarkData': None, 'alt': '#100日チャレンジ えっ、ちょっ、なんですか！\\u3000\\u3000８５日目 - ひづるめ的插画', 'titleCaptionTranslation': {'workTitle': None, 'workCaption': None}, 'createDate': '2023-11-11T12:00:06+09:00', 'updateDate': '2023-11-11T12:00:06+09:00', 'isUnlisted': False, 'isMasked': False, 'aiType': 1, 'profileImageUrl': 'https://i.pximg.net/user-profile/img/2022/12/19/16/42/54/23759634_82aad0f3400d3709f3f5e4f60137af40_50.jpg'}, {'id': '113332206', 'title': '早瀬ユウカ\\u3000\\u3000８６日目', 'illustType': 0, 'xRestrict': 0, 'restrict': 0, 'sl': 2, 'url': 'https://i.pximg.net/c/250x250_80_a2/img-master/img/2023/11/12/00/00/30/113332206_p0_square1200.jpg', 'description': '', 'tags': ['早瀬ユウカ', 'ブルアカ', 'ブルーアーカイブ', 'BlueArchive', '100日チャレンジ', 'ブルーアーカイブ1000users入り'], 'userId': '69101980', 'userName': 'ひづるめ', 'width': 1779, 'height': 3200, 'pageCount': 1, 'isBookmarkable': True, 'bookmarkData': None, 'alt': '#早瀬ユウカ 早瀬ユウカ\\u3000\\u3000８６日目 - ひづるめ的插画', 'titleCaptionTranslation': {'workTitle': None, 'workCaption': None}, 'createDate': '2023-11-12T00:00:30+09:00', 'updateDate': '2023-11-12T00:00:30+09:00', 'isUnlisted': False, 'isMasked': False, 'aiType': 1, 'profileImageUrl': 'https://i.pximg.net/user-profile/img/2022/12/19/16/42/54/23759634_82aad0f3400d3709f3f5e4f60137af40_50.jpg'}, {'id': '113254569', 'title': 'ユウカ', 'illustType': 0, 'xRestrict': 0, 'restrict': 0, 'sl': 2, 'url': 'https://i.pximg.net/c/250x250_80_a2/img-master/img/2023/11/09/01/28/18/113254569_p0_square1200.jpg', 'description': '', 'tags': ['ブルーアーカイブ', 'ユウカ', '早瀬ユウカ', '太もも'], 'userId': '42490384', 'userName': 'xi_xeong', 'width': 2500, 'height': 3537, 'pageCount': 1, 'isBookmarkable': True, 'bookmarkData': None, 'alt': '#ブルーアーカイブ ユウカ - xi_xeong的插画', 'titleCaptionTranslation': {'workTitle': None, 'workCaption': None}, 'createDate': '2023-11-09T01:28:18+09:00', 'updateDate': '2023-11-09T01:28:18+09:00', 'isUnlisted': False, 'isMasked': False, 'aiType': 1, 'profileImageUrl': 'https://i.pximg.net/user-profile/img/2019/11/30/22/24/09/16618901_b4bccf666377c96f837154d55fca22ac_50.jpg'}], 'permanent': [{'id': '103668628', 'title': '愛の重いユウカちゃんまんが', 'illustType': 1, 'xRestrict': 0, 'restrict': 0, 'sl': 2, 'url': 'https://i.pximg.net/c/250x250_80_a2/img-master/img/2022/12/17/11/20/32/103668628_p0_square1200.jpg', 'description': '', 'tags': ['漫画', 'ブルーアーカイブ', '早瀬ユウカ', 'ヤンデレ', '愛が重い', '先生(ブルーアーカイブ)', '貴方は私を怒らせました', 'たった1つのシンプルな答え', 'ブルーアーカイブ30000users入り'], 'userId': '1552244', 'userName': 'マツモト（松本陽介）', 'width': 935, 'height': 1318, 'pageCount': 3, 'isBookmarkable': True, 'bookmarkData': None, 'alt': '#ブルーアーカイブ 愛の重いユウカちゃんまんが - マツモト（松本陽介）的漫画 #漫画 #早瀬ユウカ #ヤンデレ', 'titleCaptionTranslation': {'workTitle': None, 'workCaption': None}, 'createDate': '2022-12-17T11:20:32+09:00', 'updateDate': '2022-12-17T11:20:32+09:00', 'isUnlisted': False, 'isMasked': False, 'aiType': 1, 'profileImageUrl': 'https://i.pximg.net/user-profile/img/2017/03/24/02/15/31/12310432_98f624685ae3f60159a4233f39717400_50.jpg'}, {'id': '101049006', 'title': '水着ユウカの幻覚', 'illustType': 0, 'xRestrict': 0, 'restrict': 0, 'sl': 2, 'url': 'https://i.pximg.net/c/250x250_80_a2/img-master/img/2022/09/07/00/00/26/101049006_p0_square1200.jpg', 'description': '', 'tags': ['ブルーアーカイブ', 'ブルアカ', '早瀬ユウカ', '後ろ手', 'ふともも', 'ショートパンツ', '重ね着', '水着', 'ポニーテール', 'ブルーアーカイブ30000users入り'], 'userId': '6594619', 'userName': 'amochin', 'width': 2894, 'height': 4093, 'pageCount': 1, 'isBookmarkable': True, 'bookmarkData': None, 'alt': '#ブルーアーカイブ 水着ユウカの幻覚 - amochin的插画', 'titleCaptionTranslation': {'workTitle': None, 'workCaption': None}, 'createDate': '2022-09-07T00:00:26+09:00', 'updateDate': '2022-09-07T00:00:26+09:00', 'isUnlisted': False, 'isMasked': False, 'aiType': 0, 'profileImageUrl': 'https://i.pximg.net/user-profile/img/2018/05/13/23/04/04/14224905_661c62e9163f53c1e3d9a1bae3a454bc_50.jpg'}, {'id': '99937743', 'title': 'ユウカ\\u3000ASMR', 'illustType': 0, 'xRestrict': 0, 'restrict': 0, 'sl': 2, 'url': 'https://i.pximg.net/c/250x250_80_a2/img-master/img/2022/07/23/19/10/00/99937743_p0_square1200.jpg', 'description': '', 'tags': ['ブルアカ', 'ブルーアーカイブ', 'BlueArchive', '早瀬ユウカ', 'ASMR', '先生(ブルーアーカイブ)', 'ささやき', 'あててんのよ', 'ブルーアーカイブ10000users入り'], 'userId': '225792', 'userName': '結城ゆき', 'width': 992, 'height': 1403, 'pageCount': 1, 'isBookmarkable': True, 'bookmarkData': None, 'alt': '#ブルアカ ユウカ\\u3000ASMR - 結城ゆき的插画', 'titleCaptionTranslation': {'workTitle': None, 'workCaption': None}, 'createDate': '2022-07-23T19:10:00+09:00', 'updateDate': '2022-07-23T19:10:00+09:00', 'isUnlisted': False, 'isMasked': False, 'aiType': 0, 'profileImageUrl': 'https://i.pximg.net/user-profile/img/2022/02/04/05/56/26/22163488_4dac70ebfd706e2fa92bc62fb5057bf0_50.jpg'}, {'id': '96418716', 'title': '早瀬ユウカ', 'illustType': 0, 'xRestrict': 0, 'restrict': 0, 'sl': 2, 'url': 'https://i.pximg.net/c/250x250_80_a2/custom-thumb/img/2022/02/21/19/00/01/96418716_p0_custom1200.jpg', 'description': '', 'tags': ['早瀬ユウカ', 'ブルーアーカイブ', 'ブルアカ', 'BlueArchive', '魅惑のふともも', 'ベルト', 'ブルーアーカイブ10000users入り', 'ハイアングル', 'ブルアカ脚太い部'], 'userId': '284551', 'userName': 'FED', 'width': 1010, 'height': 1318, 'pageCount': 1, 'isBookmarkable': True, 'bookmarkData': None, 'alt': '#早瀬ユウカ 早瀬ユウカ - FED的插画', 'titleCaptionTranslation': {'workTitle': None, 'workCaption': None}, 'createDate': '2022-02-21T19:00:01+09:00', 'updateDate': '2022-02-21T19:00:01+09:00', 'isUnlisted': False, 'isMasked': False, 'aiType': 0, 'profileImageUrl': 'https://i.pximg.net/user-profile/img/2018/10/15/01/38/23/14905596_febd89c499b207d6c5611b28f2488ca7_50.jpg'}, {'id': '108430298', 'title': '[静かにしないとばれますよ?]', 'illustType': 0, 'xRestrict': 0, 'restrict': 0, 'sl': 2, 'url': 'https://i.pximg.net/c/250x250_80_a2/img-master/img/2023/05/25/19/18/53/108430298_p0_square1200.jpg', 'description': '', 'tags': ['調月リオ', 'ブルーアーカイブ', '黒タイツ', 'スマートフォン', 'コンドーム', 'セミナー(ブルーアーカイブ)', 'ブルーアーカイブ10000users入り', '早瀬ユウカ', 'スモークガラス', 'ごめユウカ/逆NTR'], 'userId': '15408136', 'userName': 'Hood/후드', 'width': 1128, 'height': 1900, 'pageCount': 1, 'isBookmarkable': True, 'bookmarkData': None, 'alt': '#調月リオ [静かにしないとばれますよ?] - Hood/후드的插画', 'titleCaptionTranslation': {'workTitle': None, 'workCaption': None}, 'createDate': '2023-05-25T19:18:53+09:00', 'updateDate': '2023-05-25T19:18:53+09:00', 'isUnlisted': False, 'isMasked': False, 'aiType': 1, 'profileImageUrl': 'https://i.pximg.net/user-profile/img/2020/04/10/16/00/52/18301424_73737c1b5e4445717c6dacd49a70e782_50.jpg'}, {'id': '92696322', 'title': 'ユウカ', 'illustType': 0, 'xRestrict': 0, 'restrict': 0, 'sl': 2, 'url': 'https://i.pximg.net/c/250x250_80_a2/img-master/img/2021/09/12/18/21/55/92696322_p0_square1200.jpg', 'description': '', 'tags': ['ブルーアーカイブ', '早瀬ユウカ', '制服', '春花らん', 'ブルーアーカイブ10000users入り'], 'userId': '34188767', 'userName': 'みず', 'width': 1365, 'height': 2047, 'pageCount': 1, 'isBookmarkable': True, 'bookmarkData': None, 'alt': '#ブルーアーカイブ ユウカ - みず的插画', 'titleCaptionTranslation': {'workTitle': None, 'workCaption': None}, 'createDate': '2021-09-12T18:21:55+09:00', 'updateDate': '2021-09-12T18:21:55+09:00', 'isUnlisted': False, 'isMasked': False, 'aiType': 0, 'profileImageUrl': 'https://i.pximg.net/user-profile/img/2023/06/21/17/59/53/24573303_51c9c79f588133ddd057536d66055aa3_50.jpg'}]}, 'relatedTags': ['ブルーアーカイブ', 'ブルーアーカイブ10000users入り', 'ブルアカ', '生塩ノア', 'ブルマ', 'ユウカ', '魅惑のふともも', 'BlueArchive', 'ミレニアムサイエンススクール', 'セミナー(ブルーアーカイブ)', 'バニーガール', '尻神様', '巨乳', '太もも', '水着', '体操服'], 'tagTranslation': {'ブルーアーカイブ': {'zh': '碧蓝档案'}, 'ブルーアーカイブ10000users入り': {'zh': 'Blue Archive 10000+ users'}, '生塩ノア': {'zh': '生盐诺亚'}, 'ブルマ': {'zh': '灯笼裤'}, 'ユウカ': {'zh': 'Yuuka'}, '魅惑のふともも': {'zh': '魅惑的大腿'}, 'ミレニアムサイエンススクール': {'zh': 'Millennium Science School'}, 'セミナー(ブルーアーカイブ)': {'zh': 'Seminar (Blue Archive)'}, 'バニーガール': {'zh': '兔女郎'}, '尻神様': {'zh': '尻神样'}, '巨乳': {'zh': 'large breasts'}, '太もも': {'zh': '大腿'}, '水着': {'zh': '泳装'}, '体操服': {'zh': 'gym uniform'}, '早瀬ユウカ': {'zh': 'Hayase Yuuka'}}, 'zoneConfig': {'logo': {'url': 'https://pixon.ads-pixiv.net/show?zone_id=logo_side&format=js&s=1&up=0&a=29&ng=g&l=zh&uri=%2Fajax%2Fsearch%2Fillustrations%2F_PARAM_&ref=www.pixiv.net&K=db0a643be4d762&ab_test_digits_first=59&uab=49&yuid=ExEzmCA&num=65539e63489'}, 'header': {'url': 'https://pixon.ads-pixiv.net/show?zone_id=header&format=js&s=1&up=0&a=29&ng=g&l=zh&uri=%2Fajax%2Fsearch%2Fillustrations%2F_PARAM_&ref=www.pixiv.net&K=db0a643be4d762&ab_test_digits_first=59&uab=49&yuid=ExEzmCA&num=65539e63650'}, 'footer': {'url': 'https://pixon.ads-pixiv.net/show?zone_id=footer&format=js&s=1&up=0&a=29&ng=g&l=zh&uri=%2Fajax%2Fsearch%2Fillustrations%2F_PARAM_&ref=www.pixiv.net&K=db0a643be4d762&ab_test_digits_first=59&uab=49&yuid=ExEzmCA&num=65539e63330'}, 'infeed': {'url': 'https://pixon.ads-pixiv.net/show?zone_id=illust_search_grid&format=js&s=1&up=0&a=29&ng=g&l=zh&uri=%2Fajax%2Fsearch%2Fillustrations%2F_PARAM_&ref=www.pixiv.net&K=db0a643be4d762&ab_test_digits_first=59&uab=49&yuid=ExEzmCA&num=65539e63705'}}, 'extraData': {'meta': {'title': '#Hayase Yuukaのイラスト作品(投稿超过1万件） - pixiv', 'description': '#Hayase Yuukaのイラストや絵は11393件投稿されています。与#Hayase Yuuka一起被添加的标签主要还有#碧蓝档案、#Blue Archive 10000+ users、#生盐诺亚、#灯笼裤、#Yuuka、#魅惑的大腿、#Millennium Science School、#Seminar (Blue Archive)、#兔女郎、#尻神样、#large breasts、#大腿、#泳装、#gym uniform等。', 'canonical': 'https://www.pixiv.net/tags/%E6%97%A9%E7%80%AC%E3%83%A6%E3%82%A6%E3%82%AB/illustrations', 'alternateLanguages': {'ja': 'https://www.pixiv.net/tags/%E6%97%A9%E7%80%AC%E3%83%A6%E3%82%A6%E3%82%AB/illustrations', 'en': 'https://www.pixiv.net/en/tags/%E6%97%A9%E7%80%AC%E3%83%A6%E3%82%A6%E3%82%AB/illustrations'}, 'descriptionHeader': '<a href=\"/tags/%E6%97%A9%E7%80%AC%E3%83%A6%E3%82%A6%E3%82%AB\">#Hayase Yuuka</a>のイラストや絵は11393件投稿されています。与<a href=\"/tags/%E6%97%A9%E7%80%AC%E3%83%A6%E3%82%A6%E3%82%AB\">#Hayase Yuuka</a>一起被添加的标签主要还有<a href=\"/tags/%E3%83%96%E3%83%AB%E3%83%BC%E3%82%A2%E3%83%BC%E3%82%AB%E3%82%A4%E3%83%96\">#碧蓝档案</a>、<a href=\"/tags/%E3%83%96%E3%83%AB%E3%83%BC%E3%82%A2%E3%83%BC%E3%82%AB%E3%82%A4%E3%83%9610000users%E5%85%A5%E3%82%8A\">#Blue Archive 10000+ users</a>、<a href=\"/tags/%E7%94%9F%E5%A1%A9%E3%83%8E%E3%82%A2\">#生盐诺亚</a>、<a href=\"/tags/%E3%83%96%E3%83%AB%E3%83%9E\">#灯笼裤</a>、<a href=\"/tags/%E3%83%A6%E3%82%A6%E3%82%AB\">#Yuuka</a>、<a href=\"/tags/%E9%AD%85%E6%83%91%E3%81%AE%E3%81%B5%E3%81%A8%E3%82%82%E3%82%82\">#魅惑的大腿</a>、<a href=\"/tags/%E3%83%9F%E3%83%AC%E3%83%8B%E3%82%A2%E3%83%A0%E3%82%B5%E3%82%A4%E3%82%A8%E3%83%B3%E3%82%B9%E3%82%B9%E3%82%AF%E3%83%BC%E3%83%AB\">#Millennium Science School</a>、<a href=\"/tags/%E3%82%BB%E3%83%9F%E3%83%8A%E3%83%BC%28%E3%83%96%E3%83%AB%E3%83%BC%E3%82%A2%E3%83%BC%E3%82%AB%E3%82%A4%E3%83%96%29\">#Seminar (Blue Archive)</a>、<a href=\"/tags/%E3%83%90%E3%83%8B%E3%83%BC%E3%82%AC%E3%83%BC%E3%83%AB\">#兔女郎</a>、<a href=\"/tags/%E5%B0%BB%E7%A5%9E%E6%A7%98\">#尻神样</a>、<a href=\"/tags/%E5%B7%A8%E4%B9%B3\">#large breasts</a>、<a href=\"/tags/%E5%A4%AA%E3%82%82%E3%82%82\">#大腿</a>、<a href=\"/tags/%E6%B0%B4%E7%9D%80\">#泳装</a>、<a href=\"/tags/%E4%BD%93%E6%93%8D%E6%9C%8D\">#gym uniform</a>等。'}}}}\n",
      "60\n"
     ]
    }
   ],
   "source": [
    "from urllib.parse import quote\n",
    "\n",
    "# ...\n",
    "\n",
    "tag_name = \"早瀬ユウカ\"\n",
    "category = \"illust\"\n",
    "\n",
    "id_group = set()\n",
    "\n",
    "# Encode the tag_name before using it in the URL\n",
    "encoded_tag_name = quote(tag_name, safe='')\n",
    "\n",
    "id_group.update(fetch_tag_works(tag_name=encoded_tag_name, category=category, order=True))\n",
    "\n",
    "print(len(id_group))\n"
   ]
  },
  {
   "cell_type": "markdown",
   "metadata": {},
   "source": [
    "2.对爬取的图片id进行对应url的提取和集成"
   ]
  },
  {
   "cell_type": "code",
   "execution_count": 25,
   "metadata": {},
   "outputs": [
    {
     "name": "stdout",
     "output_type": "stream",
     "text": [
      "===== collector start =====\n"
     ]
    },
    {
     "name": "stderr",
     "output_type": "stream",
     "text": [
      "collecting urls:   2%|▏         | 1/60 [00:01<01:22,  1.40s/it]"
     ]
    },
    {
     "name": "stdout",
     "output_type": "stream",
     "text": [
      "url: https://www.pixiv.net/ajax/illust/109184152/pages?lang=zh , resp_code==200, collected Over !\n"
     ]
    },
    {
     "name": "stderr",
     "output_type": "stream",
     "text": [
      "collecting urls:   3%|▎         | 2/60 [00:01<00:42,  1.37it/s]"
     ]
    },
    {
     "name": "stdout",
     "output_type": "stream",
     "text": [
      "url: https://www.pixiv.net/ajax/illust/107840093/pages?lang=zh , resp_code==200, collected Over !\n"
     ]
    },
    {
     "name": "stderr",
     "output_type": "stream",
     "text": [
      "collecting urls:   5%|▌         | 3/60 [00:02<00:31,  1.80it/s]"
     ]
    },
    {
     "name": "stdout",
     "output_type": "stream",
     "text": [
      "url: https://www.pixiv.net/ajax/illust/106840899/pages?lang=zh , resp_code==200, collected Over !\n"
     ]
    },
    {
     "name": "stderr",
     "output_type": "stream",
     "text": [
      "collecting urls:   7%|▋         | 4/60 [00:02<00:25,  2.21it/s]"
     ]
    },
    {
     "name": "stdout",
     "output_type": "stream",
     "text": [
      "url: https://www.pixiv.net/ajax/illust/106513065/pages?lang=zh , resp_code==200, collected Over !\n"
     ]
    },
    {
     "name": "stderr",
     "output_type": "stream",
     "text": [
      "collecting urls:   8%|▊         | 5/60 [00:02<00:21,  2.55it/s]"
     ]
    },
    {
     "name": "stdout",
     "output_type": "stream",
     "text": [
      "url: https://www.pixiv.net/ajax/illust/110012636/pages?lang=zh , resp_code==200, collected Over !\n"
     ]
    },
    {
     "name": "stderr",
     "output_type": "stream",
     "text": [
      "collecting urls:  10%|█         | 6/60 [00:02<00:19,  2.80it/s]"
     ]
    },
    {
     "name": "stdout",
     "output_type": "stream",
     "text": [
      "url: https://www.pixiv.net/ajax/illust/112679338/pages?lang=zh , resp_code==200, collected Over !\n"
     ]
    },
    {
     "name": "stderr",
     "output_type": "stream",
     "text": [
      "collecting urls:  12%|█▏        | 7/60 [00:03<00:17,  2.95it/s]"
     ]
    },
    {
     "name": "stdout",
     "output_type": "stream",
     "text": [
      "url: https://www.pixiv.net/ajax/illust/92705185/pages?lang=zh , resp_code==200, collected Over !\n"
     ]
    },
    {
     "name": "stderr",
     "output_type": "stream",
     "text": [
      "collecting urls:  13%|█▎        | 8/60 [00:03<00:16,  3.12it/s]"
     ]
    },
    {
     "name": "stdout",
     "output_type": "stream",
     "text": [
      "url: https://www.pixiv.net/ajax/illust/111067265/pages?lang=zh , resp_code==200, collected Over !\n"
     ]
    },
    {
     "name": "stderr",
     "output_type": "stream",
     "text": [
      "collecting urls:  15%|█▌        | 9/60 [00:03<00:16,  3.16it/s]"
     ]
    },
    {
     "name": "stdout",
     "output_type": "stream",
     "text": [
      "url: https://www.pixiv.net/ajax/illust/104595414/pages?lang=zh , resp_code==200, collected Over !\n"
     ]
    },
    {
     "name": "stderr",
     "output_type": "stream",
     "text": [
      "collecting urls:  17%|█▋        | 10/60 [00:04<00:15,  3.20it/s]"
     ]
    },
    {
     "name": "stdout",
     "output_type": "stream",
     "text": [
      "url: https://www.pixiv.net/ajax/illust/94523949/pages?lang=zh , resp_code==200, collected Over !\n"
     ]
    },
    {
     "name": "stderr",
     "output_type": "stream",
     "text": [
      "collecting urls:  18%|█▊        | 11/60 [00:05<00:30,  1.60it/s]"
     ]
    },
    {
     "name": "stdout",
     "output_type": "stream",
     "text": [
      "url: https://www.pixiv.net/ajax/illust/90321161/pages?lang=zh , resp_code==200, collected Over !\n"
     ]
    },
    {
     "name": "stderr",
     "output_type": "stream",
     "text": [
      "collecting urls:  20%|██        | 12/60 [00:06<00:39,  1.21it/s]"
     ]
    },
    {
     "name": "stdout",
     "output_type": "stream",
     "text": [
      "url: https://www.pixiv.net/ajax/illust/104369945/pages?lang=zh , resp_code==200, collected Over !\n"
     ]
    },
    {
     "name": "stderr",
     "output_type": "stream",
     "text": [
      "collecting urls:  22%|██▏       | 13/60 [00:06<00:31,  1.50it/s]"
     ]
    },
    {
     "name": "stdout",
     "output_type": "stream",
     "text": [
      "url: https://www.pixiv.net/ajax/illust/101958372/pages?lang=zh , resp_code==200, collected Over !\n"
     ]
    },
    {
     "name": "stderr",
     "output_type": "stream",
     "text": [
      "collecting urls:  23%|██▎       | 14/60 [00:07<00:33,  1.36it/s]"
     ]
    },
    {
     "name": "stdout",
     "output_type": "stream",
     "text": [
      "url: https://www.pixiv.net/ajax/illust/112201887/pages?lang=zh , resp_code==200, collected Over !\n"
     ]
    },
    {
     "name": "stderr",
     "output_type": "stream",
     "text": [
      "collecting urls:  25%|██▌       | 15/60 [00:08<00:26,  1.69it/s]"
     ]
    },
    {
     "name": "stdout",
     "output_type": "stream",
     "text": [
      "url: https://www.pixiv.net/ajax/illust/106839506/pages?lang=zh , resp_code==200, collected Over !\n"
     ]
    },
    {
     "name": "stderr",
     "output_type": "stream",
     "text": [
      "collecting urls:  27%|██▋       | 16/60 [00:09<00:38,  1.16it/s]"
     ]
    },
    {
     "name": "stdout",
     "output_type": "stream",
     "text": [
      "url: https://www.pixiv.net/ajax/illust/100606314/pages?lang=zh , resp_code==200, collected Over !\n"
     ]
    },
    {
     "name": "stderr",
     "output_type": "stream",
     "text": [
      "collecting urls:  28%|██▊       | 17/60 [00:09<00:29,  1.45it/s]"
     ]
    },
    {
     "name": "stdout",
     "output_type": "stream",
     "text": [
      "url: https://www.pixiv.net/ajax/illust/105671379/pages?lang=zh , resp_code==200, collected Over !\n"
     ]
    },
    {
     "name": "stderr",
     "output_type": "stream",
     "text": [
      "collecting urls:  30%|███       | 18/60 [00:10<00:23,  1.80it/s]"
     ]
    },
    {
     "name": "stdout",
     "output_type": "stream",
     "text": [
      "url: https://www.pixiv.net/ajax/illust/102541426/pages?lang=zh , resp_code==200, collected Over !\n"
     ]
    },
    {
     "name": "stderr",
     "output_type": "stream",
     "text": [
      "collecting urls:  32%|███▏      | 19/60 [00:10<00:19,  2.15it/s]"
     ]
    },
    {
     "name": "stdout",
     "output_type": "stream",
     "text": [
      "url: https://www.pixiv.net/ajax/illust/101110875/pages?lang=zh , resp_code==200, collected Over !\n"
     ]
    },
    {
     "name": "stderr",
     "output_type": "stream",
     "text": [
      "collecting urls:  33%|███▎      | 20/60 [00:10<00:16,  2.45it/s]"
     ]
    },
    {
     "name": "stdout",
     "output_type": "stream",
     "text": [
      "url: https://www.pixiv.net/ajax/illust/108438936/pages?lang=zh , resp_code==200, collected Over !\n"
     ]
    },
    {
     "name": "stderr",
     "output_type": "stream",
     "text": [
      "collecting urls:  35%|███▌      | 21/60 [00:11<00:19,  2.04it/s]"
     ]
    },
    {
     "name": "stdout",
     "output_type": "stream",
     "text": [
      "url: https://www.pixiv.net/ajax/illust/87550036/pages?lang=zh , resp_code==200, collected Over !\n"
     ]
    },
    {
     "name": "stderr",
     "output_type": "stream",
     "text": [
      "collecting urls:  37%|███▋      | 22/60 [00:11<00:15,  2.39it/s]"
     ]
    },
    {
     "name": "stdout",
     "output_type": "stream",
     "text": [
      "url: https://www.pixiv.net/ajax/illust/102765809/pages?lang=zh , resp_code==200, collected Over !\n"
     ]
    },
    {
     "name": "stderr",
     "output_type": "stream",
     "text": [
      "collecting urls:  38%|███▊      | 23/60 [00:11<00:14,  2.62it/s]"
     ]
    },
    {
     "name": "stdout",
     "output_type": "stream",
     "text": [
      "url: https://www.pixiv.net/ajax/illust/109856535/pages?lang=zh , resp_code==200, collected Over !\n"
     ]
    },
    {
     "name": "stderr",
     "output_type": "stream",
     "text": [
      "collecting urls:  40%|████      | 24/60 [00:13<00:29,  1.20it/s]"
     ]
    },
    {
     "name": "stdout",
     "output_type": "stream",
     "text": [
      "url: https://www.pixiv.net/ajax/illust/111318807/pages?lang=zh , resp_code==200, collected Over !\n"
     ]
    },
    {
     "name": "stderr",
     "output_type": "stream",
     "text": [
      "collecting urls:  42%|████▏     | 25/60 [00:14<00:22,  1.52it/s]"
     ]
    },
    {
     "name": "stdout",
     "output_type": "stream",
     "text": [
      "url: https://www.pixiv.net/ajax/illust/105964004/pages?lang=zh , resp_code==200, collected Over !\n"
     ]
    },
    {
     "name": "stderr",
     "output_type": "stream",
     "text": [
      "collecting urls:  43%|████▎     | 26/60 [00:14<00:19,  1.73it/s]"
     ]
    },
    {
     "name": "stdout",
     "output_type": "stream",
     "text": [
      "url: https://www.pixiv.net/ajax/illust/102351058/pages?lang=zh , resp_code==200, collected Over !\n"
     ]
    },
    {
     "name": "stderr",
     "output_type": "stream",
     "text": [
      "collecting urls:  45%|████▌     | 27/60 [00:14<00:15,  2.08it/s]"
     ]
    },
    {
     "name": "stdout",
     "output_type": "stream",
     "text": [
      "url: https://www.pixiv.net/ajax/illust/108311735/pages?lang=zh , resp_code==200, collected Over !\n"
     ]
    },
    {
     "name": "stderr",
     "output_type": "stream",
     "text": [
      "collecting urls:  47%|████▋     | 28/60 [00:14<00:13,  2.40it/s]"
     ]
    },
    {
     "name": "stdout",
     "output_type": "stream",
     "text": [
      "url: https://www.pixiv.net/ajax/illust/103678403/pages?lang=zh , resp_code==200, collected Over !\n"
     ]
    },
    {
     "name": "stderr",
     "output_type": "stream",
     "text": [
      "collecting urls:  48%|████▊     | 29/60 [00:15<00:11,  2.70it/s]"
     ]
    },
    {
     "name": "stdout",
     "output_type": "stream",
     "text": [
      "url: https://www.pixiv.net/ajax/illust/93466900/pages?lang=zh , resp_code==200, collected Over !\n"
     ]
    },
    {
     "name": "stderr",
     "output_type": "stream",
     "text": [
      "collecting urls:  50%|█████     | 30/60 [00:15<00:10,  2.94it/s]"
     ]
    },
    {
     "name": "stdout",
     "output_type": "stream",
     "text": [
      "url: https://www.pixiv.net/ajax/illust/103920780/pages?lang=zh , resp_code==200, collected Over !\n"
     ]
    },
    {
     "name": "stderr",
     "output_type": "stream",
     "text": [
      "collecting urls:  52%|█████▏    | 31/60 [00:15<00:09,  3.13it/s]"
     ]
    },
    {
     "name": "stdout",
     "output_type": "stream",
     "text": [
      "url: https://www.pixiv.net/ajax/illust/102296805/pages?lang=zh , resp_code==200, collected Over !\n"
     ]
    },
    {
     "name": "stderr",
     "output_type": "stream",
     "text": [
      "collecting urls:  53%|█████▎    | 32/60 [00:16<00:08,  3.23it/s]"
     ]
    },
    {
     "name": "stdout",
     "output_type": "stream",
     "text": [
      "url: https://www.pixiv.net/ajax/illust/109155976/pages?lang=zh , resp_code==200, collected Over !\n"
     ]
    },
    {
     "name": "stderr",
     "output_type": "stream",
     "text": [
      "collecting urls:  55%|█████▌    | 33/60 [00:16<00:08,  3.34it/s]"
     ]
    },
    {
     "name": "stdout",
     "output_type": "stream",
     "text": [
      "url: https://www.pixiv.net/ajax/illust/102902633/pages?lang=zh , resp_code==200, collected Over !\n"
     ]
    },
    {
     "name": "stderr",
     "output_type": "stream",
     "text": [
      "collecting urls:  57%|█████▋    | 34/60 [00:16<00:07,  3.47it/s]"
     ]
    },
    {
     "name": "stdout",
     "output_type": "stream",
     "text": [
      "url: https://www.pixiv.net/ajax/illust/112217482/pages?lang=zh , resp_code==200, collected Over !\n"
     ]
    },
    {
     "name": "stderr",
     "output_type": "stream",
     "text": [
      "collecting urls:  58%|█████▊    | 35/60 [00:16<00:07,  3.50it/s]"
     ]
    },
    {
     "name": "stdout",
     "output_type": "stream",
     "text": [
      "url: https://www.pixiv.net/ajax/illust/101585724/pages?lang=zh , resp_code==200, collected Over !\n"
     ]
    },
    {
     "name": "stderr",
     "output_type": "stream",
     "text": [
      "collecting urls:  60%|██████    | 36/60 [00:17<00:06,  3.66it/s]"
     ]
    },
    {
     "name": "stdout",
     "output_type": "stream",
     "text": [
      "url: https://www.pixiv.net/ajax/illust/106517157/pages?lang=zh , resp_code==200, collected Over !\n"
     ]
    },
    {
     "name": "stderr",
     "output_type": "stream",
     "text": [
      "collecting urls:  62%|██████▏   | 37/60 [00:18<00:12,  1.90it/s]"
     ]
    },
    {
     "name": "stdout",
     "output_type": "stream",
     "text": [
      "url: https://www.pixiv.net/ajax/illust/103015306/pages?lang=zh , resp_code==200, collected Over !\n"
     ]
    },
    {
     "name": "stderr",
     "output_type": "stream",
     "text": [
      "collecting urls:  63%|██████▎   | 38/60 [00:18<00:11,  1.91it/s]"
     ]
    },
    {
     "name": "stdout",
     "output_type": "stream",
     "text": [
      "url: https://www.pixiv.net/ajax/illust/110119025/pages?lang=zh , resp_code==200, collected Over !\n"
     ]
    },
    {
     "name": "stderr",
     "output_type": "stream",
     "text": [
      "collecting urls:  65%|██████▌   | 39/60 [00:19<00:09,  2.26it/s]"
     ]
    },
    {
     "name": "stdout",
     "output_type": "stream",
     "text": [
      "url: https://www.pixiv.net/ajax/illust/107902088/pages?lang=zh , resp_code==200, collected Over !\n"
     ]
    },
    {
     "name": "stderr",
     "output_type": "stream",
     "text": [
      "collecting urls:  67%|██████▋   | 40/60 [00:19<00:07,  2.55it/s]"
     ]
    },
    {
     "name": "stdout",
     "output_type": "stream",
     "text": [
      "url: https://www.pixiv.net/ajax/illust/90707367/pages?lang=zh , resp_code==200, collected Over !\n"
     ]
    },
    {
     "name": "stderr",
     "output_type": "stream",
     "text": [
      "collecting urls:  68%|██████▊   | 41/60 [00:19<00:06,  2.80it/s]"
     ]
    },
    {
     "name": "stdout",
     "output_type": "stream",
     "text": [
      "url: https://www.pixiv.net/ajax/illust/102463320/pages?lang=zh , resp_code==200, collected Over !\n"
     ]
    },
    {
     "name": "stderr",
     "output_type": "stream",
     "text": [
      "collecting urls:  70%|███████   | 42/60 [00:19<00:06,  2.96it/s]"
     ]
    },
    {
     "name": "stdout",
     "output_type": "stream",
     "text": [
      "url: https://www.pixiv.net/ajax/illust/107192938/pages?lang=zh , resp_code==200, collected Over !\n"
     ]
    },
    {
     "name": "stderr",
     "output_type": "stream",
     "text": [
      "collecting urls:  72%|███████▏  | 43/60 [00:20<00:05,  3.11it/s]"
     ]
    },
    {
     "name": "stdout",
     "output_type": "stream",
     "text": [
      "url: https://www.pixiv.net/ajax/illust/108907778/pages?lang=zh , resp_code==200, collected Over !\n"
     ]
    },
    {
     "name": "stderr",
     "output_type": "stream",
     "text": [
      "collecting urls:  73%|███████▎  | 44/60 [00:20<00:04,  3.33it/s]"
     ]
    },
    {
     "name": "stdout",
     "output_type": "stream",
     "text": [
      "url: https://www.pixiv.net/ajax/illust/112629340/pages?lang=zh , resp_code==200, collected Over !\n"
     ]
    },
    {
     "name": "stderr",
     "output_type": "stream",
     "text": [
      "collecting urls:  75%|███████▌  | 45/60 [00:20<00:04,  3.41it/s]"
     ]
    },
    {
     "name": "stdout",
     "output_type": "stream",
     "text": [
      "url: https://www.pixiv.net/ajax/illust/103673131/pages?lang=zh , resp_code==200, collected Over !\n"
     ]
    },
    {
     "name": "stderr",
     "output_type": "stream",
     "text": [
      "collecting urls:  77%|███████▋  | 46/60 [00:20<00:04,  3.43it/s]"
     ]
    },
    {
     "name": "stdout",
     "output_type": "stream",
     "text": [
      "url: https://www.pixiv.net/ajax/illust/107710260/pages?lang=zh , resp_code==200, collected Over !\n"
     ]
    },
    {
     "name": "stderr",
     "output_type": "stream",
     "text": [
      "collecting urls:  78%|███████▊  | 47/60 [00:21<00:03,  3.54it/s]"
     ]
    },
    {
     "name": "stdout",
     "output_type": "stream",
     "text": [
      "url: https://www.pixiv.net/ajax/illust/105141305/pages?lang=zh , resp_code==200, collected Over !\n"
     ]
    },
    {
     "name": "stderr",
     "output_type": "stream",
     "text": [
      "collecting urls:  80%|████████  | 48/60 [00:21<00:03,  3.57it/s]"
     ]
    },
    {
     "name": "stdout",
     "output_type": "stream",
     "text": [
      "url: https://www.pixiv.net/ajax/illust/89770810/pages?lang=zh , resp_code==200, collected Over !\n"
     ]
    },
    {
     "name": "stderr",
     "output_type": "stream",
     "text": [
      "collecting urls:  82%|████████▏ | 49/60 [00:21<00:03,  2.92it/s]"
     ]
    },
    {
     "name": "stdout",
     "output_type": "stream",
     "text": [
      "url: https://www.pixiv.net/ajax/illust/102875385/pages?lang=zh , resp_code==200, collected Over !\n"
     ]
    },
    {
     "name": "stderr",
     "output_type": "stream",
     "text": [
      "collecting urls:  83%|████████▎ | 50/60 [00:22<00:03,  3.03it/s]"
     ]
    },
    {
     "name": "stdout",
     "output_type": "stream",
     "text": [
      "url: https://www.pixiv.net/ajax/illust/88469926/pages?lang=zh , resp_code==200, collected Over !\n"
     ]
    },
    {
     "name": "stderr",
     "output_type": "stream",
     "text": [
      "collecting urls:  85%|████████▌ | 51/60 [00:22<00:02,  3.19it/s]"
     ]
    },
    {
     "name": "stdout",
     "output_type": "stream",
     "text": [
      "url: https://www.pixiv.net/ajax/illust/106023240/pages?lang=zh , resp_code==200, collected Over !\n"
     ]
    },
    {
     "name": "stderr",
     "output_type": "stream",
     "text": [
      "collecting urls:  87%|████████▋ | 52/60 [00:22<00:02,  3.43it/s]"
     ]
    },
    {
     "name": "stdout",
     "output_type": "stream",
     "text": [
      "url: https://www.pixiv.net/ajax/illust/103191588/pages?lang=zh , resp_code==200, collected Over !\n"
     ]
    },
    {
     "name": "stderr",
     "output_type": "stream",
     "text": [
      "collecting urls:  88%|████████▊ | 53/60 [00:23<00:01,  3.52it/s]"
     ]
    },
    {
     "name": "stdout",
     "output_type": "stream",
     "text": [
      "url: https://www.pixiv.net/ajax/illust/101180913/pages?lang=zh , resp_code==200, collected Over !\n"
     ]
    },
    {
     "name": "stderr",
     "output_type": "stream",
     "text": [
      "collecting urls:  90%|█████████ | 54/60 [00:23<00:01,  3.56it/s]"
     ]
    },
    {
     "name": "stdout",
     "output_type": "stream",
     "text": [
      "url: https://www.pixiv.net/ajax/illust/112439286/pages?lang=zh , resp_code==200, collected Over !\n"
     ]
    },
    {
     "name": "stderr",
     "output_type": "stream",
     "text": [
      "collecting urls:  92%|█████████▏| 55/60 [00:23<00:01,  3.55it/s]"
     ]
    },
    {
     "name": "stdout",
     "output_type": "stream",
     "text": [
      "url: https://www.pixiv.net/ajax/illust/111500288/pages?lang=zh , resp_code==200, collected Over !\n"
     ]
    },
    {
     "name": "stderr",
     "output_type": "stream",
     "text": [
      "collecting urls:  93%|█████████▎| 56/60 [00:23<00:01,  3.40it/s]"
     ]
    },
    {
     "name": "stdout",
     "output_type": "stream",
     "text": [
      "url: https://www.pixiv.net/ajax/illust/108413672/pages?lang=zh , resp_code==200, collected Over !\n"
     ]
    },
    {
     "name": "stderr",
     "output_type": "stream",
     "text": [
      "collecting urls:  95%|█████████▌| 57/60 [00:24<00:01,  2.13it/s]"
     ]
    },
    {
     "name": "stdout",
     "output_type": "stream",
     "text": [
      "url: https://www.pixiv.net/ajax/illust/107581064/pages?lang=zh , resp_code==200, collected Over !\n"
     ]
    },
    {
     "name": "stderr",
     "output_type": "stream",
     "text": [
      "collecting urls:  97%|█████████▋| 58/60 [00:25<00:00,  2.46it/s]"
     ]
    },
    {
     "name": "stdout",
     "output_type": "stream",
     "text": [
      "url: https://www.pixiv.net/ajax/illust/92434726/pages?lang=zh , resp_code==200, collected Over !\n"
     ]
    },
    {
     "name": "stderr",
     "output_type": "stream",
     "text": [
      "collecting urls:  98%|█████████▊| 59/60 [00:25<00:00,  2.75it/s]"
     ]
    },
    {
     "name": "stdout",
     "output_type": "stream",
     "text": [
      "url: https://www.pixiv.net/ajax/illust/110819356/pages?lang=zh , resp_code==200, collected Over !\n"
     ]
    },
    {
     "name": "stderr",
     "output_type": "stream",
     "text": [
      "collecting urls: 100%|██████████| 60/60 [00:25<00:00,  2.34it/s]"
     ]
    },
    {
     "name": "stdout",
     "output_type": "stream",
     "text": [
      "url: https://www.pixiv.net/ajax/illust/106223999/pages?lang=zh , resp_code==200, collected Over !\n"
     ]
    },
    {
     "name": "stderr",
     "output_type": "stream",
     "text": [
      "\n"
     ]
    }
   ],
   "source": [
    "print(\"===== collector start =====\")\n",
    "\n",
    "downloader = Downloader(capacity=1024)\n",
    "\n",
    "with tqdm(total=len(id_group), desc=\"collecting urls\") as pbar:\n",
    "    urls = [f\"https://www.pixiv.net/ajax/illust/{illust_id}/pages?lang=zh\"\n",
    "            for illust_id in id_group]\n",
    "    additional_headers = [\n",
    "        {\n",
    "            \"Referer\": f\"https://www.pixiv.net/artworks/{illust_id}\",\n",
    "            \"x-user-id\": \"100485309\",\n",
    "            \"COOKIE\": \"first_visit_datetime_pc=2023-11-14%2021%3A14%3A16; p_ab_id=2; p_ab_id_2=5; p_ab_d_id=71834117; __utmz=235335808.1699964057.1.1.utmcsr=(direct)|utmccn=(direct)|utmcmd=(none); _fbp=fb.1.1699964058282.1477207184; yuid_b=ExEzmCA; _gid=GA1.2.850018427.1699964127; _im_vid=01HF6W467E25MGXNXPJHEWPTDQ; device_token=dccafc93aaa8692c65f392c9a7ab00d2; privacy_policy_agreement=6; _ga_MZ1NL4PHH0=GS1.1.1699964577.1.0.1699964580.0.0.0; privacy_policy_notification=0; a_type=0; b_type=1; QSI_S_ZN_5hF4My7Ad6VNNAi=v:0:0; __cf_bm=EcdCq6u9Cawg5WGif5GMjKPfagY8Cn8LOorJQIztgy4-1699977997-0-ASiN6tdcrdSeVoHG+HLRzr4ie44p7eGBLLwf9926P50W+qVTe85kjNknXeTyrx0vQD5R1IFLtLWkOdggMgKe8eCw18QCPpazQ8PGIcyD5i1g; __utma=235335808.537133348.1699964057.1699964057.1699977999.2; __utmc=235335808; __utmt=1; cf_clearance=IS1KlIfrIWG0DyX6j9cU2VDiL2fgV5dfE7a4e3qhBwg-1699977998-0-1-91f80494.de9dec2c.c6f95b74-0.2.1699977998; PHPSESSID=100485309_FWeAxy5e9SMySeu4tvDPCSnMaDbMzocj; c_type=29; __utmv=235335808.|2=login%20ever=no=1^3=plan=premium=1^5=gender=male=1^6=user_id=100485309=1^9=p_ab_id=2=1^10=p_ab_id_2=5=1^11=lang=zh=1; __utmb=235335808.5.10.1699977999; _ga_75BBYNYN9J=GS1.1.1699977999.3.1.1699978046.0.0.0; _ga=GA1.2.362165901.1699964058\"\n",
    "        }\n",
    "        for illust_id in id_group]\n",
    "\n",
    "    for url, add_headers in zip(urls, additional_headers):\n",
    "\n",
    "        headers = {\n",
    "            \"User-Agent\": \"Mozilla/5.0 (Windows NT 10.0; Win64; x64) AppleWebKit/537.36 (KHTML, like Gecko) Chrome/101.0.4951.54 Safari/537.36\",\n",
    "        }\n",
    "\n",
    "        headers.update(add_headers)\n",
    "\n",
    "        proxies = {\n",
    "            \"https\": \"127.0.0.1:7890\"\n",
    "        }\n",
    "\n",
    "        response = requests.get(\n",
    "                        url, headers=headers,\n",
    "                        proxies=proxies,\n",
    "                        timeout=4)\n",
    "\n",
    "        # 获取 JSON 内容\n",
    "        json_content = response.json()\n",
    "\n",
    "        # 指定保存路径和文件名\n",
    "        save_path = \"E://vscode_clustter//code//github//Animate-Image-Bed//utils//crawler//test//jsons//re.json\"\n",
    "\n",
    "        # 将 JSON 内容保存到文件\n",
    "        with open(save_path, \"w\", encoding=\"utf-8\") as json_file:\n",
    "            json.dump(json_content, json_file, ensure_ascii=False, indent=4)\n",
    "\n",
    "        if response.status_code == 200:\n",
    "            print(f\"url: {url} , resp_code==200, collected Over !\" )\n",
    "            # 因为一个作品可能有多个img ，所以要进行归一化\n",
    "            collected_urls = set()\n",
    "            for url in response.json()[\"body\"]:\n",
    "                collected_urls.add(url[\"urls\"][\"original\"])\n",
    "        \n",
    "        if collected_urls is not None:\n",
    "            downloader.add(collected_urls)\n",
    "        pbar.update()"
   ]
  },
  {
   "cell_type": "markdown",
   "metadata": {},
   "source": [
    "> - ### Download Images"
   ]
  },
  {
   "cell_type": "code",
   "execution_count": 26,
   "metadata": {},
   "outputs": [
    {
     "name": "stdout",
     "output_type": "stream",
     "text": [
      "===== download start =====\n",
      "[INFO]: ===== downloader start =====\n"
     ]
    },
    {
     "name": "stderr",
     "output_type": "stream",
     "text": [
      "downloading / flow 396.28MB: 100%|██████████| 166/166 [01:21<00:00,  2.03it/s]"
     ]
    },
    {
     "name": "stdout",
     "output_type": "stream",
     "text": [
      "[INFO]: ===== downloader complete =====\n"
     ]
    },
    {
     "name": "stderr",
     "output_type": "stream",
     "text": [
      "\n"
     ]
    },
    {
     "data": {
      "text/plain": [
       "396.2766284942627"
      ]
     },
     "execution_count": 26,
     "metadata": {},
     "output_type": "execute_result"
    }
   ],
   "source": [
    "print(\"===== download start =====\")\n",
    "downloader.download()"
   ]
  }
 ],
 "metadata": {
  "kernelspec": {
   "display_name": "base",
   "language": "python",
   "name": "python3"
  },
  "language_info": {
   "codemirror_mode": {
    "name": "ipython",
    "version": 3
   },
   "file_extension": ".py",
   "mimetype": "text/x-python",
   "name": "python",
   "nbconvert_exporter": "python",
   "pygments_lexer": "ipython3",
   "version": "3.9.13"
  }
 },
 "nbformat": 4,
 "nbformat_minor": 2
}
