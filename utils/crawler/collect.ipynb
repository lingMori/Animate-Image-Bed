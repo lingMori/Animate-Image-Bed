{
 "cells": [
  {
   "cell_type": "markdown",
   "metadata": {},
   "source": [
    "# Pixiv Craw"
   ]
  },
  {
   "cell_type": "markdown",
   "metadata": {},
   "source": [
    "> - ### import repos"
   ]
  },
  {
   "cell_type": "code",
   "execution_count": 1,
   "metadata": {},
   "outputs": [],
   "source": [
    "import requests\n",
    "import json\n",
    "from tqdm import tqdm\n",
    "from pixiv_crawler.downloader.downloader import Downloader"
   ]
  },
  {
   "cell_type": "markdown",
   "metadata": {},
   "source": [
    "> - ### 按照artist的id来craw"
   ]
  },
  {
   "cell_type": "markdown",
   "metadata": {},
   "source": [
    "1.按照画师的id进行爬取（后续会添加函数 按照排名，标签进行爬取）"
   ]
  },
  {
   "cell_type": "code",
   "execution_count": 2,
   "metadata": {},
   "outputs": [],
   "source": [
    "def fetch_artist_works(artist_id, category):\n",
    "    # pixiv 的请求返回一般有两种，一种是漫画，一种是插画，还有其他的我懒得搞了，毕竟用的人很少（笑）\n",
    "    if category not in [\"illusts\", \"manga\"]:\n",
    "        raise ValueError(\"Invalid category. Use 'illustrations' or 'manga'.\")\n",
    "\n",
    "    url = f\"https://www.pixiv.net/ajax/user/{artist_id}/profile/all?lang=zh\"\n",
    "\n",
    "    additional_headers = {\n",
    "        \"x-user-id\": \"5640xxxx\",\n",
    "        \"COOKIE\": \"first_visit_datetime_pc=2022-03-23+09%3A05%3A13; p_ab_id=2; p_ab_id_2=6; p_ab_d_id=496637752; yuid_b=FnRJY4g; _fbp=fb.1.1647993926346.868094683; privacy_policy_notification=0; a_type=0; b_type=1; _im_vid=01FYT7DA0M1MG08GJSVD70BA7M; adr_id=lTzPqgTf6xmkSZZddeH8LhLHDKfx8OJsbbCpSa4F8n6kESK0; login_ever=yes; _td=e09e84b3-b5d0-4284-8cbc-fe6a9605154a; _ga_692MXKN5XF=GS1.1.1665973029.1.0.1665973029.0.0.0; cto_bundle=MeOqNl9aSyUyRkklMkJFcFJ5WCUyQlNzZkozQTFYSVpESHZCRiUyRm83QWZ3aTdmNEVIbG9FRWkxUUlIbDl0eiUyQnZlRmU3SWo0d1VLMGFFMks1M0dXWnA4OFBhMkNhcjJGQ3Rjakl3JTJGc3lwcU5ZV1NiY0RMbSUyQmQ0aEVZY0J4TnM0RiUyRnBEJTJGcVJPeSUyQkwyWTAwUmFvNmQyV3R5QlRnN2RXSFFYUSUzRCUzRA; _im_uid.3929=i.HNTUXPphRC6Tos5lngHwCA; c_type=21; privacy_policy_agreement=6; __gads=ID=e032ebe84fc5b362:T=1696335939:RT=1696335939:S=ALNI_MYk8hTGJ0JVZ08XHPJ1chcTiPcYZQ; __gpi=UID=00000c56c30e862e:T=1696335939:RT=1696335939:S=ALNI_MZ0J6EZLNM_IHlenurDDcoh0qn7tw; _ga_ZQEKG3EF2C=GS1.1.1696335939.1.0.1696335941.58.0.0; __utmv=235335808.|2=login%20ever=yes=1^3=plan=normal=1^5=gender=male=1^6=user_id=56405112=1^9=p_ab_id=2=1^10=p_ab_id_2=6=1^11=lang=zh=1; _gcl_au=1.1.2068989696.1697797468; PHPSESSID=56405112_5F6NwBp0ibUH6FuPbdq8P8dKXRrJiakY; device_token=d9e66683eee3c683671ce6dd45961915; _ga_MZ1NL4PHH0=GS1.1.1698243034.3.1.1698243060.0.0.0; __utmz=235335808.1698489562.713.11.utmcsr=google|utmccn=(organic)|utmcmd=organic|utmctr=(not%20provided); QSI_S_ZN_5hF4My7Ad6VNNAi=v:0:0; _gid=GA1.2.73441192.1699788507; _ga_ZPL8LPMDK3=GS1.1.1699930329.18.1.1699930357.0.0.0; __cf_bm=X67SFTFNe9KvEzK6AxS96ftfSVWEqcIgua.4.3EcMVc-1699935025-0-AfkUhf87pN2+siqG5r1YvGpphK/bajDCL09AvrYlnYhvxsux9sdfZQIN8W3Ha3ztxG0ErV0mnsKzNjCErKsxohNNrRGurEMD/KweXvYGAHlI; __utma=235335808.740189076.1647993924.1699930321.1699935028.744; __utmc=235335808; __utmt=1; cf_clearance=SJHsrjUq5DYhRK8AO2UWSsB.5pZbPWf68VmswfYjLVA-1699935773-0-1-631cd866.8b0b9526.341d8786-0.2.1699935773; _ga=GA1.2.740189076.1647993924; __utmb=235335808.16.10.1699935028; _ga_75BBYNYN9J=GS1.1.1699935028.495.1.1699936337.0.0.0\"\n",
    "    }\n",
    "\n",
    "    if category == \"illusts\":\n",
    "        additional_headers[\"Referer\"] = f\"https://www.pixiv.net/users/{artist_id}/illustrations\"\n",
    "    elif category == \"manga\":\n",
    "        additional_headers[\"Referer\"] = f\"https://www.pixiv.net/users/{artist_id}/manga\"\n",
    "\n",
    "    headers = {\n",
    "        \"User-Agent\": \"Mozilla/5.0 (Windows NT 10.0; Win64; x64) AppleWebKit/537.36 (KHTML, like Gecko) Chrome/101.0.4951.54 Safari/537.36\",\n",
    "    }\n",
    "\n",
    "    headers.update(additional_headers)\n",
    "\n",
    "    proxies = {\n",
    "        \"https\": \"127.0.0.1:7890\"\n",
    "    }\n",
    "\n",
    "    response = requests.get(url, headers=headers, proxies=proxies, timeout=4)\n",
    "\n",
    "    print(response.json())\n",
    "\n",
    "    if response.status_code == 200:\n",
    "        id_group = set(response.json()[\"body\"][category].keys())\n",
    "        return id_group"
   ]
  },
  {
   "cell_type": "code",
   "execution_count": 5,
   "metadata": {},
   "outputs": [
    {
     "name": "stdout",
     "output_type": "stream",
     "text": [
      "{'error': False, 'message': '', 'body': {'illusts': {'81225309': None, '78834571': None, '73521542': None, '70052155': None, '70024717': None, '69998496': None, '66355934': None, '64089360': None, '60474023': None, '58420472': None, '56471514': None, '54724406': None, '53859115': None, '51455457': None, '47749401': None, '44982128': None, '31957654': None}, 'manga': {'103686781': None, '100082808': None, '89532917': None, '81225213': None, '81225091': None, '78336518': None, '76053184': None, '72066662': None, '69998409': None, '66355845': None, '64089303': None, '60575412': None, '57988139': None, '53969876': None, '51907682': None, '44982929': None, '40466977': None, '37435957': None, '32202507': None}, 'novels': [], 'mangaSeries': [], 'novelSeries': [], 'pickup': [{'id': '103686781', 'title': 'C101新刊「性教育シリーズ総集編2」', 'illustType': 1, 'xRestrict': 1, 'restrict': 0, 'sl': 6, 'url': 'https://i.pximg.net/c/288x288_80_a2/img-master/img/2022/12/17/23/29/50/103686781_p0_square1200.jpg', 'description': 'サークルみくろぺえじ\\u3000二日目(３１日)東A-17a\\u3000当日は2000円＋おまけ本で頒布予定。<br />虎の穴  <a href=\"/jump.php?https%3A%2F%2Fec.toranoana.jp%2Ftora_r%2Fec%2Fitem%2F040031031805\" target=\"_blank\">https://ec.toranoana.jp/tora_r/ec/item/040031031805</a><br />メロンブックス <a href=\"/jump.php?https%3A%2F%2Fwww.melonbooks.co.jp%2Fdetail%2Fdetail.php%3Fproduct_id%3D1725318\" target=\"_blank\">https://www.melonbooks.co.jp/detail/detail.php?product_id=1725318</a><br /><br />描きおろし30P収録、電子版も予定してます。よろしくお願いします！', 'tags': ['R-18', '漫画', 'JC', '性教育', '尻神様', '足裏', '乳吸い', 'NTR'], 'userId': '3094189', 'userName': 'みくろぺえじ', 'width': 800, 'height': 1133, 'pageCount': 10, 'isBookmarkable': True, 'bookmarkData': None, 'alt': '#JC C101新刊「性教育シリーズ総集編2」 - みくろぺえじ的漫画 #漫画 #性教育 #尻神様', 'titleCaptionTranslation': {'workTitle': None, 'workCaption': None}, 'createDate': '2022-12-17T23:29:50+09:00', 'updateDate': '2022-12-17T23:29:50+09:00', 'isUnlisted': False, 'isMasked': False, 'aiType': 1, 'urls': {'250x250': 'https://i.pximg.net/c/250x250_80_a2/img-master/img/2022/12/17/23/29/50/103686781_p0_square1200.jpg', '360x360': 'https://i.pximg.net/c/360x360_70/img-master/img/2022/12/17/23/29/50/103686781_p0_square1200.jpg', '540x540': 'https://i.pximg.net/c/540x540_70/img-master/img/2022/12/17/23/29/50/103686781_p0_square1200.jpg'}, 'type': 'illust', 'deletable': True, 'draggable': True, 'contentUrl': 'https://www.pixiv.net/artworks/103686781'}], 'bookmarkCount': {'public': {'illust': 1, 'novel': 0}, 'private': {'illust': 0, 'novel': 0}}, 'externalSiteWorksStatus': {'booth': True, 'sketch': False, 'vroidHub': False}, 'request': {'showRequestTab': False, 'showRequestSentTab': False, 'postWorks': {'artworks': [], 'novels': []}}}}\n",
      "{'103686781', '60575412', '32202507', '57988139', '81225213', '78336518', '66355845', '40466977', '37435957', '44982929', '72066662', '76053184', '69998409', '81225091', '89532917', '53969876', '64089303', '51907682', '100082808'}\n",
      "{'error': False, 'message': '', 'body': {'illusts': {'81225309': None, '78834571': None, '73521542': None, '70052155': None, '70024717': None, '69998496': None, '66355934': None, '64089360': None, '60474023': None, '58420472': None, '56471514': None, '54724406': None, '53859115': None, '51455457': None, '47749401': None, '44982128': None, '31957654': None}, 'manga': {'103686781': None, '100082808': None, '89532917': None, '81225213': None, '81225091': None, '78336518': None, '76053184': None, '72066662': None, '69998409': None, '66355845': None, '64089303': None, '60575412': None, '57988139': None, '53969876': None, '51907682': None, '44982929': None, '40466977': None, '37435957': None, '32202507': None}, 'novels': [], 'mangaSeries': [], 'novelSeries': [], 'pickup': [{'id': '103686781', 'title': 'C101新刊「性教育シリーズ総集編2」', 'illustType': 1, 'xRestrict': 1, 'restrict': 0, 'sl': 6, 'url': 'https://i.pximg.net/c/288x288_80_a2/img-master/img/2022/12/17/23/29/50/103686781_p0_square1200.jpg', 'description': 'サークルみくろぺえじ\\u3000二日目(３１日)東A-17a\\u3000当日は2000円＋おまけ本で頒布予定。<br />虎の穴  <a href=\"/jump.php?https%3A%2F%2Fec.toranoana.jp%2Ftora_r%2Fec%2Fitem%2F040031031805\" target=\"_blank\">https://ec.toranoana.jp/tora_r/ec/item/040031031805</a><br />メロンブックス <a href=\"/jump.php?https%3A%2F%2Fwww.melonbooks.co.jp%2Fdetail%2Fdetail.php%3Fproduct_id%3D1725318\" target=\"_blank\">https://www.melonbooks.co.jp/detail/detail.php?product_id=1725318</a><br /><br />描きおろし30P収録、電子版も予定してます。よろしくお願いします！', 'tags': ['R-18', '漫画', 'JC', '性教育', '尻神様', '足裏', '乳吸い', 'NTR'], 'userId': '3094189', 'userName': 'みくろぺえじ', 'width': 800, 'height': 1133, 'pageCount': 10, 'isBookmarkable': True, 'bookmarkData': None, 'alt': '#JC C101新刊「性教育シリーズ総集編2」 - みくろぺえじ的漫画 #漫画 #性教育 #尻神様', 'titleCaptionTranslation': {'workTitle': None, 'workCaption': None}, 'createDate': '2022-12-17T23:29:50+09:00', 'updateDate': '2022-12-17T23:29:50+09:00', 'isUnlisted': False, 'isMasked': False, 'aiType': 1, 'urls': {'250x250': 'https://i.pximg.net/c/250x250_80_a2/img-master/img/2022/12/17/23/29/50/103686781_p0_square1200.jpg', '360x360': 'https://i.pximg.net/c/360x360_70/img-master/img/2022/12/17/23/29/50/103686781_p0_square1200.jpg', '540x540': 'https://i.pximg.net/c/540x540_70/img-master/img/2022/12/17/23/29/50/103686781_p0_square1200.jpg'}, 'type': 'illust', 'deletable': True, 'draggable': True, 'contentUrl': 'https://www.pixiv.net/artworks/103686781'}], 'bookmarkCount': {'public': {'illust': 1, 'novel': 0}, 'private': {'illust': 0, 'novel': 0}}, 'externalSiteWorksStatus': {'booth': True, 'sketch': False, 'vroidHub': False}, 'request': {'showRequestTab': False, 'showRequestSentTab': False, 'postWorks': {'artworks': [], 'novels': []}}}}\n",
      "{'103686781', '60575412', '31957654', '32202507', '57988139', '81225213', '78336518', '66355845', '70052155', '56471514', '40466977', '54724406', '78834571', '70024717', '37435957', '44982929', '72066662', '76053184', '58420472', '69998409', '69998496', '81225091', '73521542', '89532917', '47749401', '60474023', '44982128', '53859115', '53969876', '66355934', '64089303', '51907682', '81225309', '64089360', '51455457', '100082808'}\n"
     ]
    }
   ],
   "source": [
    "artist_id = 3094189\n",
    "categorys = [\"manga\", \"illusts\"]\n",
    "id = 0\n",
    "\n",
    "id_group = set()\n",
    "\n",
    "for category in categorys:\n",
    "    id_group.update(fetch_artist_works(artist_id=artist_id, category=category))\n",
    "    print(id_group)\n",
    "    \n",
    "artist_artworks_ids_path = \"E:\\\\vscode_clustter\\\\code\\\\github\\\\Animate-Image-Bed\\\\utils\\\\crawler\\\\test\\\\jsons\\\\\"\n",
    "\n",
    "file_name = f\"{artist_id}-artworksID-collect.json\"\n",
    "\n",
    "artist_dict = {artist_id: list(id_group)}\n",
    "\n",
    "# 将字典保存到 JSON 文件中\n",
    "with open(artist_artworks_ids_path + file_name, \"w\", encoding=\"utf-8\") as json_file:\n",
    "    json.dump(artist_dict, json_file, ensure_ascii=False, indent=4)\n",
    "\n"
   ]
  },
  {
   "cell_type": "markdown",
   "metadata": {},
   "source": [
    "1.2.按照tag进行爬取（后续会添加函数 按照排名，标签进行爬取）"
   ]
  },
  {
   "cell_type": "code",
   "execution_count": 3,
   "metadata": {},
   "outputs": [],
   "source": [
    "def fetch_tag_works(tag_name, category, order):\n",
    "    # pixiv 的请求返回一般有两种，一种是漫画，一种是插画，还有其他的我懒得搞了，毕竟用的人很少（笑）\n",
    "    if category not in [\"illust\", \"manga\"]:\n",
    "        raise ValueError(\"Invalid category. Use 'illustrations' or 'manga'.\")\n",
    "\n",
    "    \"\"\"url = f\"https://www.pixiv.net/ajax/search/illustrations/{tag_name}?\"+ \\ \n",
    "            \"&asd\" + \\\n",
    "            \"lang=zh\"\"\"\n",
    "    \n",
    "    if category == \"illust\":\n",
    "        category_rel = \"illustrations\"\n",
    "    else:\n",
    "        category_rel = \"manga\"\n",
    "    \n",
    "    url = \"https://www.pixiv.net/ajax/search/{}/\".format(category_rel) + \\\n",
    "            \"{}?\".format(tag_name) + \\\n",
    "            \"&order={}\".format(\"popular_d\" if order else \"date_d\") + \\\n",
    "            f\"&mode=all\" + \"&p=2&s_mode=s_tag&type=all&lang=zh\"\n",
    "\n",
    "    \"\"\"\n",
    "    /ajax/search/manga/BlueArchive?word=BlueArchive&order=date_d&mode=all&p=1&s_mode=s_tag_full&type=manga&lang=zh&version=6d99637327b03bc728989e9dfd2b67555a8dcbad HTTP/1.1\n",
    "    \"\"\"\n",
    "\n",
    "    additional_headers = {\n",
    "        \"x-user-id\": \"5640xxxx\",\n",
    "        \"COOKIE\": \"first_visit_datetime_pc=2022-03-23+09%3A05%3A13; p_ab_id=2; p_ab_id_2=6; p_ab_d_id=496637752; yuid_b=FnRJY4g; _fbp=fb.1.1647993926346.868094683; privacy_policy_notification=0; a_type=0; b_type=1; _im_vid=01FYT7DA0M1MG08GJSVD70BA7M; adr_id=lTzPqgTf6xmkSZZddeH8LhLHDKfx8OJsbbCpSa4F8n6kESK0; login_ever=yes; _td=e09e84b3-b5d0-4284-8cbc-fe6a9605154a; _ga_692MXKN5XF=GS1.1.1665973029.1.0.1665973029.0.0.0; cto_bundle=MeOqNl9aSyUyRkklMkJFcFJ5WCUyQlNzZkozQTFYSVpESHZCRiUyRm83QWZ3aTdmNEVIbG9FRWkxUUlIbDl0eiUyQnZlRmU3SWo0d1VLMGFFMks1M0dXWnA4OFBhMkNhcjJGQ3Rjakl3JTJGc3lwcU5ZV1NiY0RMbSUyQmQ0aEVZY0J4TnM0RiUyRnBEJTJGcVJPeSUyQkwyWTAwUmFvNmQyV3R5QlRnN2RXSFFYUSUzRCUzRA; _im_uid.3929=i.HNTUXPphRC6Tos5lngHwCA; c_type=21; privacy_policy_agreement=6; __gads=ID=e032ebe84fc5b362:T=1696335939:RT=1696335939:S=ALNI_MYk8hTGJ0JVZ08XHPJ1chcTiPcYZQ; __gpi=UID=00000c56c30e862e:T=1696335939:RT=1696335939:S=ALNI_MZ0J6EZLNM_IHlenurDDcoh0qn7tw; _ga_ZQEKG3EF2C=GS1.1.1696335939.1.0.1696335941.58.0.0; __utmv=235335808.|2=login%20ever=yes=1^3=plan=normal=1^5=gender=male=1^6=user_id=56405112=1^9=p_ab_id=2=1^10=p_ab_id_2=6=1^11=lang=zh=1; _gcl_au=1.1.2068989696.1697797468; PHPSESSID=56405112_5F6NwBp0ibUH6FuPbdq8P8dKXRrJiakY; device_token=d9e66683eee3c683671ce6dd45961915; _ga_MZ1NL4PHH0=GS1.1.1698243034.3.1.1698243060.0.0.0; __utmz=235335808.1698489562.713.11.utmcsr=google|utmccn=(organic)|utmcmd=organic|utmctr=(not%20provided); QSI_S_ZN_5hF4My7Ad6VNNAi=v:0:0; _gid=GA1.2.73441192.1699788507; _ga_ZPL8LPMDK3=GS1.1.1699930329.18.1.1699930357.0.0.0; __cf_bm=X67SFTFNe9KvEzK6AxS96ftfSVWEqcIgua.4.3EcMVc-1699935025-0-AfkUhf87pN2+siqG5r1YvGpphK/bajDCL09AvrYlnYhvxsux9sdfZQIN8W3Ha3ztxG0ErV0mnsKzNjCErKsxohNNrRGurEMD/KweXvYGAHlI; __utma=235335808.740189076.1647993924.1699930321.1699935028.744; __utmc=235335808; __utmt=1; cf_clearance=SJHsrjUq5DYhRK8AO2UWSsB.5pZbPWf68VmswfYjLVA-1699935773-0-1-631cd866.8b0b9526.341d8786-0.2.1699935773; _ga=GA1.2.740189076.1647993924; __utmb=235335808.16.10.1699935028; _ga_75BBYNYN9J=GS1.1.1699935028.495.1.1699936337.0.0.0\"\n",
    "    }\n",
    "\n",
    "    if category == \"illusts\":\n",
    "        additional_headers[\"Referer\"] = f\"https://www.pixiv.net/tags/{tag_name}/illustrations\"\n",
    "    elif category == \"manga\":\n",
    "        additional_headers[\"Referer\"] = f\"https://www.pixiv.net/tags/{tag_name}/manga\"\n",
    "\n",
    "    headers = {\n",
    "        \"User-Agent\": \"Mozilla/5.0 (Windows NT 10.0; Win64; x64) AppleWebKit/537.36 (KHTML, like Gecko) Chrome/101.0.4951.54 Safari/537.36\",\n",
    "    }\n",
    "\n",
    "    headers.update(additional_headers)\n",
    "\n",
    "    proxies = {\n",
    "        \"https\": \"127.0.0.1:7890\"\n",
    "    }\n",
    "\n",
    "    response = requests.get(url, headers=headers, proxies=proxies, timeout=4)\n",
    "\n",
    "    print(response.json())\n",
    "\n",
    "    json_content = response.json()\n",
    "\n",
    "    # 指定保存路径和文件名\n",
    "    save_path = \"E://vscode_clustter//code//github//Animate-Image-Bed//utils//crawler//test//jsons//re.json\"\n",
    "\n",
    "    # 将 JSON 内容保存到文件\n",
    "    with open(save_path, \"w\", encoding=\"utf-8\") as json_file:\n",
    "        json.dump(json_content, json_file, ensure_ascii=False, indent=4)\n",
    "\n",
    "    if response.status_code == 200:\n",
    "        response_data = response.json()[\"body\"][category][\"data\"]\n",
    "        id_group = set(entry[\"id\"] for entry in response_data)\n",
    "        return id_group"
   ]
  },
  {
   "cell_type": "code",
   "execution_count": 4,
   "metadata": {},
   "outputs": [
    {
     "name": "stdout",
     "output_type": "stream",
     "text": [
      "{'error': False, 'body': {'illust': {'data': [{'id': '113177269', 'title': '無題', 'illustType': 0, 'xRestrict': 1, 'restrict': 0, 'sl': 6, 'url': 'https://i.pximg.net/c/250x250_80_a2/img-master/img/2023/11/06/00/45/28/113177269_p0_square1200.jpg', 'description': '', 'tags': ['R-18', '竜華キサキ', 'ブルアカ', 'ブルーアーカイブ', 'ロリ'], 'userId': '55125022', 'userName': 'にほほひ', 'width': 737, 'height': 1141, 'pageCount': 2, 'isBookmarkable': True, 'bookmarkData': None, 'alt': '#竜華キサキ 無題 - にほほひ的插画', 'titleCaptionTranslation': {'workTitle': None, 'workCaption': None}, 'createDate': '2023-11-06T00:45:28+09:00', 'updateDate': '2023-11-06T00:45:28+09:00', 'isUnlisted': False, 'isMasked': False, 'aiType': 1, 'profileImageUrl': 'https://i.pximg.net/user-profile/img/2020/11/04/01/56/55/19612892_30ce6eccbd3f9824e99bb3b84e36a3f1_50.jpg'}, {'id': '113176748', 'title': 'Kisaki / 竜華キサキ', 'illustType': 0, 'xRestrict': 0, 'restrict': 0, 'sl': 2, 'url': 'https://i.pximg.net/c/250x250_80_a2/img-master/img/2023/11/06/00/30/04/113176748_p0_square1200.jpg', 'description': '', 'tags': ['AIイラスト', '魅惑のふともも', 'おっぱい', '魅惑の谷間', 'ブルアカ', 'ブルーアーカイブ', '竜華キサキ', 'ロリ', 'キサキ(ブルーアーカイブ)'], 'userId': '94183633', 'userName': 'Aitheas-Ai Art', 'width': 4096, 'height': 6144, 'pageCount': 1, 'isBookmarkable': True, 'bookmarkData': None, 'alt': '#AIイラスト Kisaki / 竜華キサキ - Aitheas-Ai Art的插画', 'titleCaptionTranslation': {'workTitle': None, 'workCaption': None}, 'createDate': '2023-11-06T00:30:04+09:00', 'updateDate': '2023-11-06T00:30:04+09:00', 'isUnlisted': False, 'isMasked': False, 'aiType': 2, 'profileImageUrl': 'https://i.pximg.net/user-profile/img/2023/08/05/18/18/48/24768841_c0eb6231505aedfb0d9ba962fc3fbdfb_50.png'}, {'id': '113175250', 'title': '竜華キサキ会長', 'illustType': 0, 'xRestrict': 0, 'restrict': 0, 'sl': 2, 'url': 'https://i.pximg.net/c/250x250_80_a2/img-master/img/2023/11/05/23/58/13/113175250_p0_square1200.jpg', 'description': '', 'tags': ['ブルーアーカイブ', 'ブルアカ', 'BlueArchive', '竜華キサキ', 'ふともも', '魅惑のふともも', 'チャイナドレス', 'ツインテール', '少女', 'お団子'], 'userId': '3839247', 'userName': 'oni.aiart', 'width': 1800, 'height': 2187, 'pageCount': 1, 'isBookmarkable': True, 'bookmarkData': None, 'alt': '#ブルーアーカイブ 竜華キサキ会長 - oni.aiart的插画', 'titleCaptionTranslation': {'workTitle': None, 'workCaption': None}, 'createDate': '2023-11-05T23:58:13+09:00', 'updateDate': '2023-11-05T23:58:13+09:00', 'isUnlisted': False, 'isMasked': False, 'aiType': 2, 'profileImageUrl': 'https://i.pximg.net/user-profile/img/2023/11/07/15/49/35/25138792_f6913bb6180ca312e203e99ede84ad80_50.jpg'}, {'id': '113173282', 'title': '竜華キサキ', 'illustType': 0, 'xRestrict': 1, 'restrict': 0, 'sl': 6, 'url': 'https://i.pximg.net/c/250x250_80_a2/custom-thumb/img/2023/11/05/23/00/00/113173282_p0_custom1200.jpg', 'description': '', 'tags': ['R-18', '竜華キサキ', 'ブルーアーカイブ', 'ブルアカ', '贫乳', 'ロリ', '女の子', 'AIイラスト', '極上の女体'], 'userId': '19721784', 'userName': 'mrfutaba', 'width': 1280, 'height': 1920, 'pageCount': 1, 'isBookmarkable': True, 'bookmarkData': None, 'alt': '#竜華キサキ 竜華キサキ - mrfutaba的插画', 'titleCaptionTranslation': {'workTitle': None, 'workCaption': None}, 'createDate': '2023-11-05T23:00:00+09:00', 'updateDate': '2023-11-05T23:00:00+09:00', 'isUnlisted': False, 'isMasked': False, 'aiType': 2, 'profileImageUrl': 'https://i.pximg.net/user-profile/img/2023/10/24/23/22/23/25084814_8b953716e19434d894fb9496e634aaf4_50.png'}, {'id': '113171326', 'title': '乳首弾き', 'illustType': 2, 'xRestrict': 1, 'restrict': 0, 'sl': 6, 'url': 'https://i.pximg.net/c/250x250_80_a2/img-master/img/2023/11/05/22/06/31/113171326_square1200.jpg', 'description': '', 'tags': ['R-18', 'うごイラ', '竜華キサキ', 'キサキ(ブルーアーカイブ)', 'ブルーアーカイブ', '乳首責め', '細バイブ', 'スティックローター', '乳首'], 'userId': '5530232', 'userName': 'Abanam -あばなm-', 'width': 792, 'height': 480, 'pageCount': 1, 'isBookmarkable': True, 'bookmarkData': None, 'alt': '#竜華キサキ 乳首弾き - Abanam -あばなm-的动图', 'titleCaptionTranslation': {'workTitle': None, 'workCaption': None}, 'createDate': '2023-11-05T22:06:31+09:00', 'updateDate': '2023-11-05T22:06:31+09:00', 'isUnlisted': False, 'isMasked': False, 'aiType': 1, 'profileImageUrl': 'https://i.pximg.net/user-profile/img/2022/08/29/09/34/42/23257860_d90cb60cf2059cfa55f0531bd2e9aef5_50.png'}, {'id': '113171228', 'title': 'ローアングル？', 'illustType': 2, 'xRestrict': 1, 'restrict': 0, 'sl': 6, 'url': 'https://i.pximg.net/c/250x250_80_a2/img-master/img/2023/11/05/22/03/48/113171228_square1200.jpg', 'description': '', 'tags': ['R-18', 'うごイラ', '竜華キサキ', 'キサキ(ブルーアーカイブ)', 'ブルーアーカイブ', '乳首責め', 'ローター', 'バイブ', 'ローアングル', 'パンツ'], 'userId': '5530232', 'userName': 'Abanam -あばなm-', 'width': 854, 'height': 480, 'pageCount': 1, 'isBookmarkable': True, 'bookmarkData': None, 'alt': '#竜華キサキ ローアングル？ - Abanam -あばなm-的动图', 'titleCaptionTranslation': {'workTitle': None, 'workCaption': None}, 'createDate': '2023-11-05T22:03:48+09:00', 'updateDate': '2023-11-05T22:03:48+09:00', 'isUnlisted': False, 'isMasked': False, 'aiType': 1, 'profileImageUrl': 'https://i.pximg.net/user-profile/img/2022/08/29/09/34/42/23257860_d90cb60cf2059cfa55f0531bd2e9aef5_50.png'}, {'id': '113166447', 'title': '竜華キサキ(大人)', 'illustType': 0, 'xRestrict': 0, 'restrict': 0, 'sl': 2, 'url': 'https://i.pximg.net/c/250x250_80_a2/img-master/img/2023/11/05/19/42/58/113166447_p0_square1200.jpg', 'description': '', 'tags': ['BlueArchive', 'ブルーアーカイブ', '竜華キサキ', '脇', '蒸れ'], 'userId': '74395241', 'userName': '銀鏡らふ', 'width': 2048, 'height': 2732, 'pageCount': 1, 'isBookmarkable': True, 'bookmarkData': None, 'alt': '#BlueArchive 竜華キサキ(大人) - 銀鏡らふ的插画', 'titleCaptionTranslation': {'workTitle': None, 'workCaption': None}, 'createDate': '2023-11-05T19:42:58+09:00', 'updateDate': '2023-11-05T19:42:58+09:00', 'isUnlisted': False, 'isMasked': False, 'aiType': 1, 'profileImageUrl': 'https://i.pximg.net/user-profile/img/2023/02/14/14/54/17/24029269_0c5df929342984a8d2b0df51aba0746f_50.jpg'}, {'id': '113165867', 'title': '門主？', 'illustType': 0, 'xRestrict': 1, 'restrict': 0, 'sl': 6, 'url': 'https://i.pximg.net/c/250x250_80_a2/custom-thumb/img/2023/11/05/19/24/25/113165867_p0_custom1200.jpg', 'description': '', 'tags': ['R-18', 'ブルーアーカイブ', 'ブルアカ', '竜華キサキ', '騎乗位', '陰毛'], 'userId': '1822032', 'userName': 'えのき かりん', 'width': 3462, 'height': 6369, 'pageCount': 1, 'isBookmarkable': True, 'bookmarkData': None, 'alt': '#ブルーアーカイブ 門主？ - えのき かりん的插画', 'titleCaptionTranslation': {'workTitle': None, 'workCaption': None}, 'createDate': '2023-11-05T19:24:25+09:00', 'updateDate': '2023-11-05T19:24:25+09:00', 'isUnlisted': False, 'isMasked': False, 'aiType': 1, 'profileImageUrl': 'https://i.pximg.net/user-profile/img/2020/04/29/00/35/28/18435072_141b8b0f21e2a74345de97be00ef002d_50.png'}, {'id': '113161262', 'title': '会長の魅力', 'illustType': 0, 'xRestrict': 1, 'restrict': 0, 'sl': 6, 'url': 'https://i.pximg.net/c/250x250_80_a2/img-master/img/2023/11/05/16/50/45/113161262_p0_square1200.jpg', 'description': '', 'tags': ['R-18', '中出し', '竜華キサキ', 'ブルーアーカイブ', 'ブルアカ'], 'userId': '95725924', 'userName': '彩野菜炒🔞', 'width': 2149, 'height': 3624, 'pageCount': 2, 'isBookmarkable': True, 'bookmarkData': None, 'alt': '#中出し 会長の魅力 - 彩野菜炒🔞的插画', 'titleCaptionTranslation': {'workTitle': None, 'workCaption': None}, 'createDate': '2023-11-05T16:50:45+09:00', 'updateDate': '2023-11-05T16:50:45+09:00', 'isUnlisted': False, 'isMasked': False, 'aiType': 1, 'profileImageUrl': 'https://i.pximg.net/user-profile/img/2023/10/19/06/50/51/25064232_3ae7ace3e6dd0fc984c1e827fde55c65_50.jpg'}, {'id': '113159949', 'title': '体操中のキサキ', 'illustType': 0, 'xRestrict': 0, 'restrict': 0, 'sl': 2, 'url': 'https://i.pximg.net/c/250x250_80_a2/img-master/img/2023/11/05/15/50/58/113159949_p0_square1200.jpg', 'description': '', 'tags': ['BlueArchive', 'ブルーアーカイブ', '블루아카이브', 'ブルアカ', 'キサキ(ブルーアーカイブ)', '竜華キサキ'], 'userId': '4842940', 'userName': 'YogurtChip', 'width': 5076, 'height': 7563, 'pageCount': 1, 'isBookmarkable': True, 'bookmarkData': None, 'alt': '#BlueArchive 体操中のキサキ - YogurtChip的插画', 'titleCaptionTranslation': {'workTitle': None, 'workCaption': None}, 'createDate': '2023-11-05T15:50:58+09:00', 'updateDate': '2023-11-05T15:50:58+09:00', 'isUnlisted': False, 'isMasked': False, 'aiType': 1, 'profileImageUrl': 'https://i.pximg.net/user-profile/img/2023/02/04/00/51/55/23979717_6bd3b81d9df88a1710bcc07454b4ff22_50.png'}, {'id': '113155035', 'title': 'FANBOX絵', 'illustType': 0, 'xRestrict': 1, 'restrict': 0, 'sl': 6, 'url': 'https://i.pximg.net/c/250x250_80_a2/img-master/img/2023/11/05/12/00/05/113155035_p0_square1200.jpg', 'description': '', 'tags': ['R-18', '足コキ', '竜華キサキ', 'ブルアカ', 'ブルーアーカイブ'], 'userId': '36808773', 'userName': 'ぴっつぁ@ファンボ毎週金更新', 'width': 1547, 'height': 2711, 'pageCount': 2, 'isBookmarkable': True, 'bookmarkData': None, 'alt': '#足コキ FANBOX絵 - ぴっつぁ@ファンボ毎週金更新的插画', 'titleCaptionTranslation': {'workTitle': None, 'workCaption': None}, 'createDate': '2023-11-05T12:00:05+09:00', 'updateDate': '2023-11-05T12:00:05+09:00', 'isUnlisted': False, 'isMasked': False, 'aiType': 1, 'profileImageUrl': 'https://i.pximg.net/user-profile/img/2021/08/03/11/37/49/21151007_98c1859d00544a0edd889538af93920e_50.jpg'}, {'id': '113152091', 'title': 'ハニカム 配布\\u3000竜華キサキ風', 'illustType': 0, 'xRestrict': 0, 'restrict': 0, 'sl': 2, 'url': 'https://i.pximg.net/c/250x250_80_a2/custom-thumb/img/2023/11/05/09/08/44/113152091_p0_custom1200.jpg', 'description': '', 'tags': ['ハニカム', 'キャラ配布(ハニカム)', 'ブルーアーカイブ', 'ブルアカ', '竜華キサキ'], 'userId': '1244398', 'userName': 'くー', 'width': 1030, 'height': 1857, 'pageCount': 3, 'isBookmarkable': True, 'bookmarkData': None, 'alt': '#ハニカム ハニカム 配布\\u3000竜華キサキ風 - くー的插画', 'titleCaptionTranslation': {'workTitle': None, 'workCaption': None}, 'createDate': '2023-11-05T09:08:44+09:00', 'updateDate': '2023-11-05T09:08:44+09:00', 'isUnlisted': False, 'isMasked': False, 'aiType': 1, 'profileImageUrl': 'https://i.pximg.net/user-profile/img/2023/11/02/19/42/33/25119832_e4ca9c6829a9bb3dd9c667cc3f602053_50.png'}, {'id': '113144461', 'title': 'Kisaki / 竜華キサキ', 'illustType': 0, 'xRestrict': 0, 'restrict': 0, 'sl': 4, 'url': 'https://i.pximg.net/c/250x250_80_a2/img-master/img/2023/11/05/00/30/03/113144461_p0_square1200.jpg', 'description': '', 'tags': ['AIイラスト', '魅惑のふともも', 'おっぱい', '魅惑の谷間', 'ブルアカ', 'ブルーアーカイブ', '竜華キサキ', 'ロリ', 'キサキ(ブルーアーカイブ)'], 'userId': '94183633', 'userName': 'Aitheas-Ai Art', 'width': 4096, 'height': 6144, 'pageCount': 1, 'isBookmarkable': True, 'bookmarkData': None, 'alt': '#AIイラスト Kisaki / 竜華キサキ - Aitheas-Ai Art的插画', 'titleCaptionTranslation': {'workTitle': None, 'workCaption': None}, 'createDate': '2023-11-05T00:30:03+09:00', 'updateDate': '2023-11-05T00:30:03+09:00', 'isUnlisted': False, 'isMasked': False, 'aiType': 2, 'profileImageUrl': 'https://i.pximg.net/user-profile/img/2023/08/05/18/18/48/24768841_c0eb6231505aedfb0d9ba962fc3fbdfb_50.png'}, {'id': '113143574', 'title': 'ブルアカ - 竜華キサキ', 'illustType': 0, 'xRestrict': 0, 'restrict': 0, 'sl': 4, 'url': 'https://i.pximg.net/c/250x250_80_a2/img-master/img/2023/11/05/00/04/59/113143574_p0_square1200.jpg', 'description': '', 'tags': ['ブルアカ', 'ブルーアーカイブ', '竜華キサキ', 'キサキ(ブルーアーカイブ)', '魅惑のふともも'], 'userId': '31480257', 'userName': 'ranggi', 'width': 2150, 'height': 3035, 'pageCount': 1, 'isBookmarkable': True, 'bookmarkData': None, 'alt': '#ブルアカ ブルアカ - 竜華キサキ - ranggi的插画', 'titleCaptionTranslation': {'workTitle': None, 'workCaption': None}, 'createDate': '2023-11-05T00:04:59+09:00', 'updateDate': '2023-11-05T00:04:59+09:00', 'isUnlisted': False, 'isMasked': False, 'aiType': 1, 'profileImageUrl': 'https://i.pximg.net/user-profile/img/2020/09/21/11/37/29/19391723_3553e8bf4caf7d7bdd518eaa8bf20938_50.png'}, {'id': '113141387', 'title': 'キサキ', 'illustType': 0, 'xRestrict': 0, 'restrict': 0, 'sl': 4, 'url': 'https://i.pximg.net/c/250x250_80_a2/custom-thumb/img/2023/11/04/23/11/58/113141387_p0_custom1200.jpg', 'description': '', 'tags': ['ブルーアーカイブ', 'ブルアカ', '竜華キサキ'], 'userId': '87176755', 'userName': 'いぬぶさ', 'width': 1434, 'height': 2272, 'pageCount': 1, 'isBookmarkable': True, 'bookmarkData': None, 'alt': '#ブルーアーカイブ キサキ - いぬぶさ的插画', 'titleCaptionTranslation': {'workTitle': None, 'workCaption': None}, 'createDate': '2023-11-04T23:11:58+09:00', 'updateDate': '2023-11-04T23:11:58+09:00', 'isUnlisted': False, 'isMasked': False, 'aiType': 1, 'profileImageUrl': 'https://i.pximg.net/user-profile/img/2022/10/25/01/17/03/23510093_022f4788d3ce05e33b1b24a2b04ddb76_50.jpg'}, {'id': '113140943', 'title': '竜華キサキ', 'illustType': 0, 'xRestrict': 1, 'restrict': 0, 'sl': 6, 'url': 'https://i.pximg.net/c/250x250_80_a2/custom-thumb/img/2023/11/04/23/00/00/113140943_p0_custom1200.jpg', 'description': '', 'tags': ['R-18', '竜華キサキ', 'ブルーアーカイブ', 'ブルアカ', 'ロリ', '極上の女体', '贫乳', '腋', 'おもらし', 'おしっこ'], 'userId': '19721784', 'userName': 'mrfutaba', 'width': 1280, 'height': 1920, 'pageCount': 1, 'isBookmarkable': True, 'bookmarkData': None, 'alt': '#竜華キサキ 竜華キサキ - mrfutaba的插画', 'titleCaptionTranslation': {'workTitle': None, 'workCaption': None}, 'createDate': '2023-11-04T23:00:00+09:00', 'updateDate': '2023-11-04T23:00:00+09:00', 'isUnlisted': False, 'isMasked': False, 'aiType': 2, 'profileImageUrl': 'https://i.pximg.net/user-profile/img/2023/10/24/23/22/23/25084814_8b953716e19434d894fb9496e634aaf4_50.png'}, {'id': '113140884', 'title': 'キサキのお尻の穴をぶっこわーす', 'illustType': 0, 'xRestrict': 1, 'restrict': 0, 'sl': 6, 'url': 'https://i.pximg.net/c/250x250_80_a2/img-master/img/2023/11/04/22/58/17/113140884_p0_square1200.jpg', 'description': '', 'tags': ['R-18', 'スカトロ', 'ブルーアーカイブ', '竜華キサキ', 'ぽっかりアナル', 'ふんどし', '鼻フック', '体に落書き'], 'userId': '64017120', 'userName': 'ぱずる', 'width': 2150, 'height': 3036, 'pageCount': 4, 'isBookmarkable': True, 'bookmarkData': None, 'alt': '#スカトロ キサキのお尻の穴をぶっこわーす - ぱずる的插画', 'titleCaptionTranslation': {'workTitle': None, 'workCaption': None}, 'createDate': '2023-11-04T22:58:17+09:00', 'updateDate': '2023-11-04T22:58:17+09:00', 'isUnlisted': False, 'isMasked': False, 'aiType': 1, 'profileImageUrl': 'https://i.pximg.net/user-profile/img/2021/07/29/11/29/29/21120472_94f6623d63115025d1efef23bfff4353_50.jpg'}, {'id': '113131626', 'title': '竜華キサキ', 'illustType': 0, 'xRestrict': 0, 'restrict': 0, 'sl': 2, 'url': 'https://i.pximg.net/c/250x250_80_a2/custom-thumb/img/2023/11/04/17/50/20/113131626_p0_custom1200.jpg', 'description': '', 'tags': ['ブルーアーカイブ', 'ブルアカ', 'キサキ(ブルーアーカイブ)', '竜華キサキ', '女の子', '美少女'], 'userId': '41755251', 'userName': '徒花月。', 'width': 2600, 'height': 4000, 'pageCount': 1, 'isBookmarkable': True, 'bookmarkData': None, 'alt': '#ブルーアーカイブ 竜華キサキ - 徒花月。的插画', 'titleCaptionTranslation': {'workTitle': None, 'workCaption': None}, 'createDate': '2023-11-04T17:50:20+09:00', 'updateDate': '2023-11-04T17:50:20+09:00', 'isUnlisted': False, 'isMasked': False, 'aiType': 1, 'profileImageUrl': 'https://i.pximg.net/user-profile/img/2023/05/24/11/46/10/24459491_b12d9b8bc9ecb5bec27220ce0ab828d1_50.jpg'}, {'id': '113130191', 'title': 'キサキ', 'illustType': 0, 'xRestrict': 0, 'restrict': 0, 'sl': 2, 'url': 'https://i.pximg.net/c/250x250_80_a2/img-master/img/2023/11/04/16/50/53/113130191_p0_square1200.jpg', 'description': '', 'tags': ['BlueArchive', 'ブルーアーカイブ', '竜華キサキ'], 'userId': '20640004', 'userName': 'kam,ja', 'width': 1318, 'height': 2106, 'pageCount': 1, 'isBookmarkable': True, 'bookmarkData': None, 'alt': '#BlueArchive キサキ - kam,ja的插画', 'titleCaptionTranslation': {'workTitle': None, 'workCaption': None}, 'createDate': '2023-11-04T16:50:53+09:00', 'updateDate': '2023-11-04T16:50:53+09:00', 'isUnlisted': False, 'isMasked': False, 'aiType': 1, 'profileImageUrl': 'https://i.pximg.net/user-profile/img/2017/11/06/05/01/50/13425217_1102a6afb34411c02730b44d6b42a5c2_50.png'}, {'id': '113127215', 'title': 'キサキ', 'illustType': 0, 'xRestrict': 0, 'restrict': 0, 'sl': 2, 'url': 'https://i.pximg.net/c/250x250_80_a2/img-master/img/2023/11/04/14/24/48/113127215_p0_square1200.jpg', 'description': '', 'tags': ['竜華キサキ', 'ブルアカ', 'BlueArchive', 'ブルーアーカイブ'], 'userId': '100025647', 'userName': 'ゆきしゃん', 'width': 1936, 'height': 2900, 'pageCount': 1, 'isBookmarkable': True, 'bookmarkData': None, 'alt': '#竜華キサキ キサキ - ゆきしゃん的插画', 'titleCaptionTranslation': {'workTitle': None, 'workCaption': None}, 'createDate': '2023-11-04T14:24:48+09:00', 'updateDate': '2023-11-04T14:24:48+09:00', 'isUnlisted': False, 'isMasked': False, 'aiType': 1, 'profileImageUrl': 'https://i.pximg.net/user-profile/img/2023/10/31/16/30/27/25111583_855ee9870b17901ae2706bfe12e73e60_50.png'}, {'id': '113121760', 'title': 'Ryuuge Kisaki Blue Archive', 'illustType': 0, 'xRestrict': 0, 'restrict': 0, 'sl': 2, 'url': 'https://i.pximg.net/c/250x250_80_a2/img-master/img/2023/11/04/09/06/20/113121760_p0_square1200.jpg', 'description': '', 'tags': ['ブルーアーカイブ', '竜華キサキ', 'イラスト', '女の子', '少女', 'anime', 'blush', 'fanart', 'practice', 'ファンアート'], 'userId': '30732884', 'userName': 'Siltro_o', 'width': 679, 'height': 1002, 'pageCount': 1, 'isBookmarkable': True, 'bookmarkData': None, 'alt': '#ブルーアーカイブ Ryuuge Kisaki Blue Archive - Siltro_o的插画', 'titleCaptionTranslation': {'workTitle': None, 'workCaption': None}, 'createDate': '2023-11-04T09:06:20+09:00', 'updateDate': '2023-11-04T09:06:20+09:00', 'isUnlisted': False, 'isMasked': False, 'aiType': 1, 'profileImageUrl': 'https://i.pximg.net/user-profile/img/2022/05/26/07/50/18/22779036_4e0ac9083cf84a2eaf18b473c3e0a12b_50.jpg'}, {'id': '113116462', 'title': 'kisaki', 'illustType': 0, 'xRestrict': 0, 'restrict': 0, 'sl': 4, 'url': 'https://i.pximg.net/c/250x250_80_a2/custom-thumb/img/2023/11/04/01/48/31/113116462_p0_custom1200.jpg', 'description': '', 'tags': ['BlueArchive', 'ブルアカ', 'キサキ(ブルーアーカイブ)', '竜華キサキ', '女の子', 'ブルーアーカイブ', '裸足'], 'userId': '25091387', 'userName': 'Eight_gale', 'width': 1024, 'height': 1280, 'pageCount': 1, 'isBookmarkable': True, 'bookmarkData': None, 'alt': '#BlueArchive kisaki - Eight_gale的插画', 'titleCaptionTranslation': {'workTitle': None, 'workCaption': None}, 'createDate': '2023-11-04T01:48:31+09:00', 'updateDate': '2023-11-04T01:48:31+09:00', 'isUnlisted': False, 'isMasked': False, 'aiType': 1, 'profileImageUrl': 'https://i.pximg.net/user-profile/img/2021/09/04/21/16/10/21355803_8f3b9f59ba32bd2b5a72e36c7ad9ba7f_50.png'}, {'id': '113114599', 'title': 'ポニーガール', 'illustType': 0, 'xRestrict': 1, 'restrict': 0, 'sl': 6, 'url': 'https://i.pximg.net/c/250x250_80_a2/custom-thumb/img/2023/11/04/00/27/41/113114599_p0_custom1200.jpg', 'description': '', 'tags': ['R-18', 'ポニーガール', '拘束', '連縛', 'クズノハ', '百合園セイア', 'ブルーアーカイブ', '鬼怒川カスミ', '竜華キサキ', '緊縛'], 'userId': '90781526', 'userName': 'Gakispark', 'width': 2752, 'height': 2480, 'pageCount': 8, 'isBookmarkable': True, 'bookmarkData': None, 'alt': '#ポニーガール ポニーガール - Gakispark的插画', 'titleCaptionTranslation': {'workTitle': None, 'workCaption': None}, 'createDate': '2023-11-04T00:27:41+09:00', 'updateDate': '2023-11-04T00:27:41+09:00', 'isUnlisted': False, 'isMasked': False, 'aiType': 1, 'profileImageUrl': 'https://i.pximg.net/user-profile/img/2023/08/29/01/18/00/24872711_7f94abb2a69770d3665805f99b5d357c_50.jpg'}, {'id': '113109489', 'title': '竜華キサキ セックス', 'illustType': 0, 'xRestrict': 1, 'restrict': 0, 'sl': 6, 'url': 'https://i.pximg.net/c/250x250_80_a2/img-master/img/2023/11/03/22/00/03/113109489_p0_square1200.jpg', 'description': '', 'tags': ['R-18', 'BlueArchive', 'ブルーアーカイブ', 'ブルアカ', '竜華キサキ', 'セックス', '巨乳', '陵辱', '中出し', 'ロリ'], 'userId': '210798', 'userName': 'ルミア', 'width': 1300, 'height': 1200, 'pageCount': 3, 'isBookmarkable': True, 'bookmarkData': None, 'alt': '#BlueArchive 竜華キサキ セックス - ルミア的插画', 'titleCaptionTranslation': {'workTitle': None, 'workCaption': None}, 'createDate': '2023-11-03T22:00:03+09:00', 'updateDate': '2023-11-03T22:00:03+09:00', 'isUnlisted': False, 'isMasked': False, 'aiType': 2, 'profileImageUrl': 'https://i.pximg.net/user-profile/img/2023/02/28/20/20/23/24092558_a9d08e4fe0e573f29bcbd1a811ce6412_50.png'}, {'id': '113103165', 'title': 'キサキ', 'illustType': 0, 'xRestrict': 0, 'restrict': 0, 'sl': 2, 'url': 'https://i.pximg.net/c/250x250_80_a2/img-master/img/2023/11/03/18/21/42/113103165_p0_square1200.jpg', 'description': '', 'tags': ['キサキ', 'ブルアカ', 'ブルーアーカイブ', 'キサキ(ブルーアーカイブ)', '竜華キサキ', '太もも', 'ちっぱい', 'チャイナドレス'], 'userId': '1480420', 'userName': 'Ririko', 'width': 1280, 'height': 1883, 'pageCount': 1, 'isBookmarkable': True, 'bookmarkData': None, 'alt': '#キサキ キサキ - Ririko的插画', 'titleCaptionTranslation': {'workTitle': None, 'workCaption': None}, 'createDate': '2023-11-03T18:21:42+09:00', 'updateDate': '2023-11-03T18:21:42+09:00', 'isUnlisted': False, 'isMasked': False, 'aiType': 1, 'profileImageUrl': 'https://i.pximg.net/user-profile/img/2017/07/27/20/19/13/12932284_c5c45b3f1277163689f31b3bffe83c28_50.png'}, {'id': '113103032', 'title': 'キサキ', 'illustType': 0, 'xRestrict': 0, 'restrict': 0, 'sl': 2, 'url': 'https://i.pximg.net/c/250x250_80_a2/custom-thumb/img/2023/11/03/18/16/14/113103032_p0_custom1200.jpg', 'description': '', 'tags': ['ブルアカ', 'ブルーアーカイブ', '竜華キサキ'], 'userId': '71391142', 'userName': 'クズノハ', 'width': 695, 'height': 985, 'pageCount': 1, 'isBookmarkable': True, 'bookmarkData': None, 'alt': '#ブルアカ キサキ - クズノハ的插画', 'titleCaptionTranslation': {'workTitle': None, 'workCaption': None}, 'createDate': '2023-11-03T18:16:14+09:00', 'updateDate': '2023-11-03T18:16:14+09:00', 'isUnlisted': False, 'isMasked': False, 'aiType': 1, 'profileImageUrl': 'https://i.pximg.net/user-profile/img/2023/05/22/16/58/31/24452621_f7c54965ba3de174d7582cd3b29a42a6_50.png'}, {'id': '113096568', 'title': 'キサキさん、準備中', 'illustType': 0, 'xRestrict': 0, 'restrict': 0, 'sl': 2, 'url': 'https://i.pximg.net/c/250x250_80_a2/img-master/img/2023/11/03/12/44/39/113096568_p0_square1200.jpg', 'description': '', 'tags': ['女の子', 'ブルアカ', 'ブルーアーカイブ', '竜華キサキ', 'ロリ', 'qipao', 'ツインテール', '黒髪', 'マンガ'], 'userId': '57448893', 'userName': 'Necoro71', 'width': 2591, 'height': 3335, 'pageCount': 2, 'isBookmarkable': True, 'bookmarkData': None, 'alt': '#女の子 キサキさん、準備中 - Necoro71的插画', 'titleCaptionTranslation': {'workTitle': None, 'workCaption': None}, 'createDate': '2023-11-03T12:44:39+09:00', 'updateDate': '2023-11-03T12:44:39+09:00', 'isUnlisted': False, 'isMasked': False, 'aiType': 1, 'profileImageUrl': 'https://i.pximg.net/user-profile/img/2023/10/15/22/37/51/25052590_9abaabb5b99b334b6275e58921109c0e_50.png'}, {'id': '113091237', 'title': 'N.12', 'illustType': 0, 'xRestrict': 1, 'restrict': 0, 'sl': 6, 'url': 'https://i.pximg.net/c/250x250_80_a2/img-master/img/2023/11/03/07/07/26/113091237_p0_square1200.jpg', 'description': '', 'tags': ['R-18', 'Blacked', 'Qos', 'hentai', 'small_breasts', 'ブルーアーカイブ', '竜華キサキ'], 'userId': '75157200', 'userName': 'PotatoSHentai', 'width': 865, 'height': 1200, 'pageCount': 1, 'isBookmarkable': True, 'bookmarkData': None, 'alt': '#Blacked N.12 - PotatoSHentai的插画', 'titleCaptionTranslation': {'workTitle': None, 'workCaption': None}, 'createDate': '2023-11-03T07:07:26+09:00', 'updateDate': '2023-11-03T07:07:26+09:00', 'isUnlisted': False, 'isMasked': False, 'aiType': 1, 'profileImageUrl': 'https://i.pximg.net/user-profile/img/2023/11/02/10/51/40/25118459_1b925a163d4ed2e6a241a02eff94b180_50.png'}, {'id': '113091216', 'title': 'N.11', 'illustType': 0, 'xRestrict': 1, 'restrict': 0, 'sl': 6, 'url': 'https://i.pximg.net/c/250x250_80_a2/img-master/img/2023/11/03/07/05/55/113091216_p0_square1200.jpg', 'description': '', 'tags': ['R-18', 'Blacked', 'Qos', 'hentai', 'small_breasts', '竜華キサキ', 'エリザベス(七つの大罪)', 'ブルーアーカイブ', '尼哥'], 'userId': '75157200', 'userName': 'PotatoSHentai', 'width': 826, 'height': 1200, 'pageCount': 1, 'isBookmarkable': True, 'bookmarkData': None, 'alt': '#Blacked N.11 - PotatoSHentai的插画', 'titleCaptionTranslation': {'workTitle': None, 'workCaption': None}, 'createDate': '2023-11-03T07:05:55+09:00', 'updateDate': '2023-11-03T07:05:55+09:00', 'isUnlisted': False, 'isMasked': False, 'aiType': 1, 'profileImageUrl': 'https://i.pximg.net/user-profile/img/2023/11/02/10/51/40/25118459_1b925a163d4ed2e6a241a02eff94b180_50.png'}, {'id': '113089880', 'title': 'ブルーアーカイブ', 'illustType': 0, 'xRestrict': 0, 'restrict': 0, 'sl': 4, 'url': 'https://i.pximg.net/c/250x250_80_a2/img-master/img/2023/11/03/04/44/19/113089880_p0_square1200.jpg', 'description': '', 'tags': ['ブルーアーカイブ', '竜華キサキ', '霞沢ミユ', '連河チェリノ', '空崎ヒナ', 'Loli'], 'userId': '17823821', 'userName': '虎澤 凌太', 'width': 737, 'height': 712, 'pageCount': 4, 'isBookmarkable': True, 'bookmarkData': None, 'alt': '#ブルーアーカイブ ブルーアーカイブ - 虎澤 凌太的插画', 'titleCaptionTranslation': {'workTitle': None, 'workCaption': None}, 'createDate': '2023-11-03T04:44:19+09:00', 'updateDate': '2023-11-03T04:44:19+09:00', 'isUnlisted': False, 'isMasked': False, 'aiType': 1, 'profileImageUrl': 'https://i.pximg.net/user-profile/img/2023/02/22/02/37/36/24063286_ad0b7c46da558c76bbf0aa5c6bc03b28_50.jpg'}, {'id': '113083893', 'title': '🦋.*˚', 'illustType': 0, 'xRestrict': 0, 'restrict': 0, 'sl': 2, 'url': 'https://i.pximg.net/c/250x250_80_a2/custom-thumb/img/2023/11/02/23/40/43/113083893_p0_custom1200.jpg', 'description': '', 'tags': ['女の子', 'ツインテール', 'ブルアカ', 'ブルーアーカイブ', '竜華キサキ', 'チャイナドレス', 'BlueArchive', 'ブルーアーカイブ1000users入り'], 'userId': '42255346', 'userName': '栗花落ぷるた', 'width': 4671, 'height': 7081, 'pageCount': 1, 'isBookmarkable': True, 'bookmarkData': None, 'alt': '#女の子 🦋.*˚ - 栗花落ぷるた的插画', 'titleCaptionTranslation': {'workTitle': None, 'workCaption': None}, 'createDate': '2023-11-02T23:40:43+09:00', 'updateDate': '2023-11-02T23:40:43+09:00', 'isUnlisted': False, 'isMasked': False, 'aiType': 1, 'profileImageUrl': 'https://i.pximg.net/user-profile/img/2023/11/07/14/21/06/25138563_f75bbcac6ab0cc044ab4a86bcce5fc90_50.png'}, {'id': '113082858', 'title': '100天ba日更绘画挑战！第87天!', 'illustType': 0, 'xRestrict': 0, 'restrict': 0, 'sl': 4, 'url': 'https://i.pximg.net/c/250x250_80_a2/custom-thumb/img/2023/11/02/23/05/20/113082858_p0_custom1200.jpg', 'description': '', 'tags': ['ブルーアーカイブ', '女の子', 'loli', 'BlueArchive', '尻神様', 'キサキ(ブルーアーカイブ)', '竜華キサキ', '尻'], 'userId': '13371450', 'userName': 'JYT@fanbox', 'width': 2744, 'height': 4638, 'pageCount': 1, 'isBookmarkable': True, 'bookmarkData': None, 'alt': '#ブルーアーカイブ 100天ba日更绘画挑战！第87天! - JYT@fanbox的插画', 'titleCaptionTranslation': {'workTitle': None, 'workCaption': None}, 'createDate': '2023-11-02T23:05:20+09:00', 'updateDate': '2023-11-02T23:05:20+09:00', 'isUnlisted': False, 'isMasked': False, 'aiType': 1, 'profileImageUrl': 'https://i.pximg.net/user-profile/img/2021/11/16/19/54/47/21749471_7476fdd0cac3c75162642ce1a9b94fbd_50.jpg'}, {'id': '113074184', 'title': '【ブルアカ】キサキ会長をバックから突いて中出し射精', 'illustType': 2, 'xRestrict': 1, 'restrict': 0, 'sl': 6, 'url': 'https://i.pximg.net/c/250x250_80_a2/img-master/img/2023/11/02/17/52/51/113074184_square1200.jpg', 'description': '', 'tags': ['R-18', 'うごイラ', 'ブルーアーカイブ', '竜華キサキ'], 'userId': '1167548', 'userName': 'なまもななせ海通信@日i28a', 'width': 1027, 'height': 1344, 'pageCount': 1, 'isBookmarkable': True, 'bookmarkData': None, 'alt': '#ブルーアーカイブ 【ブルアカ】キサキ会長をバックから突いて中出し射精 - なまもななせ海通信@日i28a的动图', 'titleCaptionTranslation': {'workTitle': None, 'workCaption': None}, 'createDate': '2023-11-02T17:52:51+09:00', 'updateDate': '2023-11-02T17:52:51+09:00', 'isUnlisted': False, 'isMasked': False, 'aiType': 1, 'profileImageUrl': 'https://i.pximg.net/user-profile/img/2023/01/01/15/53/42/23817779_4e899dae0d55bf6f7a531ecca781d39b_50.jpg'}, {'id': '113073391', 'title': 'chibi kisaki ♥️♥️', 'illustType': 0, 'xRestrict': 0, 'restrict': 0, 'sl': 4, 'url': 'https://i.pximg.net/c/250x250_80_a2/img-master/img/2023/11/02/17/04/59/113073391_p0_square1200.jpg', 'description': '', 'tags': ['kisaki(blue_archive)', 'ブルーアーカイブ', 'キサキ(ブルーアーカイブ)', 'ロリコン', 'ロリ', '竜華キサキ'], 'userId': '61103108', 'userName': 'Nameless Guy', 'width': 1024, 'height': 1024, 'pageCount': 1, 'isBookmarkable': True, 'bookmarkData': None, 'alt': '#kisaki(blue_archive) chibi kisaki ♥️♥️ - Nameless Guy的插画', 'titleCaptionTranslation': {'workTitle': None, 'workCaption': None}, 'createDate': '2023-11-02T17:04:59+09:00', 'updateDate': '2023-11-02T17:04:59+09:00', 'isUnlisted': False, 'isMasked': False, 'aiType': 0, 'profileImageUrl': 'https://s.pximg.net/common/images/no_profile_s.png'}, {'id': '113073374', 'title': 'kisaki ♥️', 'illustType': 0, 'xRestrict': 0, 'restrict': 0, 'sl': 4, 'url': 'https://i.pximg.net/c/250x250_80_a2/img-master/img/2023/11/02/17/04/08/113073374_p0_square1200.jpg', 'description': '', 'tags': ['kisaki_(blue_archive)', 'ロリ', 'ロリコン', 'キサキ(ブルーアーカイブ)', 'ブルーアーカイブ', '竜華キサキ'], 'userId': '61103108', 'userName': 'Nameless Guy', 'width': 1024, 'height': 1024, 'pageCount': 1, 'isBookmarkable': True, 'bookmarkData': None, 'alt': '#kisaki_(blue_archive) kisaki ♥️ - Nameless Guy的插画', 'titleCaptionTranslation': {'workTitle': None, 'workCaption': None}, 'createDate': '2023-11-02T17:04:08+09:00', 'updateDate': '2023-11-02T17:04:08+09:00', 'isUnlisted': False, 'isMasked': False, 'aiType': 0, 'profileImageUrl': 'https://s.pximg.net/common/images/no_profile_s.png'}, {'id': '113071539', 'title': '키사키', 'illustType': 0, 'xRestrict': 0, 'restrict': 0, 'sl': 6, 'url': 'https://i.pximg.net/c/250x250_80_a2/img-master/img/2023/11/02/15/01/41/113071539_p0_square1200.jpg', 'description': '', 'tags': ['BlueArchive', 'ブルーアーカイブ', '竜華キサキ'], 'userId': '4331651', 'userName': 'ミロン', 'width': 1496, 'height': 2527, 'pageCount': 1, 'isBookmarkable': True, 'bookmarkData': None, 'alt': '#BlueArchive 키사키 - ミロン的插画', 'titleCaptionTranslation': {'workTitle': None, 'workCaption': None}, 'createDate': '2023-11-02T15:01:41+09:00', 'updateDate': '2023-11-02T15:01:41+09:00', 'isUnlisted': False, 'isMasked': False, 'aiType': 1, 'profileImageUrl': 'https://i.pximg.net/user-profile/img/2023/09/14/23/52/56/24937164_a9b902f2d7ad47618ff6fbc93a50d2b4_50.png'}, {'id': '113067142', 'title': '키사키', 'illustType': 0, 'xRestrict': 0, 'restrict': 0, 'sl': 2, 'url': 'https://i.pximg.net/c/250x250_80_a2/img-master/img/2023/11/02/09/41/34/113067142_p0_square1200.jpg', 'description': '', 'tags': ['BlueArchive', 'ブルーアーカイブ', '블루아카이브', '竜華げキサキ', '竜華キサキ'], 'userId': '99860712', 'userName': '진홍', 'width': 3508, 'height': 2480, 'pageCount': 1, 'isBookmarkable': True, 'bookmarkData': None, 'alt': '#BlueArchive 키사키 - 진홍的插画', 'titleCaptionTranslation': {'workTitle': None, 'workCaption': None}, 'createDate': '2023-11-02T09:41:34+09:00', 'updateDate': '2023-11-02T09:41:34+09:00', 'isUnlisted': False, 'isMasked': False, 'aiType': 1, 'profileImageUrl': 'https://i.pximg.net/user-profile/img/2023/10/28/00/44/35/25097588_2731d6debb6aebf0fc58a9a6ef87ea85_50.jpg'}, {'id': '113062255', 'title': 'キサキ', 'illustType': 0, 'xRestrict': 1, 'restrict': 0, 'sl': 6, 'url': 'https://i.pximg.net/c/250x250_80_a2/img-master/img/2023/11/02/02/38/16/113062255_p0_square1200.jpg', 'description': '', 'tags': ['R-18', 'むちむち', '陰毛', 'ブルーアーカイブ', 'キサキ(ブルーアーカイブ)', '腋', '竜華キサキ', 'ブルアカ', 'ロリ陰毛', 'はいてない'], 'userId': '5223130', 'userName': 'ヨネズ', 'width': 3942, 'height': 3942, 'pageCount': 3, 'isBookmarkable': True, 'bookmarkData': None, 'alt': '#むちむち キサキ - ヨネズ的插画', 'titleCaptionTranslation': {'workTitle': None, 'workCaption': None}, 'createDate': '2023-11-02T02:38:16+09:00', 'updateDate': '2023-11-02T02:38:16+09:00', 'isUnlisted': False, 'isMasked': False, 'aiType': 1, 'profileImageUrl': 'https://i.pximg.net/user-profile/img/2023/02/06/04/56/52/23991600_9a1d8d80daaacb363de61564a6e833c3_50.jpg'}, {'id': '113058345', 'title': '竜華キサキレイヤーとの危ない写真撮影❤', 'illustType': 0, 'xRestrict': 1, 'restrict': 0, 'sl': 6, 'url': 'https://i.pximg.net/c/250x250_80_a2/img-master/img/2023/11/02/00/00/10/113058345_p0_square1200.jpg', 'description': '', 'tags': ['R-18', 'AI生成', 'AIイラスト', 'キサキ(ブルーアーカイブ)', '竜華キサキ', 'ブルーアーカイブ'], 'userId': '98083506', 'userName': '華巳 ユキ', 'width': 800, 'height': 600, 'pageCount': 1, 'isBookmarkable': True, 'bookmarkData': None, 'alt': '#AI生成 竜華キサキレイヤーとの危ない写真撮影❤ - 華巳 ユキ的插画', 'titleCaptionTranslation': {'workTitle': None, 'workCaption': None}, 'createDate': '2023-11-02T00:00:10+09:00', 'updateDate': '2023-11-02T00:00:10+09:00', 'isUnlisted': False, 'isMasked': False, 'aiType': 2, 'profileImageUrl': 'https://i.pximg.net/user-profile/img/2023/09/10/06/40/15/24919546_f06253ffd7fb1df00452bd9993675aed_50.png'}, {'id': '113056211', 'title': 'Wanna stay in bed longer nyaa?', 'illustType': 0, 'xRestrict': 0, 'restrict': 0, 'sl': 4, 'url': 'https://i.pximg.net/c/250x250_80_a2/img-master/img/2023/11/01/22/58/49/113056211_p0_square1200.jpg', 'description': '', 'tags': ['BlueArchive', 'ブルアカ', 'ブルーアーカイブ', 'HALLOWEEN', 'ハロウィン', 'kisaki', 'キサキ(ブルーアーカイブ)', '竜華キサキ'], 'userId': '20016122', 'userName': 'Pol Land', 'width': 2688, 'height': 1792, 'pageCount': 1, 'isBookmarkable': True, 'bookmarkData': None, 'alt': '#BlueArchive Wanna stay in bed longer nyaa? - Pol Land的插画', 'titleCaptionTranslation': {'workTitle': None, 'workCaption': None}, 'createDate': '2023-11-01T22:58:49+09:00', 'updateDate': '2023-11-01T22:58:49+09:00', 'isUnlisted': False, 'isMasked': False, 'aiType': 2, 'profileImageUrl': 'https://i.pximg.net/user-profile/img/2023/11/01/13/32/32/25115092_e2a4056918e8122c7e89f8ea962b7b86_50.png'}, {'id': '113054418', 'title': '无题', 'illustType': 0, 'xRestrict': 1, 'restrict': 0, 'sl': 6, 'url': 'https://i.pximg.net/c/250x250_80_a2/img-master/img/2023/11/01/22/01/38/113054418_p0_square1200.jpg', 'description': '', 'tags': ['R-18', 'BlueArchive', 'ブルーアーカイブ', '蔚蓝档案', '竜華キサキ', 'キサキ(ブルーアーカイブ)'], 'userId': '14802299', 'userName': '八武祈木', 'width': 1280, 'height': 1920, 'pageCount': 6, 'isBookmarkable': True, 'bookmarkData': None, 'alt': '#BlueArchive 无题 - 八武祈木的插画', 'titleCaptionTranslation': {'workTitle': None, 'workCaption': None}, 'createDate': '2023-11-01T22:01:38+09:00', 'updateDate': '2023-11-01T22:01:38+09:00', 'isUnlisted': False, 'isMasked': False, 'aiType': 2, 'profileImageUrl': 'https://i.pximg.net/user-profile/img/2019/02/08/04/11/48/15365097_4248c1aa18fd01eaf2ba075613437428_50.jpg'}, {'id': '113049907', 'title': '無題', 'illustType': 0, 'xRestrict': 0, 'restrict': 0, 'sl': 4, 'url': 'https://i.pximg.net/c/250x250_80_a2/img-master/img/2023/11/01/19/30/05/113049907_p0_square1200.jpg', 'description': '', 'tags': ['ブルーアーカイブ', '竜華キサキ', 'キサキ(ブルーアーカイブ)', 'コイカツ', '催眠', '洗脳', '悪堕ち', 'NTR', '無様エロ', 'ロリ'], 'userId': '90089352', 'userName': 'HMZZ', 'width': 1160, 'height': 1160, 'pageCount': 4, 'isBookmarkable': True, 'bookmarkData': None, 'alt': '#ブルーアーカイブ 無題 - HMZZ的插画', 'titleCaptionTranslation': {'workTitle': None, 'workCaption': None}, 'createDate': '2023-11-01T19:30:05+09:00', 'updateDate': '2023-11-01T19:30:05+09:00', 'isUnlisted': False, 'isMasked': False, 'aiType': 1, 'profileImageUrl': 'https://i.pximg.net/user-profile/img/2023/10/08/20/30/42/25025231_309aca12d54e5e89af78fef814f1be53_50.jpg'}, {'id': '113046148', 'title': 'Could you get me a glass of...', 'illustType': 0, 'xRestrict': 0, 'restrict': 0, 'sl': 2, 'url': 'https://i.pximg.net/c/250x250_80_a2/img-master/img/2023/11/01/16/53/24/113046148_p0_square1200.jpg', 'description': '', 'tags': ['キサキ(ブルーアーカイブ)', '竜華キサキ', 'BlueArchive', 'ブルアカ', 'ブルーアーカイブ', 'kisaki'], 'userId': '20016122', 'userName': 'Pol Land', 'width': 2688, 'height': 1792, 'pageCount': 1, 'isBookmarkable': True, 'bookmarkData': None, 'alt': '#キサキ(ブルーアーカイブ) Could you get me a glass of... - Pol Land的插画', 'titleCaptionTranslation': {'workTitle': None, 'workCaption': None}, 'createDate': '2023-11-01T16:53:24+09:00', 'updateDate': '2023-11-01T16:53:24+09:00', 'isUnlisted': False, 'isMasked': False, 'aiType': 2, 'profileImageUrl': 'https://i.pximg.net/user-profile/img/2023/11/01/13/32/32/25115092_e2a4056918e8122c7e89f8ea962b7b86_50.png'}, {'id': '113042650', 'title': 'I have someone picking me up', 'illustType': 0, 'xRestrict': 0, 'restrict': 0, 'sl': 2, 'url': 'https://i.pximg.net/c/250x250_80_a2/img-master/img/2023/11/01/13/19/47/113042650_p0_square1200.jpg', 'description': '', 'tags': ['竜華キサキ', 'キサキ', 'BlueArchive', 'ブルアカ', 'ブルーアーカイブ'], 'userId': '20016122', 'userName': 'Pol Land', 'width': 2688, 'height': 1792, 'pageCount': 1, 'isBookmarkable': True, 'bookmarkData': None, 'alt': '#竜華キサキ I have someone picking me up - Pol Land的插画', 'titleCaptionTranslation': {'workTitle': None, 'workCaption': None}, 'createDate': '2023-11-01T13:19:47+09:00', 'updateDate': '2023-11-01T13:19:47+09:00', 'isUnlisted': False, 'isMasked': False, 'aiType': 2, 'profileImageUrl': 'https://i.pximg.net/user-profile/img/2023/11/01/13/32/32/25115092_e2a4056918e8122c7e89f8ea962b7b86_50.png'}, {'id': '113039828', 'title': 'キサキ', 'illustType': 0, 'xRestrict': 1, 'restrict': 0, 'sl': 6, 'url': 'https://i.pximg.net/c/250x250_80_a2/custom-thumb/img/2023/11/01/10/38/10/113039828_p0_custom1200.jpg', 'description': '', 'tags': ['R-18', 'ブルアカ', 'ブルーアーカイブ', 'キサキ', 'キサキ(ブルーアーカイブ)', '足', '竜華キサキ'], 'userId': '40434039', 'userName': 'オキ', 'width': 3241, 'height': 3823, 'pageCount': 3, 'isBookmarkable': True, 'bookmarkData': None, 'alt': '#ブルアカ キサキ - オキ的插画', 'titleCaptionTranslation': {'workTitle': None, 'workCaption': None}, 'createDate': '2023-11-01T10:38:10+09:00', 'updateDate': '2023-11-01T10:38:10+09:00', 'isUnlisted': False, 'isMasked': False, 'aiType': 1, 'profileImageUrl': 'https://i.pximg.net/user-profile/img/2023/11/13/06/32/52/25159210_1dc98597fe7c7b14e709e07ce6e87ed3_50.png'}, {'id': '113027908', 'title': 'キサキ会長', 'illustType': 0, 'xRestrict': 1, 'restrict': 0, 'sl': 6, 'url': 'https://i.pximg.net/c/250x250_80_a2/img-master/img/2023/11/01/00/01/51/113027908_p0_square1200.jpg', 'description': '', 'tags': ['R-18', 'ブルーアーカイブ', 'キサキ(ブルーアーカイブ)', '竜華キサキ', 'マイクロビキニ', '足裏', '腋', 'おへそ', '敗北', '裸足'], 'userId': '3619931', 'userName': 'こくと', 'width': 2046, 'height': 1447, 'pageCount': 3, 'isBookmarkable': True, 'bookmarkData': None, 'alt': '#ブルーアーカイブ キサキ会長 - こくと的插画', 'titleCaptionTranslation': {'workTitle': None, 'workCaption': None}, 'createDate': '2023-11-01T00:01:51+09:00', 'updateDate': '2023-11-01T00:01:51+09:00', 'isUnlisted': False, 'isMasked': False, 'aiType': 1, 'profileImageUrl': 'https://i.pximg.net/user-profile/img/2019/09/30/18/16/11/16350934_4051ca7d8ab3c866ac8be0190734107a_50.jpg'}, {'id': '113027703', 'title': 'キョンシーになったキサキ会長(ブルーアーカイブ)', 'illustType': 0, 'xRestrict': 0, 'restrict': 0, 'sl': 2, 'url': 'https://i.pximg.net/c/250x250_80_a2/img-master/img/2023/11/01/00/00/41/113027703_p0_square1200.jpg', 'description': '', 'tags': ['ブルアカ', 'ブルーアーカイブ', 'BlueArchive', '竜華キサキ', 'ハロウィン', 'HALLOWEEN', '블루아카이브', '蔚藍檔案', 'キョンシー'], 'userId': '82167492', 'userName': 'あおらいね', 'width': 2300, 'height': 3850, 'pageCount': 1, 'isBookmarkable': True, 'bookmarkData': None, 'alt': '#ブルアカ キョンシーになったキサキ会長(ブルーアーカイブ) - あおらいね的插画', 'titleCaptionTranslation': {'workTitle': None, 'workCaption': None}, 'createDate': '2023-11-01T00:00:41+09:00', 'updateDate': '2023-11-01T00:00:41+09:00', 'isUnlisted': False, 'isMasked': False, 'aiType': 1, 'profileImageUrl': 'https://i.pximg.net/user-profile/img/2023/05/31/13/46/10/24487675_bbbdbcc50fb6478430a5b2ec29cc5691_50.jpg'}, {'id': '113024108', 'title': '竜華キサキ', 'illustType': 0, 'xRestrict': 0, 'restrict': 0, 'sl': 4, 'url': 'https://i.pximg.net/c/250x250_80_a2/custom-thumb/img/2023/10/31/23/00/06/113024108_p0_custom1200.jpg', 'description': '', 'tags': ['ブルーアーカイブ', 'ブルアカ', '竜華キサキ', 'キサキ(ブルーアーカイブ)', '女の子', 'ロリ', 'ニラマレ', '大腿'], 'userId': '19721784', 'userName': 'mrfutaba', 'width': 1280, 'height': 1920, 'pageCount': 1, 'isBookmarkable': True, 'bookmarkData': None, 'alt': '#ブルーアーカイブ 竜華キサキ - mrfutaba的插画', 'titleCaptionTranslation': {'workTitle': None, 'workCaption': None}, 'createDate': '2023-10-31T23:00:06+09:00', 'updateDate': '2023-10-31T23:00:06+09:00', 'isUnlisted': False, 'isMasked': False, 'aiType': 2, 'profileImageUrl': 'https://i.pximg.net/user-profile/img/2023/10/24/23/22/23/25084814_8b953716e19434d894fb9496e634aaf4_50.png'}, {'id': '113022352', 'title': 'キサキ', 'illustType': 0, 'xRestrict': 0, 'restrict': 0, 'sl': 6, 'url': 'https://i.pximg.net/c/250x250_80_a2/custom-thumb/img/2023/10/31/22/26/20/113022352_p0_custom1200.jpg', 'description': '', 'tags': ['キサキ(ブルーアーカイブ)', 'ブルーアーカイブ', '竜華キサキ', 'ちっぱい', '黒タイツ', '魅惑のふともも'], 'userId': '14475287', 'userName': '風遠', 'width': 1104, 'height': 2180, 'pageCount': 2, 'isBookmarkable': True, 'bookmarkData': None, 'alt': '#キサキ(ブルーアーカイブ) キサキ - 風遠的插画', 'titleCaptionTranslation': {'workTitle': None, 'workCaption': None}, 'createDate': '2023-10-31T22:26:20+09:00', 'updateDate': '2023-10-31T22:26:20+09:00', 'isUnlisted': False, 'isMasked': False, 'aiType': 1, 'profileImageUrl': 'https://i.pximg.net/user-profile/img/2021/07/08/00/25/09/20999733_e19150493e7f076621dec6d8340a04c4_50.jpg'}, {'id': '113021462', 'title': 'kisaki', 'illustType': 0, 'xRestrict': 0, 'restrict': 0, 'sl': 2, 'url': 'https://i.pximg.net/c/250x250_80_a2/img-master/img/2023/10/31/22/09/05/113021462_p0_square1200.jpg', 'description': '', 'tags': ['竜華キサキ', 'キサキ(ブルーアーカイブ)', '魅惑のふともも', 'ブルアカ', 'ブルーアーカイブ'], 'userId': '71826806', 'userName': '연깎', 'width': 1148, 'height': 1136, 'pageCount': 2, 'isBookmarkable': True, 'bookmarkData': None, 'alt': '#竜華キサキ kisaki - 연깎的插画', 'titleCaptionTranslation': {'workTitle': None, 'workCaption': None}, 'createDate': '2023-10-31T22:09:05+09:00', 'updateDate': '2023-10-31T22:09:05+09:00', 'isUnlisted': False, 'isMasked': False, 'aiType': 1, 'profileImageUrl': 'https://i.pximg.net/user-profile/img/2023/06/12/19/50/02/24537929_3aa59ae86dc36838bf79c3c879d2d853_50.jpg'}, {'id': '113016667', 'title': 'ロータースイッチON', 'illustType': 2, 'xRestrict': 1, 'restrict': 0, 'sl': 6, 'url': 'https://i.pximg.net/c/250x250_80_a2/img-master/img/2023/10/31/20/36/42/113016667_square1200.jpg', 'description': '', 'tags': ['R-18', 'うごイラ', '竜華キサキ', 'キサキ(ブルーアーカイブ)', 'ブルーアーカイブ', '乳首責め', 'ローター', 'バイブ', '拘束'], 'userId': '5530232', 'userName': 'Abanam -あばなm-', 'width': 854, 'height': 480, 'pageCount': 1, 'isBookmarkable': True, 'bookmarkData': None, 'alt': '#竜華キサキ ロータースイッチON - Abanam -あばなm-的动图', 'titleCaptionTranslation': {'workTitle': None, 'workCaption': None}, 'createDate': '2023-10-31T20:36:42+09:00', 'updateDate': '2023-10-31T20:36:42+09:00', 'isUnlisted': False, 'isMasked': False, 'aiType': 1, 'profileImageUrl': 'https://i.pximg.net/user-profile/img/2022/08/29/09/34/42/23257860_d90cb60cf2059cfa55f0531bd2e9aef5_50.png'}, {'id': '113014249', 'title': '連続乳首弾き', 'illustType': 2, 'xRestrict': 1, 'restrict': 0, 'sl': 6, 'url': 'https://i.pximg.net/c/250x250_80_a2/img-master/img/2023/10/31/19/44/31/113014249_square1200.jpg', 'description': '', 'tags': ['R-18', 'うごイラ', '竜華キサキ', 'キサキ(ブルーアーカイブ)', 'ブルーアーカイブ', '乳首責め', '貧乳', '焦らし', 'ローター', 'バイブ'], 'userId': '5530232', 'userName': 'Abanam -あばなm-', 'width': 854, 'height': 480, 'pageCount': 1, 'isBookmarkable': True, 'bookmarkData': None, 'alt': '#竜華キサキ 連続乳首弾き - Abanam -あばなm-的动图', 'titleCaptionTranslation': {'workTitle': None, 'workCaption': None}, 'createDate': '2023-10-31T19:44:31+09:00', 'updateDate': '2023-10-31T19:44:31+09:00', 'isUnlisted': False, 'isMasked': False, 'aiType': 1, 'profileImageUrl': 'https://i.pximg.net/user-profile/img/2022/08/29/09/34/42/23257860_d90cb60cf2059cfa55f0531bd2e9aef5_50.png'}, {'id': '112999732', 'title': 'ブルアカ', 'illustType': 0, 'xRestrict': 0, 'restrict': 0, 'sl': 4, 'url': 'https://i.pximg.net/c/250x250_80_a2/img-master/img/2023/10/31/09/23/48/112999732_p0_square1200.jpg', 'description': '', 'tags': ['女の子', 'ロリ', 'プラナ(ブルーアーカイブ)', 'ブルーアーカイブ', '才羽モモイ', '竜華キサキ', 'アナル尻尾'], 'userId': '6110952', 'userName': 's10021', 'width': 1732, 'height': 2048, 'pageCount': 3, 'isBookmarkable': True, 'bookmarkData': None, 'alt': '#女の子 ブルアカ - s10021的插画', 'titleCaptionTranslation': {'workTitle': None, 'workCaption': None}, 'createDate': '2023-10-31T09:23:48+09:00', 'updateDate': '2023-10-31T09:23:48+09:00', 'isUnlisted': False, 'isMasked': False, 'aiType': 1, 'profileImageUrl': 'https://i.pximg.net/user-profile/img/2016/03/20/23/08/50/10692681_f2165581e597fdc35971f0ba84bbca10_50.png'}, {'id': '112999071', 'title': 'キサキ', 'illustType': 0, 'xRestrict': 0, 'restrict': 0, 'sl': 4, 'url': 'https://i.pximg.net/c/250x250_80_a2/img-master/img/2023/10/31/08/38/39/112999071_p0_square1200.jpg', 'description': '', 'tags': ['ブルーアーカイブ', '竜華キサキ', '玄龍門'], 'userId': '20620070', 'userName': 'Hijo', 'width': 4961, 'height': 7016, 'pageCount': 1, 'isBookmarkable': True, 'bookmarkData': None, 'alt': '#ブルーアーカイブ キサキ - Hijo的插画', 'titleCaptionTranslation': {'workTitle': None, 'workCaption': None}, 'createDate': '2023-10-31T08:38:39+09:00', 'updateDate': '2023-10-31T08:38:39+09:00', 'isUnlisted': False, 'isMasked': False, 'aiType': 1, 'profileImageUrl': 'https://i.pximg.net/user-profile/img/2023/03/19/01/15/47/24170812_0f3fa6de3f8539fa38ecc7bc05df96c2_50.png'}, {'id': '112997285', 'title': 'おしおきキサキちゃん', 'illustType': 2, 'xRestrict': 1, 'restrict': 0, 'sl': 6, 'url': 'https://i.pximg.net/c/250x250_80_a2/img-master/img/2023/10/31/06/51/36/112997285_square1200.jpg', 'description': '', 'tags': ['R-18', 'うごイラ', 'ブルーアーカイブ', '竜華キサキ', 'キサキ(ブルーアーカイブ)', 'ブルアカ', '拘束', 'ローター'], 'userId': '5530232', 'userName': 'Abanam -あばなm-', 'width': 854, 'height': 480, 'pageCount': 1, 'isBookmarkable': True, 'bookmarkData': None, 'alt': '#ブルーアーカイブ おしおきキサキちゃん - Abanam -あばなm-的动图', 'titleCaptionTranslation': {'workTitle': None, 'workCaption': None}, 'createDate': '2023-10-31T06:51:36+09:00', 'updateDate': '2023-10-31T06:51:36+09:00', 'isUnlisted': False, 'isMasked': False, 'aiType': 1, 'profileImageUrl': 'https://i.pximg.net/user-profile/img/2022/08/29/09/34/42/23257860_d90cb60cf2059cfa55f0531bd2e9aef5_50.png'}, {'id': '112990336', 'title': '竜華キサキ\\u3000中出し\\u3000キサキ②', 'illustType': 0, 'xRestrict': 1, 'restrict': 0, 'sl': 6, 'url': 'https://i.pximg.net/c/250x250_80_a2/img-master/img/2023/10/31/00/24/21/112990336_p0_square1200.jpg', 'description': '', 'tags': ['R-18', 'AI生成', 'AIイラスト', 'BlueArchive', 'ブルーアーカイブ', 'ブルアカ', 'ロリ', '竜華キサキ', 'キサキ(ブルーアーカイブ)', 'チャイナドレス'], 'userId': '962203', 'userName': 'Arcadia', 'width': 1504, 'height': 1504, 'pageCount': 10, 'isBookmarkable': True, 'bookmarkData': None, 'alt': '#AI生成 竜華キサキ\\u3000中出し\\u3000キサキ② - Arcadia的插画', 'titleCaptionTranslation': {'workTitle': None, 'workCaption': None}, 'createDate': '2023-10-31T00:24:21+09:00', 'updateDate': '2023-10-31T00:24:21+09:00', 'isUnlisted': False, 'isMasked': False, 'aiType': 2, 'profileImageUrl': 'https://i.pximg.net/user-profile/img/2023/09/08/21/58/54/24913965_baacfaebf6281ebd63008461258203c3_50.png'}, {'id': '112985832', 'title': 'ハロウィンなのでキサキをかぼちゃ頭で露出させる', 'illustType': 0, 'xRestrict': 1, 'restrict': 0, 'sl': 6, 'url': 'https://i.pximg.net/c/250x250_80_a2/img-master/img/2023/10/30/22/43/56/112985832_p0_square1200.jpg', 'description': '', 'tags': ['R-18', 'スカトロ', 'ブルーアーカイブ', 'ロリ', '竜華キサキ', '首輪', 'おしっこ', '露出', '身体に落書き'], 'userId': '64017120', 'userName': 'ぱずる', 'width': 2150, 'height': 3036, 'pageCount': 3, 'isBookmarkable': True, 'bookmarkData': None, 'alt': '#スカトロ ハロウィンなのでキサキをかぼちゃ頭で露出させる - ぱずる的插画', 'titleCaptionTranslation': {'workTitle': None, 'workCaption': None}, 'createDate': '2023-10-30T22:43:56+09:00', 'updateDate': '2023-10-30T22:43:56+09:00', 'isUnlisted': False, 'isMasked': False, 'aiType': 1, 'profileImageUrl': 'https://i.pximg.net/user-profile/img/2021/07/29/11/29/29/21120472_94f6623d63115025d1efef23bfff4353_50.jpg'}, {'id': '112983436', 'title': '竜華キサキ 人格排泄', 'illustType': 2, 'xRestrict': 1, 'restrict': 0, 'sl': 6, 'url': 'https://i.pximg.net/c/250x250_80_a2/img-master/img/2023/10/30/21/34/26/112983436_square1200.jpg', 'description': '', 'tags': ['R-18', 'うごイラ', '竜華キサキ', 'ブルーアーカイブ', 'キサキ(ブルーアーカイブ)', 'キサキ', '人格排泄', '潮吹き', 'アヘ顔', '敗北'], 'userId': '99095465', 'userName': 'GreenTea', 'width': 516, 'height': 290, 'pageCount': 1, 'isBookmarkable': True, 'bookmarkData': None, 'alt': '#竜華キサキ 竜華キサキ 人格排泄 - GreenTea的动图', 'titleCaptionTranslation': {'workTitle': None, 'workCaption': None}, 'createDate': '2023-10-30T21:34:26+09:00', 'updateDate': '2023-10-30T21:34:26+09:00', 'isUnlisted': False, 'isMasked': False, 'aiType': 1, 'profileImageUrl': 'https://i.pximg.net/user-profile/img/2023/10/03/18/21/49/25006826_ecdc558758ebfab0326bdbff77f85aa5_50.png'}, {'id': '112967486', 'title': 'No.3 Blacked Ryuuge Kisaki', 'illustType': 0, 'xRestrict': 1, 'restrict': 0, 'sl': 6, 'url': 'https://i.pximg.net/c/250x250_80_a2/img-master/img/2023/10/30/06/32/26/112967486_p0_square1200.jpg', 'description': '', 'tags': ['R-18', 'Blacked', 'Qos', 'Kisaki', 'hentai', 'ブルーアーカイブ', '竜華キサキ'], 'userId': '75157200', 'userName': 'PotatoSHentai', 'width': 1200, 'height': 825, 'pageCount': 1, 'isBookmarkable': True, 'bookmarkData': None, 'alt': '#Blacked No.3 Blacked Ryuuge Kisaki - PotatoSHentai的插画', 'titleCaptionTranslation': {'workTitle': None, 'workCaption': None}, 'createDate': '2023-10-30T06:32:26+09:00', 'updateDate': '2023-10-30T06:32:26+09:00', 'isUnlisted': False, 'isMasked': False, 'aiType': 1, 'profileImageUrl': 'https://i.pximg.net/user-profile/img/2023/11/02/10/51/40/25118459_1b925a163d4ed2e6a241a02eff94b180_50.png'}, {'id': '112965172', 'title': 'キサキ', 'illustType': 0, 'xRestrict': 0, 'restrict': 0, 'sl': 2, 'url': 'https://i.pximg.net/c/250x250_80_a2/img-master/img/2023/10/30/02/45/46/112965172_p0_square1200.jpg', 'description': '', 'tags': ['ブルアカ', 'ブルーアーカイブ', 'BlueArchive', '竜華キサキ', 'ちっぱい'], 'userId': '69966333', 'userName': 'Arcaeder17', 'width': 3200, 'height': 3800, 'pageCount': 1, 'isBookmarkable': True, 'bookmarkData': None, 'alt': '#ブルアカ キサキ - Arcaeder17的插画', 'titleCaptionTranslation': {'workTitle': None, 'workCaption': None}, 'createDate': '2023-10-30T02:45:46+09:00', 'updateDate': '2023-10-30T02:45:46+09:00', 'isUnlisted': False, 'isMasked': False, 'aiType': 1, 'profileImageUrl': 'https://i.pximg.net/user-profile/img/2023/10/30/02/43/25/25106418_fc56cf74400cbf3f2c8b909c5b7df16a_50.png'}], 'total': 5643, 'lastPage': 95, 'bookmarkRanges': [{'min': None, 'max': None}, {'min': 10000, 'max': None}, {'min': 5000, 'max': None}, {'min': 1000, 'max': None}, {'min': 500, 'max': None}, {'min': 300, 'max': None}, {'min': 100, 'max': None}, {'min': 50, 'max': None}]}, 'popular': {'recent': [{'id': '113257076', 'title': 'キサキ', 'illustType': 0, 'xRestrict': 0, 'restrict': 0, 'sl': 2, 'url': 'https://i.pximg.net/c/250x250_80_a2/custom-thumb/img/2023/11/09/05/17/29/113257076_p0_custom1200.jpg', 'description': '', 'tags': ['ブルーアーカイブ', 'ブルアカ', 'BlueArchive', '100日チャレンジ', '竜華キサキ', '玄龍門', 'ブルーアーカイブ5000users入り', 'ブルーアーカイブ10000users入り'], 'userId': '38297201', 'userName': 'にんげんまめ@100日投稿中！', 'width': 2039, 'height': 4100, 'pageCount': 1, 'isBookmarkable': True, 'bookmarkData': None, 'alt': '#ブルーアーカイブ キサキ - にんげんまめ@100日投稿中！的插画', 'titleCaptionTranslation': {'workTitle': None, 'workCaption': None}, 'createDate': '2023-11-09T05:17:29+09:00', 'updateDate': '2023-11-09T05:17:29+09:00', 'isUnlisted': False, 'isMasked': False, 'aiType': 1, 'profileImageUrl': 'https://i.pximg.net/user-profile/img/2022/04/07/14/25/11/22513649_18fea7d9cc26759a79b3b79050f48f5c_50.jpg'}, {'id': '113248463', 'title': 'キサキ06', 'illustType': 0, 'xRestrict': 0, 'restrict': 0, 'sl': 2, 'url': 'https://i.pximg.net/c/250x250_80_a2/custom-thumb/img/2023/11/08/22/00/16/113248463_p0_custom1200.jpg', 'description': '', 'tags': ['女の子', 'BlueArchive', 'ブルアカ', 'ブルーアーカイブ', '魅惑のふともも', 'ふともも', 'キサキ会長', 'キサキ(ブルーアーカイブ)', '竜華キサキ', 'キサキ'], 'userId': '64087228', 'userName': 'yoyopipa', 'width': 1349, 'height': 2021, 'pageCount': 1, 'isBookmarkable': True, 'bookmarkData': None, 'alt': '#女の子 キサキ06 - yoyopipa的插画', 'titleCaptionTranslation': {'workTitle': None, 'workCaption': None}, 'createDate': '2023-11-08T22:00:16+09:00', 'updateDate': '2023-11-08T22:00:16+09:00', 'isUnlisted': False, 'isMasked': False, 'aiType': 1, 'profileImageUrl': 'https://s.pximg.net/common/images/no_profile_s.png'}, {'id': '113235326', 'title': 'kisaki', 'illustType': 0, 'xRestrict': 0, 'restrict': 0, 'sl': 4, 'url': 'https://i.pximg.net/c/250x250_80_a2/img-master/img/2023/11/08/09/37/57/113235326_p0_square1200.jpg', 'description': '', 'tags': ['ブルーアーカイブ', '女の子', 'ロリ', 'キサキ(ブルーアーカイブ)', '竜華キサキ', '黒パンツ', 'I字バランス'], 'userId': '6110952', 'userName': 's10021', 'width': 2243, 'height': 4096, 'pageCount': 1, 'isBookmarkable': True, 'bookmarkData': None, 'alt': '#ブルーアーカイブ kisaki - s10021的插画', 'titleCaptionTranslation': {'workTitle': None, 'workCaption': None}, 'createDate': '2023-11-08T09:37:57+09:00', 'updateDate': '2023-11-08T09:37:57+09:00', 'isUnlisted': False, 'isMasked': False, 'aiType': 1, 'profileImageUrl': 'https://i.pximg.net/user-profile/img/2016/03/20/23/08/50/10692681_f2165581e597fdc35971f0ba84bbca10_50.png'}, {'id': '113316989', 'title': '妃咲', 'illustType': 0, 'xRestrict': 0, 'restrict': 0, 'sl': 2, 'url': 'https://i.pximg.net/c/250x250_80_a2/custom-thumb/img/2023/11/11/15/25/29/113316989_p0_custom1200.jpg', 'description': '', 'tags': ['キサキ(ブルーアーカイブ)', '竜華キサキ', 'ブルーアーカイブ', 'ブルアカ', 'BlueArchive', 'ふともも', '魅惑のふともも', 'チャイナドレス'], 'userId': '33611048', 'userName': '孤葬南风@土曜日西ね06b', 'width': 4096, 'height': 2896, 'pageCount': 1, 'isBookmarkable': True, 'bookmarkData': None, 'alt': '#キサキ(ブルーアーカイブ) 妃咲 - 孤葬南风@土曜日西ね06b的插画', 'titleCaptionTranslation': {'workTitle': None, 'workCaption': None}, 'createDate': '2023-11-11T15:25:29+09:00', 'updateDate': '2023-11-11T15:25:29+09:00', 'isUnlisted': False, 'isMasked': False, 'aiType': 1, 'profileImageUrl': 'https://i.pximg.net/user-profile/img/2022/12/27/14/01/08/23793813_83d484e3004676a46d6a0340440a5fb9_50.jpg'}, {'id': '113301177', 'title': '.', 'illustType': 0, 'xRestrict': 0, 'restrict': 0, 'sl': 2, 'url': 'https://i.pximg.net/c/250x250_80_a2/img-master/img/2023/11/11/00/00/43/113301177_p0_square1200.jpg', 'description': '', 'tags': ['女の子', 'ブルーアーカイブ', '少女', '春原ココナ', '竜華キサキ'], 'userId': '46893103', 'userName': 'LM', 'width': 1677, 'height': 2610, 'pageCount': 1, 'isBookmarkable': True, 'bookmarkData': None, 'alt': '#女の子 . - LM的插画', 'titleCaptionTranslation': {'workTitle': None, 'workCaption': None}, 'createDate': '2023-11-11T00:00:43+09:00', 'updateDate': '2023-11-11T00:00:43+09:00', 'isUnlisted': False, 'isMasked': False, 'aiType': 1, 'profileImageUrl': 'https://i.pximg.net/user-profile/img/2021/11/19/19/13/02/21763234_29cf2f1cb776eb2ccdf946279876dc0d_50.jpg'}, {'id': '113334747', 'title': '竜華キサキ', 'illustType': 0, 'xRestrict': 0, 'restrict': 0, 'sl': 2, 'url': 'https://i.pximg.net/c/250x250_80_a2/img-master/img/2023/11/12/01/16/52/113334747_p0_square1200.jpg', 'description': '', 'tags': ['100日チャレンジ', 'ブルアカ', 'ブルーアーカイブ', '竜華キサキ', 'チャイナドレス', '太もも'], 'userId': '65819441', 'userName': 'ぐれえ', 'width': 1620, 'height': 2880, 'pageCount': 1, 'isBookmarkable': True, 'bookmarkData': None, 'alt': '#100日チャレンジ 竜華キサキ - ぐれえ的插画', 'titleCaptionTranslation': {'workTitle': None, 'workCaption': None}, 'createDate': '2023-11-12T01:16:52+09:00', 'updateDate': '2023-11-12T01:16:52+09:00', 'isUnlisted': False, 'isMasked': False, 'aiType': 1, 'profileImageUrl': 'https://i.pximg.net/user-profile/img/2022/08/30/22/29/11/23265131_f584296dcfabd266ccca5314bfc58598_50.jpg'}, {'id': '113252111', 'title': '무제', 'illustType': 0, 'xRestrict': 0, 'restrict': 0, 'sl': 4, 'url': 'https://i.pximg.net/c/250x250_80_a2/custom-thumb/img/2023/11/09/00/00/09/113252111_p0_custom1200.jpg', 'description': '', 'tags': ['ブルーアーカイブ', 'ブルアカ', '竜華キサキ', '尻'], 'userId': '34169671', 'userName': 'AHR', 'width': 2228, 'height': 4573, 'pageCount': 1, 'isBookmarkable': True, 'bookmarkData': None, 'alt': '#ブルーアーカイブ 무제 - AHR的插画', 'titleCaptionTranslation': {'workTitle': None, 'workCaption': None}, 'createDate': '2023-11-09T00:00:09+09:00', 'updateDate': '2023-11-09T00:00:09+09:00', 'isUnlisted': False, 'isMasked': False, 'aiType': 1, 'profileImageUrl': 'https://i.pximg.net/user-profile/img/2021/01/27/07/02/37/20077348_affcb539c8731c03d57d17f71c645547_50.jpg'}], 'permanent': [{'id': '104942682', 'title': 'キサキ', 'illustType': 0, 'xRestrict': 0, 'restrict': 0, 'sl': 2, 'url': 'https://i.pximg.net/c/250x250_80_a2/img-master/img/2023/01/30/20/17/47/104942682_p0_square1200.jpg', 'description': '', 'tags': ['ブルーアーカイブ', 'ブルアカ', '蔚藍檔案', 'チャイナドレス', 'アメリカンスリーブ', 'はいてない', '魅惑のふともも', 'ブルーアーカイブ10000users入り', '竜華キサキ'], 'userId': '7054584', 'userName': 'Demahmw(代碼)', 'width': 1137, 'height': 1544, 'pageCount': 1, 'isBookmarkable': True, 'bookmarkData': None, 'alt': '#ブルーアーカイブ キサキ - Demahmw(代碼)的插画', 'titleCaptionTranslation': {'workTitle': None, 'workCaption': None}, 'createDate': '2023-01-30T20:17:47+09:00', 'updateDate': '2023-01-30T20:17:47+09:00', 'isUnlisted': False, 'isMasked': False, 'aiType': 1, 'profileImageUrl': 'https://i.pximg.net/user-profile/img/2023/07/18/23/36/14/24692555_d7cecd2b391fbe86ae46ae7db5c395a1_50.jpg'}, {'id': '105090514', 'title': 'キサキ', 'illustType': 0, 'xRestrict': 0, 'restrict': 0, 'sl': 2, 'url': 'https://i.pximg.net/c/250x250_80_a2/custom-thumb/img/2023/02/05/00/00/35/105090514_p0_custom1200.jpg', 'description': '', 'tags': ['ブルーアーカイブ', 'キサキ', 'キサキ(ブルーアーカイブ)', 'はいてない', 'ブルーアーカイブ5000users入り', 'usersタグ整理推奨', 'ブルーアーカイブ10000users入り', '裾をつまむ', '竜華キサキ'], 'userId': '16785244', 'userName': '猫屋(NEKOYA)', 'width': 1736, 'height': 2456, 'pageCount': 1, 'isBookmarkable': True, 'bookmarkData': None, 'alt': '#ブルーアーカイブ キサキ - 猫屋(NEKOYA)的插画', 'titleCaptionTranslation': {'workTitle': None, 'workCaption': None}, 'createDate': '2023-02-05T00:00:35+09:00', 'updateDate': '2023-02-05T00:00:35+09:00', 'isUnlisted': False, 'isMasked': False, 'aiType': 1, 'profileImageUrl': 'https://i.pximg.net/user-profile/img/2021/04/12/21/07/19/20523519_d4bde918298e917854dafc46fd947953_50.png'}, {'id': '105242426', 'title': '小籠包', 'illustType': 0, 'xRestrict': 0, 'restrict': 0, 'sl': 2, 'url': 'https://i.pximg.net/c/250x250_80_a2/img-master/img/2023/02/10/13/35/49/105242426_p0_square1200.jpg', 'description': '', 'tags': ['ブルーアーカイブ', 'キサキ', '腋', 'チャイナドレス', 'はいてない', 'キサキ(ブルーアーカイブ)', '黒髪', 'ブルーアーカイブ10000users入り', '竜華キサキ'], 'userId': '5271609', 'userName': 'MeIoN', 'width': 2560, 'height': 1754, 'pageCount': 1, 'isBookmarkable': True, 'bookmarkData': None, 'alt': '#ブルーアーカイブ 小籠包 - MeIoN的插画', 'titleCaptionTranslation': {'workTitle': None, 'workCaption': None}, 'createDate': '2023-02-10T13:05:07+09:00', 'updateDate': '2023-02-10T13:35:49+09:00', 'isUnlisted': False, 'isMasked': False, 'aiType': 1, 'profileImageUrl': 'https://i.pximg.net/user-profile/img/2023/11/03/04/33/25/25121554_a5d95c70a00e357a8b658193deb51638_50.jpg'}, {'id': '105473549', 'title': 'キサキ', 'illustType': 0, 'xRestrict': 0, 'restrict': 0, 'sl': 2, 'url': 'https://i.pximg.net/c/250x250_80_a2/img-master/img/2023/02/18/00/00/44/105473549_p0_square1200.jpg', 'description': '', 'tags': ['ロリ', '貧乳', 'ブルーアーカイブ', 'キサキ(ブルーアーカイブ)', '脇', 'キサキ', '妃咲', 'ブルーアーカイブ10000users入り', '竜華キサキ'], 'userId': '31133701', 'userName': 'カンザリン', 'width': 992, 'height': 1403, 'pageCount': 1, 'isBookmarkable': True, 'bookmarkData': None, 'alt': '#ロリ キサキ - カンザリン的插画', 'titleCaptionTranslation': {'workTitle': None, 'workCaption': None}, 'createDate': '2023-02-18T00:00:44+09:00', 'updateDate': '2023-02-18T00:00:44+09:00', 'isUnlisted': False, 'isMasked': False, 'aiType': 1, 'profileImageUrl': 'https://i.pximg.net/user-profile/img/2018/04/18/00/00/20/14108360_b5fe7057125584b6a3ffe7ca7c61f0be_50.png'}, {'id': '104927924', 'title': '案外ちょろいかもしれない門主様', 'illustType': 0, 'xRestrict': 0, 'restrict': 0, 'sl': 2, 'url': 'https://i.pximg.net/c/250x250_80_a2/img-master/img/2023/01/30/03/09/53/104927924_p0_square1200.jpg', 'description': '', 'tags': ['ブルーアーカイブ', 'キサキ', '黒髪', 'ロリ', 'チャイナドレス', '背後から胸揉み', 'ハーフグローブ', 'アメリカンスリーブ', 'ブルーアーカイブ10000users入り', '竜華キサキ'], 'userId': '28750536', 'userName': 'KONO', 'width': 3541, 'height': 4901, 'pageCount': 1, 'isBookmarkable': True, 'bookmarkData': None, 'alt': '#ブルーアーカイブ 案外ちょろいかもしれない門主様 - KONO的插画', 'titleCaptionTranslation': {'workTitle': None, 'workCaption': None}, 'createDate': '2023-01-30T03:09:53+09:00', 'updateDate': '2023-01-30T03:09:53+09:00', 'isUnlisted': False, 'isMasked': False, 'aiType': 1, 'profileImageUrl': 'https://i.pximg.net/user-profile/img/2023/01/05/16/04/34/23839958_6cc71a03b5de5d1cf81b5925be675b83_50.png'}, {'id': '104812245', 'title': 'キサキ', 'illustType': 0, 'xRestrict': 0, 'restrict': 0, 'sl': 2, 'url': 'https://i.pximg.net/c/250x250_80_a2/custom-thumb/img/2023/01/26/02/16/42/104812245_p0_custom1200.jpg', 'description': '', 'tags': ['ブルーアーカイブ', 'キサキ', 'ブルアカ', '撫で回したい尻', '股割り', '開脚', '竜華キサキ', 'はいてない', 'ブルーアーカイブ10000users入り'], 'userId': '40965358', 'userName': '당나커', 'width': 1759, 'height': 2681, 'pageCount': 1, 'isBookmarkable': True, 'bookmarkData': None, 'alt': '#ブルーアーカイブ キサキ - 당나커的插画', 'titleCaptionTranslation': {'workTitle': None, 'workCaption': None}, 'createDate': '2023-01-26T00:34:21+09:00', 'updateDate': '2023-01-26T02:16:42+09:00', 'isUnlisted': False, 'isMasked': False, 'aiType': 1, 'profileImageUrl': 'https://i.pximg.net/user-profile/img/2020/02/28/18/52/18/18009249_ce52bab483afb939c111b665c749f963_50.png'}]}, 'relatedTags': ['ブルーアーカイブ', 'ブルアカ', 'キサキ(ブルーアーカイブ)', 'BlueArchive', 'ロリ', 'うごイラ', '魅惑のふともも', 'AIイラスト', 'チャイナドレス', '乳首責め', 'ローター', 'キサキ', 'ツインテール', 'バイブ', '블루아카이브', '腋'], 'tagTranslation': {'ブルーアーカイブ': {'zh': '碧蓝档案'}, 'キサキ(ブルーアーカイブ)': {'zh': '妃咲（蔚蓝档案）'}, 'ロリ': {'zh': '萝莉'}, 'うごイラ': {'zh': '动图'}, '魅惑のふともも': {'zh': '魅惑的大腿'}, 'AIイラスト': {'zh': 'ai绘图'}, 'チャイナドレス': {'zh': '旗袍'}, '乳首責め': {'zh': '玩弄乳头'}, 'ローター': {'zh': '跳蛋'}, 'キサキ': {'zh': '妃咲'}, 'ツインテール': {'zh': '双马尾'}, 'バイブ': {'zh': '震动'}, '腋': {'zh': '腋下'}, '竜華キサキ': {'zh': '龙华妃咲'}}, 'zoneConfig': {'logo': {'url': 'https://pixon.ads-pixiv.net/show?zone_id=logo_side&format=js&s=1&up=0&a=21&ng=g&l=zh&uri=%2Fajax%2Fsearch%2Fillustrations%2F_PARAM_&ref=www.pixiv.net&K=7af411a160568&ab_test_digits_first=63&uab=1&yuid=FnRJY4g&num=65537877256'}, 'header': {'url': 'https://pixon.ads-pixiv.net/show?zone_id=header&format=js&s=1&up=0&a=21&ng=g&l=zh&uri=%2Fajax%2Fsearch%2Fillustrations%2F_PARAM_&ref=www.pixiv.net&K=7af411a160568&ab_test_digits_first=63&uab=1&yuid=FnRJY4g&num=65537877880'}, 'footer': {'url': 'https://pixon.ads-pixiv.net/show?zone_id=footer&format=js&s=1&up=0&a=21&ng=g&l=zh&uri=%2Fajax%2Fsearch%2Fillustrations%2F_PARAM_&ref=www.pixiv.net&K=7af411a160568&ab_test_digits_first=63&uab=1&yuid=FnRJY4g&num=65537877109'}, 'infeed': {'url': 'https://pixon.ads-pixiv.net/show?zone_id=illust_search_grid&format=js&s=1&up=0&a=21&ng=g&l=zh&uri=%2Fajax%2Fsearch%2Fillustrations%2F_PARAM_&ref=www.pixiv.net&K=7af411a160568&ab_test_digits_first=63&uab=1&yuid=FnRJY4g&num=65537877866'}}, 'extraData': {'meta': {'title': '#龙华妃咲のイラスト作品(投稿超过5000件） - pixiv', 'description': '#龙华妃咲のイラストや絵は5643件投稿されています。与#龙华妃咲一起被添加的标签主要还有#碧蓝档案、#妃咲（蔚蓝档案）、#萝莉、#动图、#魅惑的大腿、#ai绘图、#旗袍、#玩弄乳头、#跳蛋、#妃咲、#双马尾、#震动、#腋下等。', 'canonical': 'https://www.pixiv.net/tags/%E7%AB%9C%E8%8F%AF%E3%82%AD%E3%82%B5%E3%82%AD/illustrations', 'alternateLanguages': {'ja': 'https://www.pixiv.net/tags/%E7%AB%9C%E8%8F%AF%E3%82%AD%E3%82%B5%E3%82%AD/illustrations', 'en': 'https://www.pixiv.net/en/tags/%E7%AB%9C%E8%8F%AF%E3%82%AD%E3%82%B5%E3%82%AD/illustrations'}, 'descriptionHeader': '<a href=\"/tags/%E7%AB%9C%E8%8F%AF%E3%82%AD%E3%82%B5%E3%82%AD\">#龙华妃咲</a>のイラストや絵は5643件投稿されています。与<a href=\"/tags/%E7%AB%9C%E8%8F%AF%E3%82%AD%E3%82%B5%E3%82%AD\">#龙华妃咲</a>一起被添加的标签主要还有<a href=\"/tags/%E3%83%96%E3%83%AB%E3%83%BC%E3%82%A2%E3%83%BC%E3%82%AB%E3%82%A4%E3%83%96\">#碧蓝档案</a>、<a href=\"/tags/%E3%82%AD%E3%82%B5%E3%82%AD%28%E3%83%96%E3%83%AB%E3%83%BC%E3%82%A2%E3%83%BC%E3%82%AB%E3%82%A4%E3%83%96%29\">#妃咲（蔚蓝档案）</a>、<a href=\"/tags/%E3%83%AD%E3%83%AA\">#萝莉</a>、<a href=\"/tags/%E3%81%86%E3%81%94%E3%82%A4%E3%83%A9\">#动图</a>、<a href=\"/tags/%E9%AD%85%E6%83%91%E3%81%AE%E3%81%B5%E3%81%A8%E3%82%82%E3%82%82\">#魅惑的大腿</a>、<a href=\"/tags/AI%E3%82%A4%E3%83%A9%E3%82%B9%E3%83%88\">#ai绘图</a>、<a href=\"/tags/%E3%83%81%E3%83%A3%E3%82%A4%E3%83%8A%E3%83%89%E3%83%AC%E3%82%B9\">#旗袍</a>、<a href=\"/tags/%E4%B9%B3%E9%A6%96%E8%B2%AC%E3%82%81\">#玩弄乳头</a>、<a href=\"/tags/%E3%83%AD%E3%83%BC%E3%82%BF%E3%83%BC\">#跳蛋</a>、<a href=\"/tags/%E3%82%AD%E3%82%B5%E3%82%AD\">#妃咲</a>、<a href=\"/tags/%E3%83%84%E3%82%A4%E3%83%B3%E3%83%86%E3%83%BC%E3%83%AB\">#双马尾</a>、<a href=\"/tags/%E3%83%90%E3%82%A4%E3%83%96\">#震动</a>、<a href=\"/tags/%E8%85%8B\">#腋下</a>等。'}}}}\n",
      "60\n"
     ]
    }
   ],
   "source": [
    "from urllib.parse import quote\n",
    "\n",
    "# ...\n",
    "\n",
    "tag_name = \"竜華キサキ\"\n",
    "category = \"illust\"\n",
    "\n",
    "id_group = set()\n",
    "\n",
    "# Encode the tag_name before using it in the URL\n",
    "encoded_tag_name = quote(tag_name, safe='')\n",
    "\n",
    "id_group.update(fetch_tag_works(tag_name=encoded_tag_name, category=category, order=True))\n",
    "\n",
    "print(len(id_group))\n"
   ]
  },
  {
   "cell_type": "markdown",
   "metadata": {},
   "source": [
    "2.对爬取的图片id进行对应url的提取和集成"
   ]
  },
  {
   "cell_type": "code",
   "execution_count": 5,
   "metadata": {},
   "outputs": [
    {
     "name": "stdout",
     "output_type": "stream",
     "text": [
      "===== collector start =====\n"
     ]
    },
    {
     "name": "stderr",
     "output_type": "stream",
     "text": [
      "collecting urls:   2%|▏         | 1/60 [00:00<00:53,  1.10it/s]"
     ]
    },
    {
     "name": "stdout",
     "output_type": "stream",
     "text": [
      "url: https://www.pixiv.net/ajax/illust/113130191/pages?lang=zh , resp_code==200, collected Over !\n"
     ]
    },
    {
     "name": "stderr",
     "output_type": "stream",
     "text": [
      "collecting urls:   3%|▎         | 2/60 [00:01<00:32,  1.79it/s]"
     ]
    },
    {
     "name": "stdout",
     "output_type": "stream",
     "text": [
      "url: https://www.pixiv.net/ajax/illust/113074184/pages?lang=zh , resp_code==200, collected Over !\n"
     ]
    },
    {
     "name": "stderr",
     "output_type": "stream",
     "text": [
      "collecting urls:   5%|▌         | 3/60 [00:01<00:24,  2.34it/s]"
     ]
    },
    {
     "name": "stdout",
     "output_type": "stream",
     "text": [
      "url: https://www.pixiv.net/ajax/illust/113049907/pages?lang=zh , resp_code==200, collected Over !\n"
     ]
    },
    {
     "name": "stderr",
     "output_type": "stream",
     "text": [
      "collecting urls:   7%|▋         | 4/60 [00:01<00:22,  2.51it/s]"
     ]
    },
    {
     "name": "stdout",
     "output_type": "stream",
     "text": [
      "url: https://www.pixiv.net/ajax/illust/113173282/pages?lang=zh , resp_code==200, collected Over !\n"
     ]
    },
    {
     "name": "stderr",
     "output_type": "stream",
     "text": [
      "collecting urls:   8%|▊         | 5/60 [00:02<00:19,  2.82it/s]"
     ]
    },
    {
     "name": "stdout",
     "output_type": "stream",
     "text": [
      "url: https://www.pixiv.net/ajax/illust/113114599/pages?lang=zh , resp_code==200, collected Over !\n"
     ]
    },
    {
     "name": "stderr",
     "output_type": "stream",
     "text": [
      "collecting urls:  10%|█         | 6/60 [00:02<00:18,  2.96it/s]"
     ]
    },
    {
     "name": "stdout",
     "output_type": "stream",
     "text": [
      "url: https://www.pixiv.net/ajax/illust/113103165/pages?lang=zh , resp_code==200, collected Over !\n"
     ]
    },
    {
     "name": "stderr",
     "output_type": "stream",
     "text": [
      "collecting urls:  12%|█▏        | 7/60 [00:02<00:17,  3.03it/s]"
     ]
    },
    {
     "name": "stdout",
     "output_type": "stream",
     "text": [
      "url: https://www.pixiv.net/ajax/illust/113096568/pages?lang=zh , resp_code==200, collected Over !\n"
     ]
    },
    {
     "name": "stderr",
     "output_type": "stream",
     "text": [
      "collecting urls:  13%|█▎        | 8/60 [00:03<00:16,  3.15it/s]"
     ]
    },
    {
     "name": "stdout",
     "output_type": "stream",
     "text": [
      "url: https://www.pixiv.net/ajax/illust/113046148/pages?lang=zh , resp_code==200, collected Over !\n"
     ]
    },
    {
     "name": "stderr",
     "output_type": "stream",
     "text": [
      "collecting urls:  15%|█▌        | 9/60 [00:03<00:15,  3.26it/s]"
     ]
    },
    {
     "name": "stdout",
     "output_type": "stream",
     "text": [
      "url: https://www.pixiv.net/ajax/illust/113176748/pages?lang=zh , resp_code==200, collected Over !\n"
     ]
    },
    {
     "name": "stderr",
     "output_type": "stream",
     "text": [
      "collecting urls:  17%|█▋        | 10/60 [00:03<00:15,  3.26it/s]"
     ]
    },
    {
     "name": "stdout",
     "output_type": "stream",
     "text": [
      "url: https://www.pixiv.net/ajax/illust/113091216/pages?lang=zh , resp_code==200, collected Over !\n"
     ]
    },
    {
     "name": "stderr",
     "output_type": "stream",
     "text": [
      "collecting urls:  18%|█▊        | 11/60 [00:03<00:14,  3.29it/s]"
     ]
    },
    {
     "name": "stdout",
     "output_type": "stream",
     "text": [
      "url: https://www.pixiv.net/ajax/illust/113058345/pages?lang=zh , resp_code==200, collected Over !\n"
     ]
    },
    {
     "name": "stderr",
     "output_type": "stream",
     "text": [
      "collecting urls:  20%|██        | 12/60 [00:05<00:30,  1.58it/s]"
     ]
    },
    {
     "name": "stdout",
     "output_type": "stream",
     "text": [
      "url: https://www.pixiv.net/ajax/illust/113143574/pages?lang=zh , resp_code==200, collected Over !\n"
     ]
    },
    {
     "name": "stderr",
     "output_type": "stream",
     "text": [
      "collecting urls:  22%|██▏       | 13/60 [00:05<00:24,  1.91it/s]"
     ]
    },
    {
     "name": "stdout",
     "output_type": "stream",
     "text": [
      "url: https://www.pixiv.net/ajax/illust/113165867/pages?lang=zh , resp_code==200, collected Over !\n"
     ]
    },
    {
     "name": "stderr",
     "output_type": "stream",
     "text": [
      "collecting urls:  23%|██▎       | 14/60 [00:06<00:26,  1.77it/s]"
     ]
    },
    {
     "name": "stdout",
     "output_type": "stream",
     "text": [
      "url: https://www.pixiv.net/ajax/illust/113027703/pages?lang=zh , resp_code==200, collected Over !\n"
     ]
    },
    {
     "name": "stderr",
     "output_type": "stream",
     "text": [
      "collecting urls:  25%|██▌       | 15/60 [00:06<00:21,  2.08it/s]"
     ]
    },
    {
     "name": "stdout",
     "output_type": "stream",
     "text": [
      "url: https://www.pixiv.net/ajax/illust/113152091/pages?lang=zh , resp_code==200, collected Over !\n"
     ]
    },
    {
     "name": "stderr",
     "output_type": "stream",
     "text": [
      "collecting urls:  27%|██▋       | 16/60 [00:06<00:20,  2.11it/s]"
     ]
    },
    {
     "name": "stdout",
     "output_type": "stream",
     "text": [
      "url: https://www.pixiv.net/ajax/illust/113014249/pages?lang=zh , resp_code==200, collected Over !\n"
     ]
    },
    {
     "name": "stderr",
     "output_type": "stream",
     "text": [
      "collecting urls:  28%|██▊       | 17/60 [00:08<00:32,  1.34it/s]"
     ]
    },
    {
     "name": "stdout",
     "output_type": "stream",
     "text": [
      "url: https://www.pixiv.net/ajax/illust/113027908/pages?lang=zh , resp_code==200, collected Over !\n"
     ]
    },
    {
     "name": "stderr",
     "output_type": "stream",
     "text": [
      "collecting urls:  30%|███       | 18/60 [00:08<00:25,  1.64it/s]"
     ]
    },
    {
     "name": "stdout",
     "output_type": "stream",
     "text": [
      "url: https://www.pixiv.net/ajax/illust/112997285/pages?lang=zh , resp_code==200, collected Over !\n"
     ]
    },
    {
     "name": "stderr",
     "output_type": "stream",
     "text": [
      "collecting urls:  32%|███▏      | 19/60 [00:08<00:21,  1.93it/s]"
     ]
    },
    {
     "name": "stdout",
     "output_type": "stream",
     "text": [
      "url: https://www.pixiv.net/ajax/illust/112983436/pages?lang=zh , resp_code==200, collected Over !\n"
     ]
    },
    {
     "name": "stderr",
     "output_type": "stream",
     "text": [
      "collecting urls:  33%|███▎      | 20/60 [00:09<00:17,  2.28it/s]"
     ]
    },
    {
     "name": "stdout",
     "output_type": "stream",
     "text": [
      "url: https://www.pixiv.net/ajax/illust/113022352/pages?lang=zh , resp_code==200, collected Over !\n"
     ]
    },
    {
     "name": "stderr",
     "output_type": "stream",
     "text": [
      "collecting urls:  35%|███▌      | 21/60 [00:09<00:16,  2.41it/s]"
     ]
    },
    {
     "name": "stdout",
     "output_type": "stream",
     "text": [
      "url: https://www.pixiv.net/ajax/illust/112999732/pages?lang=zh , resp_code==200, collected Over !\n"
     ]
    },
    {
     "name": "stderr",
     "output_type": "stream",
     "text": [
      "collecting urls:  37%|███▋      | 22/60 [00:09<00:14,  2.65it/s]"
     ]
    },
    {
     "name": "stdout",
     "output_type": "stream",
     "text": [
      "url: https://www.pixiv.net/ajax/illust/113071539/pages?lang=zh , resp_code==200, collected Over !\n"
     ]
    },
    {
     "name": "stderr",
     "output_type": "stream",
     "text": [
      "collecting urls:  38%|███▊      | 23/60 [00:10<00:12,  2.90it/s]"
     ]
    },
    {
     "name": "stdout",
     "output_type": "stream",
     "text": [
      "url: https://www.pixiv.net/ajax/illust/112985832/pages?lang=zh , resp_code==200, collected Over !\n"
     ]
    },
    {
     "name": "stderr",
     "output_type": "stream",
     "text": [
      "collecting urls:  40%|████      | 24/60 [00:10<00:11,  3.11it/s]"
     ]
    },
    {
     "name": "stdout",
     "output_type": "stream",
     "text": [
      "url: https://www.pixiv.net/ajax/illust/113073374/pages?lang=zh , resp_code==200, collected Over !\n"
     ]
    },
    {
     "name": "stderr",
     "output_type": "stream",
     "text": [
      "collecting urls:  42%|████▏     | 25/60 [00:10<00:11,  3.17it/s]"
     ]
    },
    {
     "name": "stdout",
     "output_type": "stream",
     "text": [
      "url: https://www.pixiv.net/ajax/illust/113024108/pages?lang=zh , resp_code==200, collected Over !\n"
     ]
    },
    {
     "name": "stderr",
     "output_type": "stream",
     "text": [
      "collecting urls:  43%|████▎     | 26/60 [00:10<00:10,  3.24it/s]"
     ]
    },
    {
     "name": "stdout",
     "output_type": "stream",
     "text": [
      "url: https://www.pixiv.net/ajax/illust/113127215/pages?lang=zh , resp_code==200, collected Over !\n"
     ]
    },
    {
     "name": "stderr",
     "output_type": "stream",
     "text": [
      "collecting urls:  45%|████▌     | 27/60 [00:11<00:11,  2.91it/s]"
     ]
    },
    {
     "name": "stdout",
     "output_type": "stream",
     "text": [
      "url: https://www.pixiv.net/ajax/illust/113121760/pages?lang=zh , resp_code==200, collected Over !\n"
     ]
    },
    {
     "name": "stderr",
     "output_type": "stream",
     "text": [
      "collecting urls:  47%|████▋     | 28/60 [00:11<00:10,  3.04it/s]"
     ]
    },
    {
     "name": "stdout",
     "output_type": "stream",
     "text": [
      "url: https://www.pixiv.net/ajax/illust/113109489/pages?lang=zh , resp_code==200, collected Over !\n"
     ]
    },
    {
     "name": "stderr",
     "output_type": "stream",
     "text": [
      "collecting urls:  48%|████▊     | 29/60 [00:11<00:09,  3.19it/s]"
     ]
    },
    {
     "name": "stdout",
     "output_type": "stream",
     "text": [
      "url: https://www.pixiv.net/ajax/illust/113161262/pages?lang=zh , resp_code==200, collected Over !\n"
     ]
    },
    {
     "name": "stderr",
     "output_type": "stream",
     "text": [
      "collecting urls:  50%|█████     | 30/60 [00:12<00:09,  3.28it/s]"
     ]
    },
    {
     "name": "stdout",
     "output_type": "stream",
     "text": [
      "url: https://www.pixiv.net/ajax/illust/113073391/pages?lang=zh , resp_code==200, collected Over !\n"
     ]
    },
    {
     "name": "stderr",
     "output_type": "stream",
     "text": [
      "collecting urls:  52%|█████▏    | 31/60 [00:12<00:08,  3.23it/s]"
     ]
    },
    {
     "name": "stdout",
     "output_type": "stream",
     "text": [
      "url: https://www.pixiv.net/ajax/illust/112999071/pages?lang=zh , resp_code==200, collected Over !\n"
     ]
    },
    {
     "name": "stderr",
     "output_type": "stream",
     "text": [
      "collecting urls:  53%|█████▎    | 32/60 [00:12<00:08,  3.22it/s]"
     ]
    },
    {
     "name": "stdout",
     "output_type": "stream",
     "text": [
      "url: https://www.pixiv.net/ajax/illust/113062255/pages?lang=zh , resp_code==200, collected Over !\n"
     ]
    },
    {
     "name": "stderr",
     "output_type": "stream",
     "text": [
      "collecting urls:  55%|█████▌    | 33/60 [00:14<00:16,  1.63it/s]"
     ]
    },
    {
     "name": "stdout",
     "output_type": "stream",
     "text": [
      "url: https://www.pixiv.net/ajax/illust/113166447/pages?lang=zh , resp_code==200, collected Over !\n"
     ]
    },
    {
     "name": "stderr",
     "output_type": "stream",
     "text": [
      "collecting urls:  57%|█████▋    | 34/60 [00:14<00:13,  1.93it/s]"
     ]
    },
    {
     "name": "stdout",
     "output_type": "stream",
     "text": [
      "url: https://www.pixiv.net/ajax/illust/113140884/pages?lang=zh , resp_code==200, collected Over !\n"
     ]
    },
    {
     "name": "stderr",
     "output_type": "stream",
     "text": [
      "collecting urls:  58%|█████▊    | 35/60 [00:14<00:12,  2.07it/s]"
     ]
    },
    {
     "name": "stdout",
     "output_type": "stream",
     "text": [
      "url: https://www.pixiv.net/ajax/illust/113083893/pages?lang=zh , resp_code==200, collected Over !\n"
     ]
    },
    {
     "name": "stderr",
     "output_type": "stream",
     "text": [
      "collecting urls:  60%|██████    | 36/60 [00:15<00:12,  1.96it/s]"
     ]
    },
    {
     "name": "stdout",
     "output_type": "stream",
     "text": [
      "url: https://www.pixiv.net/ajax/illust/113175250/pages?lang=zh , resp_code==200, collected Over !\n"
     ]
    },
    {
     "name": "stderr",
     "output_type": "stream",
     "text": [
      "collecting urls:  62%|██████▏   | 37/60 [00:15<00:10,  2.17it/s]"
     ]
    },
    {
     "name": "stdout",
     "output_type": "stream",
     "text": [
      "url: https://www.pixiv.net/ajax/illust/113177269/pages?lang=zh , resp_code==200, collected Over !\n"
     ]
    },
    {
     "name": "stderr",
     "output_type": "stream",
     "text": [
      "collecting urls:  63%|██████▎   | 38/60 [00:16<00:08,  2.51it/s]"
     ]
    },
    {
     "name": "stdout",
     "output_type": "stream",
     "text": [
      "url: https://www.pixiv.net/ajax/illust/113042650/pages?lang=zh , resp_code==200, collected Over !\n"
     ]
    },
    {
     "name": "stderr",
     "output_type": "stream",
     "text": [
      "collecting urls:  65%|██████▌   | 39/60 [00:17<00:14,  1.48it/s]"
     ]
    },
    {
     "name": "stdout",
     "output_type": "stream",
     "text": [
      "url: https://www.pixiv.net/ajax/illust/113016667/pages?lang=zh , resp_code==200, collected Over !\n"
     ]
    },
    {
     "name": "stderr",
     "output_type": "stream",
     "text": [
      "collecting urls:  67%|██████▋   | 40/60 [00:17<00:11,  1.76it/s]"
     ]
    },
    {
     "name": "stdout",
     "output_type": "stream",
     "text": [
      "url: https://www.pixiv.net/ajax/illust/113141387/pages?lang=zh , resp_code==200, collected Over !\n"
     ]
    },
    {
     "name": "stderr",
     "output_type": "stream",
     "text": [
      "collecting urls:  68%|██████▊   | 41/60 [00:18<00:09,  2.08it/s]"
     ]
    },
    {
     "name": "stdout",
     "output_type": "stream",
     "text": [
      "url: https://www.pixiv.net/ajax/illust/113144461/pages?lang=zh , resp_code==200, collected Over !\n"
     ]
    },
    {
     "name": "stderr",
     "output_type": "stream",
     "text": [
      "collecting urls:  70%|███████   | 42/60 [00:18<00:07,  2.37it/s]"
     ]
    },
    {
     "name": "stdout",
     "output_type": "stream",
     "text": [
      "url: https://www.pixiv.net/ajax/illust/113155035/pages?lang=zh , resp_code==200, collected Over !\n"
     ]
    },
    {
     "name": "stderr",
     "output_type": "stream",
     "text": [
      "collecting urls:  72%|███████▏  | 43/60 [00:18<00:06,  2.67it/s]"
     ]
    },
    {
     "name": "stdout",
     "output_type": "stream",
     "text": [
      "url: https://www.pixiv.net/ajax/illust/113131626/pages?lang=zh , resp_code==200, collected Over !\n"
     ]
    },
    {
     "name": "stderr",
     "output_type": "stream",
     "text": [
      "collecting urls:  73%|███████▎  | 44/60 [00:18<00:05,  2.83it/s]"
     ]
    },
    {
     "name": "stdout",
     "output_type": "stream",
     "text": [
      "url: https://www.pixiv.net/ajax/illust/113067142/pages?lang=zh , resp_code==200, collected Over !\n"
     ]
    },
    {
     "name": "stderr",
     "output_type": "stream",
     "text": [
      "collecting urls:  75%|███████▌  | 45/60 [00:19<00:04,  3.03it/s]"
     ]
    },
    {
     "name": "stdout",
     "output_type": "stream",
     "text": [
      "url: https://www.pixiv.net/ajax/illust/112990336/pages?lang=zh , resp_code==200, collected Over !\n"
     ]
    },
    {
     "name": "stderr",
     "output_type": "stream",
     "text": [
      "collecting urls:  77%|███████▋  | 46/60 [00:19<00:04,  3.00it/s]"
     ]
    },
    {
     "name": "stdout",
     "output_type": "stream",
     "text": [
      "url: https://www.pixiv.net/ajax/illust/113082858/pages?lang=zh , resp_code==200, collected Over !\n"
     ]
    },
    {
     "name": "stderr",
     "output_type": "stream",
     "text": [
      "collecting urls:  78%|███████▊  | 47/60 [00:19<00:04,  3.21it/s]"
     ]
    },
    {
     "name": "stdout",
     "output_type": "stream",
     "text": [
      "url: https://www.pixiv.net/ajax/illust/113171228/pages?lang=zh , resp_code==200, collected Over !\n"
     ]
    },
    {
     "name": "stderr",
     "output_type": "stream",
     "text": [
      "collecting urls:  80%|████████  | 48/60 [00:19<00:03,  3.45it/s]"
     ]
    },
    {
     "name": "stdout",
     "output_type": "stream",
     "text": [
      "url: https://www.pixiv.net/ajax/illust/113116462/pages?lang=zh , resp_code==200, collected Over !\n"
     ]
    },
    {
     "name": "stderr",
     "output_type": "stream",
     "text": [
      "collecting urls:  82%|████████▏ | 49/60 [00:20<00:03,  3.41it/s]"
     ]
    },
    {
     "name": "stdout",
     "output_type": "stream",
     "text": [
      "url: https://www.pixiv.net/ajax/illust/113089880/pages?lang=zh , resp_code==200, collected Over !\n"
     ]
    },
    {
     "name": "stderr",
     "output_type": "stream",
     "text": [
      "collecting urls:  83%|████████▎ | 50/60 [00:20<00:02,  3.49it/s]"
     ]
    },
    {
     "name": "stdout",
     "output_type": "stream",
     "text": [
      "url: https://www.pixiv.net/ajax/illust/113103032/pages?lang=zh , resp_code==200, collected Over !\n"
     ]
    },
    {
     "name": "stderr",
     "output_type": "stream",
     "text": [
      "collecting urls:  85%|████████▌ | 51/60 [00:20<00:02,  3.40it/s]"
     ]
    },
    {
     "name": "stdout",
     "output_type": "stream",
     "text": [
      "url: https://www.pixiv.net/ajax/illust/113039828/pages?lang=zh , resp_code==200, collected Over !\n"
     ]
    },
    {
     "name": "stderr",
     "output_type": "stream",
     "text": [
      "collecting urls:  87%|████████▋ | 52/60 [00:21<00:02,  3.38it/s]"
     ]
    },
    {
     "name": "stdout",
     "output_type": "stream",
     "text": [
      "url: https://www.pixiv.net/ajax/illust/113140943/pages?lang=zh , resp_code==200, collected Over !\n"
     ]
    },
    {
     "name": "stderr",
     "output_type": "stream",
     "text": [
      "collecting urls:  88%|████████▊ | 53/60 [00:21<00:02,  3.40it/s]"
     ]
    },
    {
     "name": "stdout",
     "output_type": "stream",
     "text": [
      "url: https://www.pixiv.net/ajax/illust/112967486/pages?lang=zh , resp_code==200, collected Over !\n"
     ]
    },
    {
     "name": "stderr",
     "output_type": "stream",
     "text": [
      "collecting urls:  90%|█████████ | 54/60 [00:21<00:01,  3.31it/s]"
     ]
    },
    {
     "name": "stdout",
     "output_type": "stream",
     "text": [
      "url: https://www.pixiv.net/ajax/illust/112965172/pages?lang=zh , resp_code==200, collected Over !\n"
     ]
    },
    {
     "name": "stderr",
     "output_type": "stream",
     "text": [
      "collecting urls:  92%|█████████▏| 55/60 [00:22<00:01,  3.24it/s]"
     ]
    },
    {
     "name": "stdout",
     "output_type": "stream",
     "text": [
      "url: https://www.pixiv.net/ajax/illust/113091237/pages?lang=zh , resp_code==200, collected Over !\n"
     ]
    },
    {
     "name": "stderr",
     "output_type": "stream",
     "text": [
      "collecting urls:  93%|█████████▎| 56/60 [00:23<00:02,  1.56it/s]"
     ]
    },
    {
     "name": "stdout",
     "output_type": "stream",
     "text": [
      "url: https://www.pixiv.net/ajax/illust/113054418/pages?lang=zh , resp_code==200, collected Over !\n"
     ]
    },
    {
     "name": "stderr",
     "output_type": "stream",
     "text": [
      "collecting urls:  95%|█████████▌| 57/60 [00:23<00:01,  1.86it/s]"
     ]
    },
    {
     "name": "stdout",
     "output_type": "stream",
     "text": [
      "url: https://www.pixiv.net/ajax/illust/113056211/pages?lang=zh , resp_code==200, collected Over !\n"
     ]
    },
    {
     "name": "stderr",
     "output_type": "stream",
     "text": [
      "collecting urls:  97%|█████████▋| 58/60 [00:27<00:02,  1.46s/it]"
     ]
    },
    {
     "name": "stdout",
     "output_type": "stream",
     "text": [
      "url: https://www.pixiv.net/ajax/illust/113159949/pages?lang=zh , resp_code==200, collected Over !\n"
     ]
    },
    {
     "name": "stderr",
     "output_type": "stream",
     "text": [
      "collecting urls:  98%|█████████▊| 59/60 [00:27<00:01,  1.12s/it]"
     ]
    },
    {
     "name": "stdout",
     "output_type": "stream",
     "text": [
      "url: https://www.pixiv.net/ajax/illust/113021462/pages?lang=zh , resp_code==200, collected Over !\n"
     ]
    },
    {
     "name": "stderr",
     "output_type": "stream",
     "text": [
      "collecting urls: 100%|██████████| 60/60 [00:28<00:00,  2.14it/s]"
     ]
    },
    {
     "name": "stdout",
     "output_type": "stream",
     "text": [
      "url: https://www.pixiv.net/ajax/illust/113171326/pages?lang=zh , resp_code==200, collected Over !\n"
     ]
    },
    {
     "name": "stderr",
     "output_type": "stream",
     "text": [
      "\n"
     ]
    }
   ],
   "source": [
    "print(\"===== collector start =====\")\n",
    "\n",
    "downloader = Downloader(capacity=1024)\n",
    "\n",
    "with tqdm(total=len(id_group), desc=\"collecting urls\") as pbar:\n",
    "    urls = [f\"https://www.pixiv.net/ajax/illust/{illust_id}/pages?lang=zh\"\n",
    "            for illust_id in id_group]\n",
    "    additional_headers = [\n",
    "        {\n",
    "            \"Referer\": f\"https://www.pixiv.net/artworks/{illust_id}\",\n",
    "            \"x-user-id\": \"5640xxxx\",\n",
    "            \"COOKIE\": \"first_visit_datetime_pc=2022-03-23+09%3A05%3A13; p_ab_id=2; p_ab_id_2=6; p_ab_d_id=496637752; yuid_b=FnRJY4g; _fbp=fb.1.1647993926346.868094683; privacy_policy_notification=0; a_type=0; b_type=1; _im_vid=01FYT7DA0M1MG08GJSVD70BA7M; adr_id=lTzPqgTf6xmkSZZddeH8LhLHDKfx8OJsbbCpSa4F8n6kESK0; login_ever=yes; _td=e09e84b3-b5d0-4284-8cbc-fe6a9605154a; _ga_692MXKN5XF=GS1.1.1665973029.1.0.1665973029.0.0.0; cto_bundle=MeOqNl9aSyUyRkklMkJFcFJ5WCUyQlNzZkozQTFYSVpESHZCRiUyRm83QWZ3aTdmNEVIbG9FRWkxUUlIbDl0eiUyQnZlRmU3SWo0d1VLMGFFMks1M0dXWnA4OFBhMkNhcjJGQ3Rjakl3JTJGc3lwcU5ZV1NiY0RMbSUyQmQ0aEVZY0J4TnM0RiUyRnBEJTJGcVJPeSUyQkwyWTAwUmFvNmQyV3R5QlRnN2RXSFFYUSUzRCUzRA; _im_uid.3929=i.HNTUXPphRC6Tos5lngHwCA; c_type=21; privacy_policy_agreement=6; __gads=ID=e032ebe84fc5b362:T=1696335939:RT=1696335939:S=ALNI_MYk8hTGJ0JVZ08XHPJ1chcTiPcYZQ; __gpi=UID=00000c56c30e862e:T=1696335939:RT=1696335939:S=ALNI_MZ0J6EZLNM_IHlenurDDcoh0qn7tw; _ga_ZQEKG3EF2C=GS1.1.1696335939.1.0.1696335941.58.0.0; __utmv=235335808.|2=login%20ever=yes=1^3=plan=normal=1^5=gender=male=1^6=user_id=56405112=1^9=p_ab_id=2=1^10=p_ab_id_2=6=1^11=lang=zh=1; _gcl_au=1.1.2068989696.1697797468; PHPSESSID=56405112_5F6NwBp0ibUH6FuPbdq8P8dKXRrJiakY; device_token=d9e66683eee3c683671ce6dd45961915; _ga_MZ1NL4PHH0=GS1.1.1698243034.3.1.1698243060.0.0.0; __utmz=235335808.1698489562.713.11.utmcsr=google|utmccn=(organic)|utmcmd=organic|utmctr=(not%20provided); QSI_S_ZN_5hF4My7Ad6VNNAi=v:0:0; _gid=GA1.2.73441192.1699788507; __utma=235335808.740189076.1647993924.1699936938.1699944133.746; _ga_ZPL8LPMDK3=GS1.1.1699945764.19.1.1699945776.0.0.0; __cf_bm=o75a_dxEYYH.70c_3Bc9l9kcnQ21g9q8qLYL8Cwim7E-1699947948-0-Ado847VODjuEbsuWh1d73rDUAUzc7NV4HSqPNkf4uDbtOq43lk4n0Iadho7XiG9BJqfShmOiyQ0SBKCLFsD9oftUNIV83XaDN3sMnjCMy9C9; __utmc=235335808; __utmt=1; cf_clearance=tKGeitoxfXwmrHstKob0LLLWi8vTys7CS5e3PwnggmI-1699948192-0-1-631cd866.945ac2d7.341d8786-0.2.1699948192; __utmb=235335808.54.10.1699944133; _ga_75BBYNYN9J=GS1.1.1699944133.496.1.1699948282.0.0.0; _ga=GA1.2.740189076.1647993924\"\n",
    "        }\n",
    "        for illust_id in id_group]\n",
    "\n",
    "    for url, add_headers in zip(urls, additional_headers):\n",
    "\n",
    "        headers = {\n",
    "            \"User-Agent\": \"Mozilla/5.0 (Windows NT 10.0; Win64; x64) AppleWebKit/537.36 (KHTML, like Gecko) Chrome/101.0.4951.54 Safari/537.36\",\n",
    "        }\n",
    "\n",
    "        headers.update(add_headers)\n",
    "\n",
    "        proxies = {\n",
    "            \"https\": \"127.0.0.1:7890\"\n",
    "        }\n",
    "\n",
    "        response = requests.get(\n",
    "                        url, headers=headers,\n",
    "                        proxies=proxies,\n",
    "                        timeout=4)\n",
    "\n",
    "        # 获取 JSON 内容\n",
    "        json_content = response.json()\n",
    "\n",
    "        # 指定保存路径和文件名\n",
    "        save_path = \"E://vscode_clustter//code//github//Animate-Image-Bed//utils//crawler//test//jsons//re.json\"\n",
    "\n",
    "        # 将 JSON 内容保存到文件\n",
    "        with open(save_path, \"w\", encoding=\"utf-8\") as json_file:\n",
    "            json.dump(json_content, json_file, ensure_ascii=False, indent=4)\n",
    "\n",
    "        if response.status_code == 200:\n",
    "            print(f\"url: {url} , resp_code==200, collected Over !\" )\n",
    "            # 因为一个作品可能有多个img ，所以要进行归一化\n",
    "            collected_urls = set()\n",
    "            for url in response.json()[\"body\"]:\n",
    "                collected_urls.add(url[\"urls\"][\"original\"])\n",
    "        \n",
    "        if collected_urls is not None:\n",
    "            downloader.add(collected_urls)\n",
    "        pbar.update()"
   ]
  },
  {
   "cell_type": "markdown",
   "metadata": {},
   "source": [
    "> - ### Download Images"
   ]
  },
  {
   "cell_type": "code",
   "execution_count": 6,
   "metadata": {},
   "outputs": [
    {
     "name": "stdout",
     "output_type": "stream",
     "text": [
      "===== download start =====\n",
      "[INFO]: ===== downloader start =====\n"
     ]
    },
    {
     "name": "stderr",
     "output_type": "stream",
     "text": [
      "downloading / flow 306.21MB: 100%|██████████| 110/110 [00:29<00:00,  3.67it/s]"
     ]
    },
    {
     "name": "stdout",
     "output_type": "stream",
     "text": [
      "[INFO]: ===== downloader complete =====\n"
     ]
    },
    {
     "name": "stderr",
     "output_type": "stream",
     "text": [
      "\n"
     ]
    },
    {
     "data": {
      "text/plain": [
       "306.20826625823975"
      ]
     },
     "execution_count": 6,
     "metadata": {},
     "output_type": "execute_result"
    }
   ],
   "source": [
    "print(\"===== download start =====\")\n",
    "downloader.download()"
   ]
  }
 ],
 "metadata": {
  "kernelspec": {
   "display_name": "base",
   "language": "python",
   "name": "python3"
  },
  "language_info": {
   "codemirror_mode": {
    "name": "ipython",
    "version": 3
   },
   "file_extension": ".py",
   "mimetype": "text/x-python",
   "name": "python",
   "nbconvert_exporter": "python",
   "pygments_lexer": "ipython3",
   "version": "3.9.13"
  }
 },
 "nbformat": 4,
 "nbformat_minor": 2
}
