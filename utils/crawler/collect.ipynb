{
 "cells": [
  {
   "cell_type": "markdown",
   "metadata": {},
   "source": [
    "# Pixiv Craw"
   ]
  },
  {
   "cell_type": "markdown",
   "metadata": {},
   "source": [
    "> - ### import repos"
   ]
  },
  {
   "cell_type": "code",
   "execution_count": 2,
   "metadata": {},
   "outputs": [],
   "source": [
    "import requests\n",
    "import json\n",
    "from tqdm import tqdm\n",
    "import sys\n",
    "import os\n",
    "from pixiv_crawler.downloader.downloader import Downloader"
   ]
  },
  {
   "cell_type": "markdown",
   "metadata": {},
   "source": [
    "> - ### 按照artist的id来craw"
   ]
  },
  {
   "cell_type": "code",
   "execution_count": 4,
   "metadata": {},
   "outputs": [],
   "source": [
    "def fetch_artist_works(artist_id, category):\n",
    "    if category not in [\"illusts\", \"manga\"]:\n",
    "        raise ValueError(\"Invalid category. Use 'illustrations' or 'manga'.\")\n",
    "\n",
    "    url = f\"https://www.pixiv.net/ajax/user/{artist_id}/profile/all?lang=zh\"\n",
    "\n",
    "    additional_headers = {\n",
    "        \"x-user-id\": \"56405112\",\n",
    "        \"COOKIE\": \"first_visit_datetime_pc=2022-03-23+09%3A05%3A13; p_ab_id=2; p_ab_id_2=6; p_ab_d_id=496637752; yuid_b=FnRJY4g; _fbp=fb.1.1647993926346.868094683; privacy_policy_notification=0; a_type=0; b_type=1; _im_vid=01FYT7DA0M1MG08GJSVD70BA7M; adr_id=lTzPqgTf6xmkSZZddeH8LhLHDKfx8OJsbbCpSa4F8n6kESK0; login_ever=yes; _td=e09e84b3-b5d0-4284-8cbc-fe6a9605154a; _ga_692MXKN5XF=GS1.1.1665973029.1.0.1665973029.0.0.0; cto_bundle=MeOqNl9aSyUyRkklMkJFcFJ5WCUyQlNzZkozQTFYSVpESHZCRiUyRm83QWZ3aTdmNEVIbG9FRWkxUUlIbDl0eiUyQnZlRmU3SWo0d1VLMGFFMks1M0dXWnA4OFBhMkNhcjJGQ3Rjakl3JTJGc3lwcU5ZV1NiY0RMbSUyQmQ0aEVZY0J4TnM0RiUyRnBEJTJGcVJPeSUyQkwyWTAwUmFvNmQyV3R5QlRnN2RXSFFYUSUzRCUzRA; _im_uid.3929=i.HNTUXPphRC6Tos5lngHwCA; c_type=21; privacy_policy_agreement=6; __gads=ID=e032ebe84fc5b362:T=1696335939:RT=1696335939:S=ALNI_MYk8hTGJ0JVZ08XHPJ1chcTiPcYZQ; __gpi=UID=00000c56c30e862e:T=1696335939:RT=1696335939:S=ALNI_MZ0J6EZLNM_IHlenurDDcoh0qn7tw; _ga_ZQEKG3EF2C=GS1.1.1696335939.1.0.1696335941.58.0.0; __utmv=235335808.|2=login%20ever=yes=1^3=plan=normal=1^5=gender=male=1^6=user_id=56405112=1^9=p_ab_id=2=1^10=p_ab_id_2=6=1^11=lang=zh=1; _gcl_au=1.1.2068989696.1697797468; PHPSESSID=56405112_5F6NwBp0ibUH6FuPbdq8P8dKXRrJiakY; device_token=d9e66683eee3c683671ce6dd45961915; _ga_MZ1NL4PHH0=GS1.1.1698243034.3.1.1698243060.0.0.0; __utmz=235335808.1698489562.713.11.utmcsr=google|utmccn=(organic)|utmcmd=organic|utmctr=(not%20provided); QSI_S_ZN_5hF4My7Ad6VNNAi=v:0:0; _gid=GA1.2.73441192.1699788507; _ga_ZPL8LPMDK3=GS1.1.1699930329.18.1.1699930357.0.0.0; __cf_bm=X67SFTFNe9KvEzK6AxS96ftfSVWEqcIgua.4.3EcMVc-1699935025-0-AfkUhf87pN2+siqG5r1YvGpphK/bajDCL09AvrYlnYhvxsux9sdfZQIN8W3Ha3ztxG0ErV0mnsKzNjCErKsxohNNrRGurEMD/KweXvYGAHlI; __utma=235335808.740189076.1647993924.1699930321.1699935028.744; __utmc=235335808; __utmt=1; cf_clearance=SJHsrjUq5DYhRK8AO2UWSsB.5pZbPWf68VmswfYjLVA-1699935773-0-1-631cd866.8b0b9526.341d8786-0.2.1699935773; _ga=GA1.2.740189076.1647993924; __utmb=235335808.16.10.1699935028; _ga_75BBYNYN9J=GS1.1.1699935028.495.1.1699936337.0.0.0\"\n",
    "    }\n",
    "\n",
    "    if category == \"illusts\":\n",
    "        additional_headers[\"Referer\"] = f\"https://www.pixiv.net/users/{artist_id}/illustrations\"\n",
    "    elif category == \"manga\":\n",
    "        additional_headers[\"Referer\"] = f\"https://www.pixiv.net/users/{artist_id}/manga\"\n",
    "\n",
    "    headers = {\n",
    "        \"User-Agent\": \"Mozilla/5.0 (Windows NT 10.0; Win64; x64) AppleWebKit/537.36 (KHTML, like Gecko) Chrome/101.0.4951.54 Safari/537.36\",\n",
    "    }\n",
    "\n",
    "    headers.update(additional_headers)\n",
    "\n",
    "    proxies = {\n",
    "        \"https\": \"127.0.0.1:7890\"\n",
    "    }\n",
    "\n",
    "    response = requests.get(url, headers=headers, proxies=proxies, timeout=4)\n",
    "\n",
    "    print(response.json())\n",
    "\n",
    "    if response.status_code == 200:\n",
    "        id_group = set(response.json()[\"body\"][category].keys())\n",
    "        return id_group"
   ]
  },
  {
   "cell_type": "code",
   "execution_count": 5,
   "metadata": {},
   "outputs": [
    {
     "name": "stdout",
     "output_type": "stream",
     "text": [
      "{'error': False, 'message': '', 'body': {'illusts': {'81225309': None, '78834571': None, '73521542': None, '70052155': None, '70024717': None, '69998496': None, '66355934': None, '64089360': None, '60474023': None, '58420472': None, '56471514': None, '54724406': None, '53859115': None, '51455457': None, '47749401': None, '44982128': None, '31957654': None}, 'manga': {'103686781': None, '100082808': None, '89532917': None, '81225213': None, '81225091': None, '78336518': None, '76053184': None, '72066662': None, '69998409': None, '66355845': None, '64089303': None, '60575412': None, '57988139': None, '53969876': None, '51907682': None, '44982929': None, '40466977': None, '37435957': None, '32202507': None}, 'novels': [], 'mangaSeries': [], 'novelSeries': [], 'pickup': [{'id': '103686781', 'title': 'C101新刊「性教育シリーズ総集編2」', 'illustType': 1, 'xRestrict': 1, 'restrict': 0, 'sl': 6, 'url': 'https://i.pximg.net/c/288x288_80_a2/img-master/img/2022/12/17/23/29/50/103686781_p0_square1200.jpg', 'description': 'サークルみくろぺえじ\\u3000二日目(３１日)東A-17a\\u3000当日は2000円＋おまけ本で頒布予定。<br />虎の穴  <a href=\"/jump.php?https%3A%2F%2Fec.toranoana.jp%2Ftora_r%2Fec%2Fitem%2F040031031805\" target=\"_blank\">https://ec.toranoana.jp/tora_r/ec/item/040031031805</a><br />メロンブックス <a href=\"/jump.php?https%3A%2F%2Fwww.melonbooks.co.jp%2Fdetail%2Fdetail.php%3Fproduct_id%3D1725318\" target=\"_blank\">https://www.melonbooks.co.jp/detail/detail.php?product_id=1725318</a><br /><br />描きおろし30P収録、電子版も予定してます。よろしくお願いします！', 'tags': ['R-18', '漫画', 'JC', '性教育', '尻神様', '足裏', '乳吸い', 'NTR'], 'userId': '3094189', 'userName': 'みくろぺえじ', 'width': 800, 'height': 1133, 'pageCount': 10, 'isBookmarkable': True, 'bookmarkData': None, 'alt': '#JC C101新刊「性教育シリーズ総集編2」 - みくろぺえじ的漫画 #漫画 #性教育 #尻神様', 'titleCaptionTranslation': {'workTitle': None, 'workCaption': None}, 'createDate': '2022-12-17T23:29:50+09:00', 'updateDate': '2022-12-17T23:29:50+09:00', 'isUnlisted': False, 'isMasked': False, 'aiType': 1, 'urls': {'250x250': 'https://i.pximg.net/c/250x250_80_a2/img-master/img/2022/12/17/23/29/50/103686781_p0_square1200.jpg', '360x360': 'https://i.pximg.net/c/360x360_70/img-master/img/2022/12/17/23/29/50/103686781_p0_square1200.jpg', '540x540': 'https://i.pximg.net/c/540x540_70/img-master/img/2022/12/17/23/29/50/103686781_p0_square1200.jpg'}, 'type': 'illust', 'deletable': True, 'draggable': True, 'contentUrl': 'https://www.pixiv.net/artworks/103686781'}], 'bookmarkCount': {'public': {'illust': 1, 'novel': 0}, 'private': {'illust': 0, 'novel': 0}}, 'externalSiteWorksStatus': {'booth': True, 'sketch': False, 'vroidHub': False}, 'request': {'showRequestTab': False, 'showRequestSentTab': False, 'postWorks': {'artworks': [], 'novels': []}}}}\n",
      "{'103686781', '60575412', '32202507', '57988139', '81225213', '78336518', '66355845', '40466977', '37435957', '44982929', '72066662', '76053184', '69998409', '81225091', '89532917', '53969876', '64089303', '51907682', '100082808'}\n",
      "{'error': False, 'message': '', 'body': {'illusts': {'81225309': None, '78834571': None, '73521542': None, '70052155': None, '70024717': None, '69998496': None, '66355934': None, '64089360': None, '60474023': None, '58420472': None, '56471514': None, '54724406': None, '53859115': None, '51455457': None, '47749401': None, '44982128': None, '31957654': None}, 'manga': {'103686781': None, '100082808': None, '89532917': None, '81225213': None, '81225091': None, '78336518': None, '76053184': None, '72066662': None, '69998409': None, '66355845': None, '64089303': None, '60575412': None, '57988139': None, '53969876': None, '51907682': None, '44982929': None, '40466977': None, '37435957': None, '32202507': None}, 'novels': [], 'mangaSeries': [], 'novelSeries': [], 'pickup': [{'id': '103686781', 'title': 'C101新刊「性教育シリーズ総集編2」', 'illustType': 1, 'xRestrict': 1, 'restrict': 0, 'sl': 6, 'url': 'https://i.pximg.net/c/288x288_80_a2/img-master/img/2022/12/17/23/29/50/103686781_p0_square1200.jpg', 'description': 'サークルみくろぺえじ\\u3000二日目(３１日)東A-17a\\u3000当日は2000円＋おまけ本で頒布予定。<br />虎の穴  <a href=\"/jump.php?https%3A%2F%2Fec.toranoana.jp%2Ftora_r%2Fec%2Fitem%2F040031031805\" target=\"_blank\">https://ec.toranoana.jp/tora_r/ec/item/040031031805</a><br />メロンブックス <a href=\"/jump.php?https%3A%2F%2Fwww.melonbooks.co.jp%2Fdetail%2Fdetail.php%3Fproduct_id%3D1725318\" target=\"_blank\">https://www.melonbooks.co.jp/detail/detail.php?product_id=1725318</a><br /><br />描きおろし30P収録、電子版も予定してます。よろしくお願いします！', 'tags': ['R-18', '漫画', 'JC', '性教育', '尻神様', '足裏', '乳吸い', 'NTR'], 'userId': '3094189', 'userName': 'みくろぺえじ', 'width': 800, 'height': 1133, 'pageCount': 10, 'isBookmarkable': True, 'bookmarkData': None, 'alt': '#JC C101新刊「性教育シリーズ総集編2」 - みくろぺえじ的漫画 #漫画 #性教育 #尻神様', 'titleCaptionTranslation': {'workTitle': None, 'workCaption': None}, 'createDate': '2022-12-17T23:29:50+09:00', 'updateDate': '2022-12-17T23:29:50+09:00', 'isUnlisted': False, 'isMasked': False, 'aiType': 1, 'urls': {'250x250': 'https://i.pximg.net/c/250x250_80_a2/img-master/img/2022/12/17/23/29/50/103686781_p0_square1200.jpg', '360x360': 'https://i.pximg.net/c/360x360_70/img-master/img/2022/12/17/23/29/50/103686781_p0_square1200.jpg', '540x540': 'https://i.pximg.net/c/540x540_70/img-master/img/2022/12/17/23/29/50/103686781_p0_square1200.jpg'}, 'type': 'illust', 'deletable': True, 'draggable': True, 'contentUrl': 'https://www.pixiv.net/artworks/103686781'}], 'bookmarkCount': {'public': {'illust': 1, 'novel': 0}, 'private': {'illust': 0, 'novel': 0}}, 'externalSiteWorksStatus': {'booth': True, 'sketch': False, 'vroidHub': False}, 'request': {'showRequestTab': False, 'showRequestSentTab': False, 'postWorks': {'artworks': [], 'novels': []}}}}\n",
      "{'103686781', '60575412', '31957654', '32202507', '57988139', '81225213', '78336518', '66355845', '70052155', '56471514', '40466977', '54724406', '78834571', '70024717', '37435957', '44982929', '72066662', '76053184', '58420472', '69998409', '69998496', '81225091', '73521542', '89532917', '47749401', '60474023', '44982128', '53859115', '53969876', '66355934', '64089303', '51907682', '81225309', '64089360', '51455457', '100082808'}\n"
     ]
    }
   ],
   "source": [
    "artist_id = 3094189\n",
    "categorys = [\"manga\", \"illusts\"]\n",
    "id = 0\n",
    "\n",
    "id_group = set()\n",
    "\n",
    "for category in categorys:\n",
    "    id_group.update(fetch_artist_works(artist_id=artist_id, category=category))\n",
    "    print(id_group)\n",
    "    \n",
    "artist_artworks_ids_path = \"E:\\\\vscode_clustter\\\\code\\\\github\\\\Animate-Image-Bed\\\\utils\\\\crawler\\\\test\\\\jsons\\\\\"\n",
    "\n",
    "file_name = f\"{artist_id}-artworksID-collect.json\"\n",
    "\n",
    "artist_dict = {artist_id: list(id_group)}\n",
    "\n",
    "# 将字典保存到 JSON 文件中\n",
    "with open(artist_artworks_ids_path + file_name, \"w\", encoding=\"utf-8\") as json_file:\n",
    "    json.dump(artist_dict, json_file, ensure_ascii=False, indent=4)\n",
    "\n"
   ]
  },
  {
   "cell_type": "markdown",
   "metadata": {},
   "source": [
    "> - ### Download Images"
   ]
  },
  {
   "cell_type": "code",
   "execution_count": 6,
   "metadata": {},
   "outputs": [
    {
     "name": "stdout",
     "output_type": "stream",
     "text": [
      "===== collector start =====\n"
     ]
    },
    {
     "name": "stderr",
     "output_type": "stream",
     "text": [
      "collecting urls:   0%|          | 0/36 [00:00<?, ?it/s]"
     ]
    },
    {
     "name": "stderr",
     "output_type": "stream",
     "text": [
      "collecting urls:   3%|▎         | 1/36 [00:00<00:08,  3.92it/s]"
     ]
    },
    {
     "name": "stdout",
     "output_type": "stream",
     "text": [
      "url: https://www.pixiv.net/ajax/illust/103686781/pages?lang=zh , resp_code==200, collected Over !\n"
     ]
    },
    {
     "name": "stderr",
     "output_type": "stream",
     "text": [
      "collecting urls:   6%|▌         | 2/36 [00:00<00:08,  3.89it/s]"
     ]
    },
    {
     "name": "stdout",
     "output_type": "stream",
     "text": [
      "url: https://www.pixiv.net/ajax/illust/60575412/pages?lang=zh , resp_code==200, collected Over !\n"
     ]
    },
    {
     "name": "stderr",
     "output_type": "stream",
     "text": [
      "collecting urls:   8%|▊         | 3/36 [00:00<00:08,  4.00it/s]"
     ]
    },
    {
     "name": "stdout",
     "output_type": "stream",
     "text": [
      "url: https://www.pixiv.net/ajax/illust/31957654/pages?lang=zh , resp_code==200, collected Over !\n"
     ]
    },
    {
     "name": "stderr",
     "output_type": "stream",
     "text": [
      "collecting urls:  11%|█         | 4/36 [00:01<00:08,  3.99it/s]"
     ]
    },
    {
     "name": "stdout",
     "output_type": "stream",
     "text": [
      "url: https://www.pixiv.net/ajax/illust/32202507/pages?lang=zh , resp_code==200, collected Over !\n"
     ]
    },
    {
     "name": "stderr",
     "output_type": "stream",
     "text": [
      "collecting urls:  14%|█▍        | 5/36 [00:01<00:07,  3.91it/s]"
     ]
    },
    {
     "name": "stdout",
     "output_type": "stream",
     "text": [
      "url: https://www.pixiv.net/ajax/illust/57988139/pages?lang=zh , resp_code==200, collected Over !\n"
     ]
    },
    {
     "name": "stderr",
     "output_type": "stream",
     "text": [
      "collecting urls:  17%|█▋        | 6/36 [00:01<00:07,  3.76it/s]"
     ]
    },
    {
     "name": "stdout",
     "output_type": "stream",
     "text": [
      "url: https://www.pixiv.net/ajax/illust/81225213/pages?lang=zh , resp_code==200, collected Over !\n"
     ]
    },
    {
     "name": "stderr",
     "output_type": "stream",
     "text": [
      "collecting urls:  19%|█▉        | 7/36 [00:01<00:07,  3.76it/s]"
     ]
    },
    {
     "name": "stdout",
     "output_type": "stream",
     "text": [
      "url: https://www.pixiv.net/ajax/illust/78336518/pages?lang=zh , resp_code==200, collected Over !\n"
     ]
    },
    {
     "name": "stderr",
     "output_type": "stream",
     "text": [
      "collecting urls:  22%|██▏       | 8/36 [00:02<00:07,  3.66it/s]"
     ]
    },
    {
     "name": "stdout",
     "output_type": "stream",
     "text": [
      "url: https://www.pixiv.net/ajax/illust/66355845/pages?lang=zh , resp_code==200, collected Over !\n"
     ]
    },
    {
     "name": "stderr",
     "output_type": "stream",
     "text": [
      "collecting urls:  25%|██▌       | 9/36 [00:02<00:07,  3.67it/s]"
     ]
    },
    {
     "name": "stdout",
     "output_type": "stream",
     "text": [
      "url: https://www.pixiv.net/ajax/illust/70052155/pages?lang=zh , resp_code==200, collected Over !\n"
     ]
    },
    {
     "name": "stderr",
     "output_type": "stream",
     "text": [
      "collecting urls:  28%|██▊       | 10/36 [00:02<00:06,  3.81it/s]"
     ]
    },
    {
     "name": "stdout",
     "output_type": "stream",
     "text": [
      "url: https://www.pixiv.net/ajax/illust/56471514/pages?lang=zh , resp_code==200, collected Over !\n"
     ]
    },
    {
     "name": "stderr",
     "output_type": "stream",
     "text": [
      "collecting urls:  31%|███       | 11/36 [00:02<00:06,  3.79it/s]"
     ]
    },
    {
     "name": "stdout",
     "output_type": "stream",
     "text": [
      "url: https://www.pixiv.net/ajax/illust/40466977/pages?lang=zh , resp_code==200, collected Over !\n"
     ]
    },
    {
     "name": "stderr",
     "output_type": "stream",
     "text": [
      "collecting urls:  33%|███▎      | 12/36 [00:03<00:06,  3.80it/s]"
     ]
    },
    {
     "name": "stdout",
     "output_type": "stream",
     "text": [
      "url: https://www.pixiv.net/ajax/illust/54724406/pages?lang=zh , resp_code==200, collected Over !\n"
     ]
    },
    {
     "name": "stderr",
     "output_type": "stream",
     "text": [
      "collecting urls:  36%|███▌      | 13/36 [00:03<00:09,  2.50it/s]"
     ]
    },
    {
     "name": "stdout",
     "output_type": "stream",
     "text": [
      "url: https://www.pixiv.net/ajax/illust/78834571/pages?lang=zh , resp_code==200, collected Over !\n"
     ]
    },
    {
     "name": "stderr",
     "output_type": "stream",
     "text": [
      "collecting urls:  39%|███▉      | 14/36 [00:04<00:10,  2.07it/s]"
     ]
    },
    {
     "name": "stdout",
     "output_type": "stream",
     "text": [
      "url: https://www.pixiv.net/ajax/illust/70024717/pages?lang=zh , resp_code==200, collected Over !\n"
     ]
    },
    {
     "name": "stderr",
     "output_type": "stream",
     "text": [
      "collecting urls:  42%|████▏     | 15/36 [00:04<00:08,  2.39it/s]"
     ]
    },
    {
     "name": "stdout",
     "output_type": "stream",
     "text": [
      "url: https://www.pixiv.net/ajax/illust/37435957/pages?lang=zh , resp_code==200, collected Over !\n"
     ]
    },
    {
     "name": "stderr",
     "output_type": "stream",
     "text": [
      "collecting urls:  44%|████▍     | 16/36 [00:05<00:07,  2.69it/s]"
     ]
    },
    {
     "name": "stdout",
     "output_type": "stream",
     "text": [
      "url: https://www.pixiv.net/ajax/illust/44982929/pages?lang=zh , resp_code==200, collected Over !\n"
     ]
    },
    {
     "name": "stderr",
     "output_type": "stream",
     "text": [
      "collecting urls:  47%|████▋     | 17/36 [00:05<00:06,  2.90it/s]"
     ]
    },
    {
     "name": "stdout",
     "output_type": "stream",
     "text": [
      "url: https://www.pixiv.net/ajax/illust/72066662/pages?lang=zh , resp_code==200, collected Over !\n"
     ]
    },
    {
     "name": "stderr",
     "output_type": "stream",
     "text": [
      "collecting urls:  50%|█████     | 18/36 [00:05<00:05,  3.12it/s]"
     ]
    },
    {
     "name": "stdout",
     "output_type": "stream",
     "text": [
      "url: https://www.pixiv.net/ajax/illust/76053184/pages?lang=zh , resp_code==200, collected Over !\n"
     ]
    },
    {
     "name": "stderr",
     "output_type": "stream",
     "text": [
      "collecting urls:  53%|█████▎    | 19/36 [00:05<00:05,  3.29it/s]"
     ]
    },
    {
     "name": "stdout",
     "output_type": "stream",
     "text": [
      "url: https://www.pixiv.net/ajax/illust/58420472/pages?lang=zh , resp_code==200, collected Over !\n"
     ]
    },
    {
     "name": "stderr",
     "output_type": "stream",
     "text": [
      "collecting urls:  56%|█████▌    | 20/36 [00:06<00:04,  3.46it/s]"
     ]
    },
    {
     "name": "stdout",
     "output_type": "stream",
     "text": [
      "url: https://www.pixiv.net/ajax/illust/69998409/pages?lang=zh , resp_code==200, collected Over !\n"
     ]
    },
    {
     "name": "stderr",
     "output_type": "stream",
     "text": [
      "collecting urls:  58%|█████▊    | 21/36 [00:06<00:04,  3.57it/s]"
     ]
    },
    {
     "name": "stdout",
     "output_type": "stream",
     "text": [
      "url: https://www.pixiv.net/ajax/illust/69998496/pages?lang=zh , resp_code==200, collected Over !\n"
     ]
    },
    {
     "name": "stderr",
     "output_type": "stream",
     "text": [
      "collecting urls:  61%|██████    | 22/36 [00:06<00:03,  3.61it/s]"
     ]
    },
    {
     "name": "stdout",
     "output_type": "stream",
     "text": [
      "url: https://www.pixiv.net/ajax/illust/81225091/pages?lang=zh , resp_code==200, collected Over !\n"
     ]
    },
    {
     "name": "stderr",
     "output_type": "stream",
     "text": [
      "collecting urls:  64%|██████▍   | 23/36 [00:06<00:03,  3.61it/s]"
     ]
    },
    {
     "name": "stdout",
     "output_type": "stream",
     "text": [
      "url: https://www.pixiv.net/ajax/illust/73521542/pages?lang=zh , resp_code==200, collected Over !\n"
     ]
    },
    {
     "name": "stderr",
     "output_type": "stream",
     "text": [
      "collecting urls:  67%|██████▋   | 24/36 [00:07<00:03,  3.08it/s]"
     ]
    },
    {
     "name": "stdout",
     "output_type": "stream",
     "text": [
      "url: https://www.pixiv.net/ajax/illust/89532917/pages?lang=zh , resp_code==200, collected Over !\n"
     ]
    },
    {
     "name": "stderr",
     "output_type": "stream",
     "text": [
      "collecting urls:  69%|██████▉   | 25/36 [00:07<00:03,  3.32it/s]"
     ]
    },
    {
     "name": "stdout",
     "output_type": "stream",
     "text": [
      "url: https://www.pixiv.net/ajax/illust/47749401/pages?lang=zh , resp_code==200, collected Over !\n"
     ]
    },
    {
     "name": "stderr",
     "output_type": "stream",
     "text": [
      "collecting urls:  72%|███████▏  | 26/36 [00:07<00:02,  3.46it/s]"
     ]
    },
    {
     "name": "stdout",
     "output_type": "stream",
     "text": [
      "url: https://www.pixiv.net/ajax/illust/60474023/pages?lang=zh , resp_code==200, collected Over !\n"
     ]
    },
    {
     "name": "stderr",
     "output_type": "stream",
     "text": [
      "collecting urls:  75%|███████▌  | 27/36 [00:08<00:02,  3.51it/s]"
     ]
    },
    {
     "name": "stdout",
     "output_type": "stream",
     "text": [
      "url: https://www.pixiv.net/ajax/illust/44982128/pages?lang=zh , resp_code==200, collected Over !\n"
     ]
    },
    {
     "name": "stderr",
     "output_type": "stream",
     "text": [
      "collecting urls:  78%|███████▊  | 28/36 [00:08<00:02,  3.62it/s]"
     ]
    },
    {
     "name": "stdout",
     "output_type": "stream",
     "text": [
      "url: https://www.pixiv.net/ajax/illust/53859115/pages?lang=zh , resp_code==200, collected Over !\n"
     ]
    },
    {
     "name": "stderr",
     "output_type": "stream",
     "text": [
      "collecting urls:  81%|████████  | 29/36 [00:08<00:01,  3.62it/s]"
     ]
    },
    {
     "name": "stdout",
     "output_type": "stream",
     "text": [
      "url: https://www.pixiv.net/ajax/illust/53969876/pages?lang=zh , resp_code==200, collected Over !\n"
     ]
    },
    {
     "name": "stderr",
     "output_type": "stream",
     "text": [
      "collecting urls:  83%|████████▎ | 30/36 [00:08<00:01,  3.65it/s]"
     ]
    },
    {
     "name": "stdout",
     "output_type": "stream",
     "text": [
      "url: https://www.pixiv.net/ajax/illust/66355934/pages?lang=zh , resp_code==200, collected Over !\n"
     ]
    },
    {
     "name": "stderr",
     "output_type": "stream",
     "text": [
      "collecting urls:  86%|████████▌ | 31/36 [00:09<00:01,  2.59it/s]"
     ]
    },
    {
     "name": "stdout",
     "output_type": "stream",
     "text": [
      "url: https://www.pixiv.net/ajax/illust/64089303/pages?lang=zh , resp_code==200, collected Over !\n"
     ]
    },
    {
     "name": "stderr",
     "output_type": "stream",
     "text": [
      "collecting urls:  89%|████████▉ | 32/36 [00:09<00:01,  2.92it/s]"
     ]
    },
    {
     "name": "stdout",
     "output_type": "stream",
     "text": [
      "url: https://www.pixiv.net/ajax/illust/51907682/pages?lang=zh , resp_code==200, collected Over !\n"
     ]
    },
    {
     "name": "stderr",
     "output_type": "stream",
     "text": [
      "collecting urls:  92%|█████████▏| 33/36 [00:10<00:00,  3.11it/s]"
     ]
    },
    {
     "name": "stdout",
     "output_type": "stream",
     "text": [
      "url: https://www.pixiv.net/ajax/illust/81225309/pages?lang=zh , resp_code==200, collected Over !\n"
     ]
    },
    {
     "name": "stderr",
     "output_type": "stream",
     "text": [
      "collecting urls:  94%|█████████▍| 34/36 [00:10<00:00,  3.31it/s]"
     ]
    },
    {
     "name": "stdout",
     "output_type": "stream",
     "text": [
      "url: https://www.pixiv.net/ajax/illust/64089360/pages?lang=zh , resp_code==200, collected Over !\n"
     ]
    },
    {
     "name": "stderr",
     "output_type": "stream",
     "text": [
      "collecting urls:  97%|█████████▋| 35/36 [00:10<00:00,  3.37it/s]"
     ]
    },
    {
     "name": "stdout",
     "output_type": "stream",
     "text": [
      "url: https://www.pixiv.net/ajax/illust/51455457/pages?lang=zh , resp_code==200, collected Over !\n"
     ]
    },
    {
     "name": "stderr",
     "output_type": "stream",
     "text": [
      "collecting urls: 100%|██████████| 36/36 [00:11<00:00,  3.25it/s]"
     ]
    },
    {
     "name": "stdout",
     "output_type": "stream",
     "text": [
      "url: https://www.pixiv.net/ajax/illust/100082808/pages?lang=zh , resp_code==200, collected Over !\n"
     ]
    },
    {
     "name": "stderr",
     "output_type": "stream",
     "text": [
      "\n"
     ]
    }
   ],
   "source": [
    "print(\"===== collector start =====\")\n",
    "\n",
    "downloader = Downloader(capacity=1024)\n",
    "\n",
    "with tqdm(total=len(id_group), desc=\"collecting urls\") as pbar:\n",
    "    urls = [f\"https://www.pixiv.net/ajax/illust/{illust_id}/pages?lang=zh\"\n",
    "            for illust_id in id_group]\n",
    "    additional_headers = [\n",
    "        {\n",
    "            \"Referer\": f\"https://www.pixiv.net/artworks/{illust_id}\",\n",
    "            \"x-user-id\": \"56405112\",\n",
    "            \"COOKIE\": \"first_visit_datetime_pc=2022-03-23+09%3A05%3A13; p_ab_id=2; p_ab_id_2=6; p_ab_d_id=496637752; yuid_b=FnRJY4g; _fbp=fb.1.1647993926346.868094683; privacy_policy_notification=0; a_type=0; b_type=1; _im_vid=01FYT7DA0M1MG08GJSVD70BA7M; adr_id=lTzPqgTf6xmkSZZddeH8LhLHDKfx8OJsbbCpSa4F8n6kESK0; login_ever=yes; _td=e09e84b3-b5d0-4284-8cbc-fe6a9605154a; _ga_692MXKN5XF=GS1.1.1665973029.1.0.1665973029.0.0.0; cto_bundle=MeOqNl9aSyUyRkklMkJFcFJ5WCUyQlNzZkozQTFYSVpESHZCRiUyRm83QWZ3aTdmNEVIbG9FRWkxUUlIbDl0eiUyQnZlRmU3SWo0d1VLMGFFMks1M0dXWnA4OFBhMkNhcjJGQ3Rjakl3JTJGc3lwcU5ZV1NiY0RMbSUyQmQ0aEVZY0J4TnM0RiUyRnBEJTJGcVJPeSUyQkwyWTAwUmFvNmQyV3R5QlRnN2RXSFFYUSUzRCUzRA; _im_uid.3929=i.HNTUXPphRC6Tos5lngHwCA; c_type=21; privacy_policy_agreement=6; __gads=ID=e032ebe84fc5b362:T=1696335939:RT=1696335939:S=ALNI_MYk8hTGJ0JVZ08XHPJ1chcTiPcYZQ; __gpi=UID=00000c56c30e862e:T=1696335939:RT=1696335939:S=ALNI_MZ0J6EZLNM_IHlenurDDcoh0qn7tw; _ga_ZQEKG3EF2C=GS1.1.1696335939.1.0.1696335941.58.0.0; __utmv=235335808.|2=login%20ever=yes=1^3=plan=normal=1^5=gender=male=1^6=user_id=56405112=1^9=p_ab_id=2=1^10=p_ab_id_2=6=1^11=lang=zh=1; _gcl_au=1.1.2068989696.1697797468; PHPSESSID=56405112_5F6NwBp0ibUH6FuPbdq8P8dKXRrJiakY; device_token=d9e66683eee3c683671ce6dd45961915; _ga_MZ1NL4PHH0=GS1.1.1698243034.3.1.1698243060.0.0.0; __utmz=235335808.1698489562.713.11.utmcsr=google|utmccn=(organic)|utmcmd=organic|utmctr=(not%20provided); QSI_S_ZN_5hF4My7Ad6VNNAi=v:0:0; _gid=GA1.2.73441192.1699788507; __utma=235335808.740189076.1647993924.1699936938.1699944133.746; _ga_ZPL8LPMDK3=GS1.1.1699945764.19.1.1699945776.0.0.0; __cf_bm=o75a_dxEYYH.70c_3Bc9l9kcnQ21g9q8qLYL8Cwim7E-1699947948-0-Ado847VODjuEbsuWh1d73rDUAUzc7NV4HSqPNkf4uDbtOq43lk4n0Iadho7XiG9BJqfShmOiyQ0SBKCLFsD9oftUNIV83XaDN3sMnjCMy9C9; __utmc=235335808; __utmt=1; cf_clearance=tKGeitoxfXwmrHstKob0LLLWi8vTys7CS5e3PwnggmI-1699948192-0-1-631cd866.945ac2d7.341d8786-0.2.1699948192; __utmb=235335808.54.10.1699944133; _ga_75BBYNYN9J=GS1.1.1699944133.496.1.1699948282.0.0.0; _ga=GA1.2.740189076.1647993924\"\n",
    "        }\n",
    "        for illust_id in id_group]\n",
    "\n",
    "    for url, add_headers in zip(urls, additional_headers):\n",
    "\n",
    "        headers = {\n",
    "            \"User-Agent\": \"Mozilla/5.0 (Windows NT 10.0; Win64; x64) AppleWebKit/537.36 (KHTML, like Gecko) Chrome/101.0.4951.54 Safari/537.36\",\n",
    "        }\n",
    "\n",
    "        headers.update(add_headers)\n",
    "\n",
    "        proxies = {\n",
    "            \"https\": \"127.0.0.1:7890\"\n",
    "        }\n",
    "\n",
    "        response = requests.get(\n",
    "                        url, headers=headers,\n",
    "                        proxies=proxies,\n",
    "                        timeout=4)\n",
    "\n",
    "        # 获取 JSON 内容\n",
    "        json_content = response.json()\n",
    "\n",
    "        # 指定保存路径和文件名\n",
    "        save_path = \"E://vscode_clustter//code//github//Animate-Image-Bed//utils//crawler//test//jsons//re.json\"\n",
    "\n",
    "        # 将 JSON 内容保存到文件\n",
    "        with open(save_path, \"w\", encoding=\"utf-8\") as json_file:\n",
    "            json.dump(json_content, json_file, ensure_ascii=False, indent=4)\n",
    "\n",
    "        if response.status_code == 200:\n",
    "            print(f\"url: {url} , resp_code==200, collected Over !\" )\n",
    "            # 因为一个作品可能有多个img ，所以要进行归一化\n",
    "            collected_urls = set()\n",
    "            for url in response.json()[\"body\"]:\n",
    "                collected_urls.add(url[\"urls\"][\"original\"])\n",
    "        \n",
    "        if collected_urls is not None:\n",
    "            downloader.add(collected_urls)\n",
    "        pbar.update()"
   ]
  },
  {
   "cell_type": "code",
   "execution_count": 7,
   "metadata": {},
   "outputs": [
    {
     "name": "stdout",
     "output_type": "stream",
     "text": [
      "===== download start =====\n",
      "[INFO]: ===== downloader start =====\n"
     ]
    },
    {
     "name": "stderr",
     "output_type": "stream",
     "text": [
      "downloading / flow 195.13MB: 100%|██████████| 171/171 [06:17<00:00,  2.21s/it]"
     ]
    },
    {
     "name": "stdout",
     "output_type": "stream",
     "text": [
      "[INFO]: ===== downloader complete =====\n"
     ]
    },
    {
     "name": "stderr",
     "output_type": "stream",
     "text": [
      "\n"
     ]
    },
    {
     "data": {
      "text/plain": [
       "195.12665462493896"
      ]
     },
     "execution_count": 7,
     "metadata": {},
     "output_type": "execute_result"
    }
   ],
   "source": [
    "print(\"===== download start =====\")\n",
    "downloader.download()"
   ]
  }
 ],
 "metadata": {
  "kernelspec": {
   "display_name": "base",
   "language": "python",
   "name": "python3"
  },
  "language_info": {
   "codemirror_mode": {
    "name": "ipython",
    "version": 3
   },
   "file_extension": ".py",
   "mimetype": "text/x-python",
   "name": "python",
   "nbconvert_exporter": "python",
   "pygments_lexer": "ipython3",
   "version": "3.9.13"
  }
 },
 "nbformat": 4,
 "nbformat_minor": 2
}
