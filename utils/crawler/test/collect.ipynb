{
 "cells": [
  {
   "cell_type": "markdown",
   "metadata": {},
   "source": [
    "# Pixiv Craw"
   ]
  },
  {
   "cell_type": "markdown",
   "metadata": {},
   "source": [
    "> - ### import repos"
   ]
  },
  {
   "cell_type": "code",
   "execution_count": 6,
   "metadata": {},
   "outputs": [
    {
     "ename": "ModuleNotFoundError",
     "evalue": "No module named 'pixiv_crawler'",
     "output_type": "error",
     "traceback": [
      "\u001b[1;31m---------------------------------------------------------------------------\u001b[0m",
      "\u001b[1;31mModuleNotFoundError\u001b[0m                       Traceback (most recent call last)",
      "\u001b[1;32m~\\AppData\\Local\\Temp\\ipykernel_4048\\1693157940.py\u001b[0m in \u001b[0;36m<module>\u001b[1;34m\u001b[0m\n\u001b[0;32m      5\u001b[0m \u001b[1;32mimport\u001b[0m \u001b[0mos\u001b[0m\u001b[1;33m\u001b[0m\u001b[1;33m\u001b[0m\u001b[0m\n\u001b[0;32m      6\u001b[0m \u001b[1;33m\u001b[0m\u001b[0m\n\u001b[1;32m----> 7\u001b[1;33m \u001b[1;32mfrom\u001b[0m \u001b[0mpixiv_crawler\u001b[0m\u001b[1;33m.\u001b[0m\u001b[0mdownloader\u001b[0m\u001b[1;33m.\u001b[0m\u001b[0mdownloader\u001b[0m \u001b[1;32mimport\u001b[0m \u001b[0mDownloader\u001b[0m\u001b[1;33m\u001b[0m\u001b[1;33m\u001b[0m\u001b[0m\n\u001b[0m",
      "\u001b[1;31mModuleNotFoundError\u001b[0m: No module named 'pixiv_crawler'"
     ]
    }
   ],
   "source": [
    "import requests\n",
    "import json\n",
    "import tqdm\n",
    "import sys\n",
    "import os\n",
    "\n",
    "from pixiv_crawler.downloader.downloader import Downloader"
   ]
  },
  {
   "cell_type": "markdown",
   "metadata": {},
   "source": [
    "> - ### 按照artist的id来craw"
   ]
  },
  {
   "cell_type": "code",
   "execution_count": 3,
   "metadata": {},
   "outputs": [
    {
     "name": "stdout",
     "output_type": "stream",
     "text": [
      "{'87687466', '101427562', '95958470', '96365286', '104617704', '102891245', '103463602', '92476106', '98932757', '98550289', '92207857', '99886477', '91871710', '92959544', '93121344', '87572388', '110199926', '100378602', '99133046', '94585702', '88328149', '107771986', '94062554', '100010460', '89278103', '105700569', '113267922', '89568243', '104379257', '99791155', '97377943', '111856201', '110081030', '93893858', '98821902', '113379440', '89990681', '87337137', '112075751', '87032566', '92145810', '110227349', '106949025', '98977740', '89061568', '87500623', '95788906', '107109191', '102294495', '86975798', '105463030', '87066632', '100682831', '94253241', '109824569', '109240511', '111829201', '95436621', '110701000', '92808903', '91536956', '88471394', '105905063', '111906703', '95650841', '94773167', '111882322', '111007201', '93504232', '88416327', '111796121', '101082287', '91307722', '103223081', '96244116', '88879047', '102754167', '96093150', '105140545', '94954352', '97467759', '87140847', '87066478', '107322802', '86945911', '111636802', '91374899', '103302905', '89809340', '92078243', '97916894', '100204812', '87527376', '105046651', '86903572', '98175121', '93352262', '110915681', '102223690', '98871521', '95338618', '110311469', '98273189', '87250287', '96556330', '110823006', '93607076', '108428418', '87889881', '97280397', '97020476', '106083061', '110433667', '93983800', '87272554', '98313826', '100751356', '97689093', '108151153', '109365399', '104406969'}\n"
     ]
    }
   ],
   "source": [
    "artist_id = 63608651\n",
    "\n",
    "url = f\"https://www.pixiv.net/ajax/user/{artist_id}/profile/all?lang=zh\"\n",
    "\n",
    "additional_headers = {\n",
    "    \"Referer\": f\"https://www.pixiv.net/users/{artist_id}/illustrations\",\n",
    "    \"x-user-id\": \"56405112\",\n",
    "    \"COOKIE\": \"first_visit_datetime_pc=2022-03-23+09%3A05%3A13; p_ab_id=2; p_ab_id_2=6; p_ab_d_id=496637752; yuid_b=FnRJY4g; _fbp=fb.1.1647993926346.868094683; privacy_policy_notification=0; a_type=0; b_type=1; _im_vid=01FYT7DA0M1MG08GJSVD70BA7M; adr_id=lTzPqgTf6xmkSZZddeH8LhLHDKfx8OJsbbCpSa4F8n6kESK0; login_ever=yes; _td=e09e84b3-b5d0-4284-8cbc-fe6a9605154a; _ga_692MXKN5XF=GS1.1.1665973029.1.0.1665973029.0.0.0; cto_bundle=MeOqNl9aSyUyRkklMkJFcFJ5WCUyQlNzZkozQTFYSVpESHZCRiUyRm83QWZ3aTdmNEVIbG9FRWkxUUlIbDl0eiUyQnZlRmU3SWo0d1VLMGFFMks1M0dXWnA4OFBhMkNhcjJGQ3Rjakl3JTJGc3lwcU5ZV1NiY0RMbSUyQmQ0aEVZY0J4TnM0RiUyRnBEJTJGcVJPeSUyQkwyWTAwUmFvNmQyV3R5QlRnN2RXSFFYUSUzRCUzRA; _im_uid.3929=i.HNTUXPphRC6Tos5lngHwCA; c_type=21; privacy_policy_agreement=6; __gads=ID=e032ebe84fc5b362:T=1696335939:RT=1696335939:S=ALNI_MYk8hTGJ0JVZ08XHPJ1chcTiPcYZQ; __gpi=UID=00000c56c30e862e:T=1696335939:RT=1696335939:S=ALNI_MZ0J6EZLNM_IHlenurDDcoh0qn7tw; _ga_ZQEKG3EF2C=GS1.1.1696335939.1.0.1696335941.58.0.0; __utmv=235335808.|2=login%20ever=yes=1^3=plan=normal=1^5=gender=male=1^6=user_id=56405112=1^9=p_ab_id=2=1^10=p_ab_id_2=6=1^11=lang=zh=1; _gcl_au=1.1.2068989696.1697797468; PHPSESSID=56405112_5F6NwBp0ibUH6FuPbdq8P8dKXRrJiakY; device_token=d9e66683eee3c683671ce6dd45961915; _ga_MZ1NL4PHH0=GS1.1.1698243034.3.1.1698243060.0.0.0; __utmz=235335808.1698489562.713.11.utmcsr=google|utmccn=(organic)|utmcmd=organic|utmctr=(not%20provided); QSI_S_ZN_5hF4My7Ad6VNNAi=v:0:0; _gid=GA1.2.73441192.1699788507; _ga_ZPL8LPMDK3=GS1.1.1699930329.18.1.1699930357.0.0.0; __cf_bm=X67SFTFNe9KvEzK6AxS96ftfSVWEqcIgua.4.3EcMVc-1699935025-0-AfkUhf87pN2+siqG5r1YvGpphK/bajDCL09AvrYlnYhvxsux9sdfZQIN8W3Ha3ztxG0ErV0mnsKzNjCErKsxohNNrRGurEMD/KweXvYGAHlI; __utma=235335808.740189076.1647993924.1699930321.1699935028.744; __utmc=235335808; __utmt=1; cf_clearance=SJHsrjUq5DYhRK8AO2UWSsB.5pZbPWf68VmswfYjLVA-1699935773-0-1-631cd866.8b0b9526.341d8786-0.2.1699935773; _ga=GA1.2.740189076.1647993924; __utmb=235335808.16.10.1699935028; _ga_75BBYNYN9J=GS1.1.1699935028.495.1.1699936337.0.0.0\"\n",
    "}\n",
    "\n",
    "headers = {\n",
    "    \"User-Agent\": \"Mozilla/5.0 (Windows NT 10.0; Win64; x64) AppleWebKit/537.36 (KHTML, like Gecko) Chrome/101.0.4951.54 Safari/537.36\",\n",
    "}\n",
    "\n",
    "headers.update(additional_headers)\n",
    "\n",
    "proxies = {\n",
    "    \"https\": \"127.0.0.1:7890\"\n",
    "}\n",
    "\n",
    "response = requests.get(\n",
    "                url, headers=headers,\n",
    "                proxies=proxies,\n",
    "                timeout=4)\n",
    "if response.status_code == 200:\n",
    "    id_group = set(response.json()[\"body\"][\"illusts\"].keys())\n",
    "    print(id_group)\n",
    "    \n",
    "artist_artworks_ids_path = \"E:\\\\vscode_clustter\\\\code\\\\github\\\\Animate-Image-Bed\\\\utils\\\\crawler\\\\test\\\\jsons\\\\\"\n",
    "\n",
    "file_name = f\"{artist_id}-artworksID-collect.json\"\n",
    "\n",
    "artist_dict = {artist_id: list(id_group)}\n",
    "\n",
    "# 将字典保存到 JSON 文件中\n",
    "with open(artist_artworks_ids_path + file_name, \"w\", encoding=\"utf-8\") as json_file:\n",
    "    json.dump(artist_dict, json_file, ensure_ascii=False, indent=4)\n",
    "\n"
   ]
  },
  {
   "cell_type": "markdown",
   "metadata": {},
   "source": [
    "> - ### Download Images"
   ]
  },
  {
   "cell_type": "code",
   "execution_count": null,
   "metadata": {},
   "outputs": [],
   "source": [
    "print(\"===== collector start =====\")\n",
    "\n",
    "downloader = Downloader(capacity=1024)\n",
    "\n",
    "with tqdm(total=len(id_group), desc=\"collecting urls\") as pbar:\n",
    "    urls = [f\"https://www.pixiv.net/ajax/illust/{illust_id}/pages?lang=zh\"\n",
    "            for illust_id in id_group]\n",
    "    additional_headers = [\n",
    "        {\n",
    "            \"Referer\": f\"https://www.pixiv.net/artworks/{illust_id}\",\n",
    "            \"x-user-id\": \"56405112\"\n",
    "        }\n",
    "        for illust_id in id_group]\n",
    "\n",
    "    for url, add_headers in zip(urls, additional_headers):\n",
    "\n",
    "        headers = {\n",
    "            \"User-Agent\": \"Mozilla/5.0 (Windows NT 10.0; Win64; x64) AppleWebKit/537.36 (KHTML, like Gecko) Chrome/101.0.4951.54 Safari/537.36\",\n",
    "        }\n",
    "\n",
    "        headers.update(add_headers)\n",
    "\n",
    "        proxies = {\n",
    "            \"https\": \"127.0.0.1:7890\"\n",
    "        }\n",
    "\n",
    "        response = requests.get(\n",
    "                        url, headers=headers,\n",
    "                        proxies=proxies,\n",
    "                        timeout=4)\n",
    "        \n",
    "        if response.status_code == 200:\n",
    "            group = set()\n",
    "            for url in response.json()[\"body\"]:\n",
    "                group.add(url[\"urls\"][\"original\"])\n",
    "            collected_urls = set(response.json()[\"body\"][\"illusts\"].keys())\n",
    "        \n",
    "        if collected_urls is not None:\n",
    "            downloader.add(collected_urls)\n",
    "        pbar.update()\n"
   ]
  }
 ],
 "metadata": {
  "kernelspec": {
   "display_name": "base",
   "language": "python",
   "name": "python3"
  },
  "language_info": {
   "codemirror_mode": {
    "name": "ipython",
    "version": 3
   },
   "file_extension": ".py",
   "mimetype": "text/x-python",
   "name": "python",
   "nbconvert_exporter": "python",
   "pygments_lexer": "ipython3",
   "version": "3.9.13"
  }
 },
 "nbformat": 4,
 "nbformat_minor": 2
}
