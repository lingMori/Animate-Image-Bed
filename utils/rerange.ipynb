{
 "cells": [
  {
   "cell_type": "code",
   "execution_count": 1,
   "metadata": {},
   "outputs": [],
   "source": [
    "import io\n",
    "import os"
   ]
  },
  {
   "cell_type": "code",
   "execution_count": 3,
   "metadata": {},
   "outputs": [],
   "source": [
    "folder_path = \"../images\"\n",
    "\n",
    "\n",
    "# 获取所有子文件夹\n",
    "subfolders = [f.path for f in os.scandir(folder_path) if f.is_dir()]\n",
    "\n",
    "# 遍历每个子文件夹\n",
    "for subfolder in subfolders:\n",
    "    # 获取子文件夹内的所有文件\n",
    "    files = [f.name for f in os.scandir(subfolder) if f.is_file()]\n",
    "    \n",
    "    # 初始化序号\n",
    "    index = 1\n",
    "    \n",
    "    # 遍历文件\n",
    "    for file in files:\n",
    "        # 检查文件扩展名是否为.png或.jpg\n",
    "        if file.lower().endswith(('.png', '.jpg')):\n",
    "            # 构建新的文件名，例如：子文件夹-序号.png\n",
    "            new_name = f\"{os.path.basename(subfolder)}-{index}.{file.split('.')[-1]}\"\n",
    "            \n",
    "            # 构建旧文件和新文件的完整路径\n",
    "            old_path = os.path.join(subfolder, file)\n",
    "            new_path = os.path.join(subfolder, new_name)\n",
    "            \n",
    "            # 重命名文件\n",
    "            os.rename(old_path, new_path)\n",
    "            \n",
    "            # 增加序号\n",
    "            index += 1"
   ]
  }
 ],
 "metadata": {
  "kernelspec": {
   "display_name": "base",
   "language": "python",
   "name": "python3"
  },
  "language_info": {
   "codemirror_mode": {
    "name": "ipython",
    "version": 3
   },
   "file_extension": ".py",
   "mimetype": "text/x-python",
   "name": "python",
   "nbconvert_exporter": "python",
   "pygments_lexer": "ipython3",
   "version": "3.9.13"
  }
 },
 "nbformat": 4,
 "nbformat_minor": 2
}
